{
 "cells": [
  {
   "attachments": {},
   "cell_type": "markdown",
   "metadata": {},
   "source": [
    "Pour intégrer du code Python dans une application Swift, vous pouvez utiliser une bibliothèque appelée PythonKit. PythonKit est une bibliothèque open source qui vous permet d'intégrer facilement du code Python dans une application Swift.\n",
    "\n",
    "Voici les étapes générales à suivre pour intégrer PythonKit dans votre application Swift :\n",
    "\n",
    "1. Installez PythonKit en utilisant Swift Package Manager. Vous pouvez ajouter PythonKit à votre projet Swift en utilisant la commande suivante dans votre terminal :"
   ]
  },
  {
   "cell_type": "raw",
   "metadata": {},
   "source": [
    "swift package init --type executable"
   ]
  },
  {
   "attachments": {},
   "cell_type": "markdown",
   "metadata": {},
   "source": [
    "2. Importez PythonKit dans votre code Swift :"
   ]
  },
  {
   "cell_type": "raw",
   "metadata": {},
   "source": [
    "import PythonKit"
   ]
  },
  {
   "attachments": {},
   "cell_type": "markdown",
   "metadata": {},
   "source": [
    "3. Initialisez PythonKit :"
   ]
  },
  {
   "cell_type": "raw",
   "metadata": {},
   "source": [
    "PythonLibrary.useVersion(3, 7)"
   ]
  },
  {
   "attachments": {},
   "cell_type": "markdown",
   "metadata": {},
   "source": [
    "4. Utilisez PythonKit pour importer votre module Python :"
   ]
  },
  {
   "cell_type": "raw",
   "metadata": {},
   "source": [
    "let np = Python.import(\"numpy\")"
   ]
  },
  {
   "attachments": {},
   "cell_type": "markdown",
   "metadata": {},
   "source": [
    "5. Appelez les fonctions Python dans votre code Swift :"
   ]
  },
  {
   "cell_type": "raw",
   "metadata": {},
   "source": [
    "let a = np.array([1, 2, 3])\n",
    "print(a)"
   ]
  },
  {
   "attachments": {},
   "cell_type": "markdown",
   "metadata": {},
   "source": [
    "Il est important de noter que lorsque vous utilisez PythonKit pour intégrer du code Python dans une application Swift, vous devez vous assurer que les versions de Python que vous utilisez sont compatibles avec PythonKit. Vous pouvez utiliser la méthode PythonLibrary.useVersion() pour spécifier la version de Python que vous voulez utiliser."
   ]
  }
 ],
 "metadata": {
  "language_info": {
   "name": "python"
  },
  "orig_nbformat": 4
 },
 "nbformat": 4,
 "nbformat_minor": 2
}
