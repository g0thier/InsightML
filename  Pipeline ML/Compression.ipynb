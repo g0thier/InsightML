{
 "cells": [
  {
   "cell_type": "code",
   "execution_count": null,
   "metadata": {},
   "outputs": [],
   "source": [
    "import chardet\n",
    "import pandas as pd\n",
    "import ssl\n",
    "ssl._create_default_https_context = ssl._create_unverified_context\n"
   ]
  },
  {
   "cell_type": "code",
   "execution_count": null,
   "metadata": {},
   "outputs": [],
   "source": [
    "\n",
    "path_to_file = 'chemin/vers/fichier.csv'\n",
    "\n",
    "list_compressed = ['zlib', 'gzip', 'bz2', 'lzma', 'zipfile', 'tarfile']\n",
    "\n",
    "data = b''\n",
    "\n",
    "# Unzip dans les cas necessaire \n",
    "while path_to_file.split('.')[-1] in list_compressed:\n",
    "    extension = path_to_file.split('.')[-1]\n",
    "\n",
    "    if extension == 'zlib':\n",
    "        import zlib\n",
    "\n",
    "    elif extension == 'gzip':\n",
    "        import gzip \n",
    "\n",
    "    elif extension == 'bz2':\n",
    "        import bz2\n",
    "\n",
    "    elif extension == 'lzma':\n",
    "        import lzma    \n",
    "    \n",
    "    elif extension == 'zip':\n",
    "        import zipfile\n",
    "\n",
    "        with zipfile.ZipFile('fichier_compressé.zip', 'r') as archive:\n",
    "            # Extraire la liste des fichiers dans le fichier compressé\n",
    "            liste_fichiers = archive.namelist()\n",
    "\n",
    "            # Trouver le fichier le plus grand\n",
    "            fichier_plus_grand = max(liste_fichiers, key=lambda f: archive.getinfo(f).file_size)\n",
    "\n",
    "            # Extraire les données du fichier le plus grand\n",
    "            with archive.open(fichier_plus_grand, 'r') as fichier:\n",
    "                data = fichier.read()\n",
    "\n",
    "            # Extraire le nom et l'extension du fichier le plus grand\n",
    "            extension = fichier_plus_grand.split('.')[-1]\n",
    "\n",
    "    elif extension == 'tar':\n",
    "        import tarfile "
   ]
  },
  {
   "cell_type": "code",
   "execution_count": null,
   "metadata": {},
   "outputs": [],
   "source": [
    "# Detection du type d'encodage du fichier \n",
    "with open(path_to_file, 'rb') as f:\n",
    "    encoding_type = chardet.detect(f.read())['encoding']\n",
    "\n",
    "# Ouverture du fichier dans pandas.     \n",
    "df = pd.read_csv(path_to_file, encoding= encoding_type)"
   ]
  }
 ],
 "metadata": {
  "language_info": {
   "name": "python"
  },
  "orig_nbformat": 4
 },
 "nbformat": 4,
 "nbformat_minor": 2
}
