{
 "cells": [
  {
   "attachments": {},
   "cell_type": "markdown",
   "metadata": {},
   "source": [
    "# InsightML"
   ]
  },
  {
   "attachments": {},
   "cell_type": "markdown",
   "metadata": {},
   "source": [
    "## Préparation \n",
    "### Importation\n",
    "#### URL"
   ]
  },
  {
   "cell_type": "code",
   "execution_count": 2,
   "metadata": {},
   "outputs": [],
   "source": []
  },
  {
   "attachments": {},
   "cell_type": "markdown",
   "metadata": {},
   "source": [
    "#### Fichier\n",
    "L'importation par Fichier impose l'access au cloud de l'appareil"
   ]
  },
  {
   "attachments": {},
   "cell_type": "markdown",
   "metadata": {},
   "source": [
    "#### CSV\n",
    "Cas avec , ; | \\t \n",
    "Par la suite, il pourra s'ouvrir avec ...iterator=True, chunksize=1000\n",
    "#### Excel\n",
    "Feuille à utiliser. default 0 \n",
    "#### JSON\n",
    "Orient en column index ou record \n",
    "#### HDF5\n",
    "Peut s'ouvrir avec chunksize=1000, compression='gzip' ou 'lzf'\n",
    "#### (Option à long terme : SQL, Parquet, Feather, Pickle, HTML, XML)\n",
    "... "
   ]
  },
  {
   "attachments": {},
   "cell_type": "markdown",
   "metadata": {},
   "source": [
    "### EDA\n",
    "\n",
    "#### Colonnes & Lignes\n",
    "Supprimer + de 15 % de Nan\n",
    "Supprimer les lignes contenant trop d'informations manquantes.\n",
    "\n",
    "#### DateTime\n",
    "Convertir en UTC pour normaliser la date, \n",
    "Puis extraire : Year, Month, Day, Hour, Minute, Second, Microsecond.\n",
    "\n",
    "#### Int, Float\n",
    "Gérer comme des données catégoriels si moins de 8 valeurs différentes.\n",
    "Suppressions valeurs abérantes et loin de l'écart type. \n",
    "Supprimer les colonnes contenant trop d'informations manquantes. (% 10)\n",
    "\n",
    "\n",
    "#### Bool, Str \n",
    "Gérer comme des données numériques si que des chiffres.\n",
    "Remplacer les nulls par une valeur \"Manquante\"\n",
    "Réduire les termes à moins de 10 % en catégorie \"Autre\". \n",
    "Si la catégorie \"Autre\" fait moins de 5 % ou est l'unique catégorie restante, supprime la colonne. \n",
    "\n",
    "#### Lignes \n",
    "supression valeur aberante\n",
    "supprimer variables explicative ultra corrélées à + 90 %\n",
    "\n",
    "#### Par la suite\n",
    "Détecter format carte bancaire, etc. \n",
    "Convertir adresse en format lat.nlong\n",
    "Convertir les listes en catégories quand c'est possible.\n",
    "Differences entre les dates.\n",
    "..."
   ]
  },
  {
   "attachments": {},
   "cell_type": "markdown",
   "metadata": {},
   "source": [
    "### Regression \n",
    "\n",
    "#### Séparation variable explicative et target \n",
    "X\n",
    "Y\n",
    "\n",
    "#### Séparation en Entrainement & Test\n",
    "X_train X_test \n",
    "!!! Stratify si Y valeur catégoriel \n",
    "\n",
    "#### Régler déséquilibre dataset\n",
    "pour une différence supérieur à 10%, \n",
    "à noté par la suite qu'une meilleur approche est de faire attention :\n",
    "à la précision, le rappel, la F1-score et l'aire sous la courbe ROC. "
   ]
  },
  {
   "cell_type": "code",
   "execution_count": null,
   "metadata": {},
   "outputs": [],
   "source": [
    "from imblearn.under_sampling import RandomUnderSampler\n",
    "\n",
    "rUs=RandomUnderSampler()\n",
    "X_ru, y_ru = rUs.fit_resample(X_train,y_train)"
   ]
  },
  {
   "attachments": {},
   "cell_type": "markdown",
   "metadata": {},
   "source": [
    "#### Pipeline \n",
    "numeric_features, categorical_features, preprocessor, StandardScaler....\n",
    "\n",
    "#### Training Model \n",
    "Logistic Regression\n",
    "Linear Regression\n",
    "Random Forest Classifier\n",
    "Random Forest Classifier \n",
    "\n",
    "### Result \n",
    "\n",
    "#### Qualitatif (Classification)\n",
    "Accuracy \n",
    "\n",
    "#### Quantitatif (Numérique)\n",
    "R2\n",
    "\n",
    "#### Grid search : Random Forest Classifier\n",
    "Accuracy\n",
    "F1\n",
    "\n",
    "#### Grid search : Random Forest Regressor \n",
    "print('MAE: ', mean_absolute_error(y_test, y_pred))\n",
    "print('MSE: ', mean_squared_error(y_test, y_pred)) "
   ]
  },
  {
   "attachments": {},
   "cell_type": "markdown",
   "metadata": {},
   "source": [
    "## Affichage"
   ]
  }
 ],
 "metadata": {
  "kernelspec": {
   "display_name": "Python 3",
   "language": "python",
   "name": "python3"
  },
  "language_info": {
   "codemirror_mode": {
    "name": "ipython",
    "version": 3
   },
   "file_extension": ".py",
   "mimetype": "text/x-python",
   "name": "python",
   "nbconvert_exporter": "python",
   "pygments_lexer": "ipython3",
   "version": "3.9.5"
  },
  "orig_nbformat": 4
 },
 "nbformat": 4,
 "nbformat_minor": 2
}
