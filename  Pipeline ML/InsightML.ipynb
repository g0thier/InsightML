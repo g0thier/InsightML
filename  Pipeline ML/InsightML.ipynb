{
 "cells": [
  {
   "attachments": {},
   "cell_type": "markdown",
   "metadata": {},
   "source": [
    "# InsightML"
   ]
  },
  {
   "attachments": {},
   "cell_type": "markdown",
   "metadata": {},
   "source": [
    "## Library"
   ]
  },
  {
   "cell_type": "code",
   "execution_count": 26,
   "metadata": {},
   "outputs": [],
   "source": [
    "import chardet\n",
    "import csv\n",
    "import itertools\n",
    "import json\n",
    "import numpy as np\n",
    "import pandas as pd\n",
    "import pandas_flavor as pf\n",
    "import re\n",
    "import ssl\n",
    "import string\n",
    "ssl._create_default_https_context = ssl._create_unverified_context\n",
    "import time\n",
    "import warnings\n",
    "warnings.filterwarnings(\"ignore\", category=UserWarning, message=\"registration of accessor\")\n",
    "warnings.filterwarnings('ignore', category=pd.core.common.SettingWithCopyWarning)\n",
    "\n",
    "\n",
    "from sklearn.neighbors import LocalOutlierFactor\n",
    "\n",
    "from imblearn.under_sampling import RandomUnderSampler\n",
    "from sklearn import svm\n",
    "from sklearn.compose import ColumnTransformer\n",
    "from sklearn.ensemble import RandomForestClassifier, RandomForestRegressor\n",
    "from sklearn.impute import SimpleImputer\n",
    "from sklearn.linear_model import LogisticRegression, LinearRegression\n",
    "from sklearn.metrics import accuracy_score, r2_score\n",
    "from sklearn.model_selection import train_test_split, RandomizedSearchCV, GridSearchCV\n",
    "from sklearn.pipeline import Pipeline\n",
    "from sklearn.preprocessing import OneHotEncoder, StandardScaler\n",
    "\n",
    "import matplotlib.pyplot as plt\n",
    "import seaborn as sns\n",
    "from sklearn.metrics import confusion_matrix\n",
    "import plotly.express as px\n",
    "from plotly.subplots import make_subplots\n",
    "import plotly.graph_objs as go"
   ]
  },
  {
   "attachments": {},
   "cell_type": "markdown",
   "metadata": {},
   "source": [
    "## Magic Format"
   ]
  },
  {
   "cell_type": "code",
   "execution_count": 27,
   "metadata": {},
   "outputs": [],
   "source": [
    "\n",
    "def about_my_csv(filename):\n",
    "    try: \n",
    "        # Ouvrir le fichier en mode lecture et détecter le format de délimitation de colonne\n",
    "        with open(filename, 'r', newline='') as csvfile:\n",
    "            dialect = csv.Sniffer().sniff(csvfile.read(1024))\n",
    "        return dialect\n",
    "    except:\n",
    "        return None\n",
    "\n",
    "def about_my_data(filename):\n",
    "    # Déterminer le délimiteur\n",
    "    with open(filename, 'r') as f:\n",
    "        first_line = f.readline().rstrip('\\n')\n",
    "        # Utilisation de regex pour supprimer le contenu entre les guillemets\n",
    "        first_line = re.sub(r'([\"\\'])(?:\\\\\\1|.)*?\\1', '', first_line)\n",
    "        # Si il y a des espaces, c'est forcément entre deux colonnes\n",
    "        if ' ' in first_line:\n",
    "            delimiter = None\n",
    "            space = True\n",
    "        elif '\\t' in first_line:\n",
    "            delimiter = '\\t'\n",
    "            space = False\n",
    "        else:\n",
    "            delimiter = ','\n",
    "            space = False\n",
    "    return delimiter, space\n",
    "\n",
    "def about_my_xls(filename):\n",
    "    # Lire le fichier Excel en utilisant le module openpyxl et sans en-têtes de colonne\n",
    "    df_temp = pd.read_excel(filename, engine='openpyxl', header=None)\n",
    "    # Détecter le format de délimitation de colonne à l'aide de la fonction csv.Sniffer().sniff()\n",
    "    dialect = csv.Sniffer().sniff(df_temp.to_csv(index=False, header=False))\n",
    "    return dialect\n",
    "\n",
    "def about_my_json(filename):\n",
    "    # Lire le fichier Json pour récuperer la donnée\n",
    "    with open(filename, 'r') as f:\n",
    "        data = f.read()\n",
    "    # Détecter le format du fichier JSON\n",
    "    try:\n",
    "        json.loads(data)\n",
    "        orient = 'records'\n",
    "    except ValueError:\n",
    "        orient = 'columns'\n",
    "    return orient\n",
    "\n",
    "def about_my_h5(filename):\n",
    "    # Lire les clés disponibles dans le fichier HDF5\n",
    "    with pd.HDFStore(filename, mode='r') as store:\n",
    "        keys = store.keys()\n",
    "\n",
    "    # Trouver la clé correspondant au plus grand ensemble de données\n",
    "    max_size = 0\n",
    "    max_key = None\n",
    "    for key in keys:\n",
    "        size = pd.read_hdf(filename, key=key, stop=0).memory_usage(index=True, deep=True).sum()\n",
    "        if size > max_size:\n",
    "            max_size = size\n",
    "            max_key = key\n",
    "    return max_key\n",
    "\n",
    "def rename_my_data(df):\n",
    "    # Renommer les colonnes de AA à ZZ\n",
    "    new_columns = {}\n",
    "    for i, col in enumerate(df.columns):\n",
    "        first_letter = string.ascii_uppercase[i // 26 - 1] if i >= 26 else ''\n",
    "        second_letter = string.ascii_uppercase[i % 26]\n",
    "        new_col_name = first_letter + second_letter if first_letter else second_letter\n",
    "        new_columns[col] = new_col_name\n",
    "\n",
    "    df = df.rename(columns=new_columns)\n",
    "    return df\n"
   ]
  },
  {
   "attachments": {},
   "cell_type": "markdown",
   "metadata": {},
   "source": [
    "## Importation"
   ]
  },
  {
   "cell_type": "code",
   "execution_count": 28,
   "metadata": {},
   "outputs": [
    {
     "name": "stdout",
     "output_type": "stream",
     "text": [
      "Taille du dataset \"UCI_HAR_Dataset.csv\" : (7352, 563)\n"
     ]
    },
    {
     "data": {
      "text/html": [
       "<div>\n",
       "<style scoped>\n",
       "    .dataframe tbody tr th:only-of-type {\n",
       "        vertical-align: middle;\n",
       "    }\n",
       "\n",
       "    .dataframe tbody tr th {\n",
       "        vertical-align: top;\n",
       "    }\n",
       "\n",
       "    .dataframe thead th {\n",
       "        text-align: right;\n",
       "    }\n",
       "</style>\n",
       "<table border=\"1\" class=\"dataframe\">\n",
       "  <thead>\n",
       "    <tr style=\"text-align: right;\">\n",
       "      <th></th>\n",
       "      <th>Unnamed: 0</th>\n",
       "      <th>A</th>\n",
       "      <th>B</th>\n",
       "      <th>C</th>\n",
       "      <th>D</th>\n",
       "      <th>E</th>\n",
       "      <th>F</th>\n",
       "      <th>G</th>\n",
       "      <th>H</th>\n",
       "      <th>I</th>\n",
       "      <th>...</th>\n",
       "      <th>UG</th>\n",
       "      <th>UH</th>\n",
       "      <th>UI</th>\n",
       "      <th>UJ</th>\n",
       "      <th>UK</th>\n",
       "      <th>UL</th>\n",
       "      <th>UM</th>\n",
       "      <th>UN</th>\n",
       "      <th>UO</th>\n",
       "      <th>target</th>\n",
       "    </tr>\n",
       "  </thead>\n",
       "  <tbody>\n",
       "    <tr>\n",
       "      <th>0</th>\n",
       "      <td>0</td>\n",
       "      <td>0.288585</td>\n",
       "      <td>-0.020294</td>\n",
       "      <td>-0.132905</td>\n",
       "      <td>-0.995279</td>\n",
       "      <td>-0.983111</td>\n",
       "      <td>-0.913526</td>\n",
       "      <td>-0.995112</td>\n",
       "      <td>-0.983185</td>\n",
       "      <td>-0.923527</td>\n",
       "      <td>...</td>\n",
       "      <td>-0.298676</td>\n",
       "      <td>-0.710304</td>\n",
       "      <td>-0.112754</td>\n",
       "      <td>0.030400</td>\n",
       "      <td>-0.464761</td>\n",
       "      <td>-0.018446</td>\n",
       "      <td>-0.841247</td>\n",
       "      <td>0.179941</td>\n",
       "      <td>-0.058627</td>\n",
       "      <td>5</td>\n",
       "    </tr>\n",
       "    <tr>\n",
       "      <th>1</th>\n",
       "      <td>1</td>\n",
       "      <td>0.278419</td>\n",
       "      <td>-0.016411</td>\n",
       "      <td>-0.123520</td>\n",
       "      <td>-0.998245</td>\n",
       "      <td>-0.975300</td>\n",
       "      <td>-0.960322</td>\n",
       "      <td>-0.998807</td>\n",
       "      <td>-0.974914</td>\n",
       "      <td>-0.957686</td>\n",
       "      <td>...</td>\n",
       "      <td>-0.595051</td>\n",
       "      <td>-0.861499</td>\n",
       "      <td>0.053477</td>\n",
       "      <td>-0.007435</td>\n",
       "      <td>-0.732626</td>\n",
       "      <td>0.703511</td>\n",
       "      <td>-0.844788</td>\n",
       "      <td>0.180289</td>\n",
       "      <td>-0.054317</td>\n",
       "      <td>5</td>\n",
       "    </tr>\n",
       "    <tr>\n",
       "      <th>2</th>\n",
       "      <td>2</td>\n",
       "      <td>0.279653</td>\n",
       "      <td>-0.019467</td>\n",
       "      <td>-0.113462</td>\n",
       "      <td>-0.995380</td>\n",
       "      <td>-0.967187</td>\n",
       "      <td>-0.978944</td>\n",
       "      <td>-0.996520</td>\n",
       "      <td>-0.963668</td>\n",
       "      <td>-0.977469</td>\n",
       "      <td>...</td>\n",
       "      <td>-0.390748</td>\n",
       "      <td>-0.760104</td>\n",
       "      <td>-0.118559</td>\n",
       "      <td>0.177899</td>\n",
       "      <td>0.100699</td>\n",
       "      <td>0.808529</td>\n",
       "      <td>-0.848933</td>\n",
       "      <td>0.180637</td>\n",
       "      <td>-0.049118</td>\n",
       "      <td>5</td>\n",
       "    </tr>\n",
       "    <tr>\n",
       "      <th>3</th>\n",
       "      <td>3</td>\n",
       "      <td>0.279174</td>\n",
       "      <td>-0.026201</td>\n",
       "      <td>-0.123283</td>\n",
       "      <td>-0.996091</td>\n",
       "      <td>-0.983403</td>\n",
       "      <td>-0.990675</td>\n",
       "      <td>-0.997099</td>\n",
       "      <td>-0.982750</td>\n",
       "      <td>-0.989302</td>\n",
       "      <td>...</td>\n",
       "      <td>-0.117290</td>\n",
       "      <td>-0.482845</td>\n",
       "      <td>-0.036788</td>\n",
       "      <td>-0.012892</td>\n",
       "      <td>0.640011</td>\n",
       "      <td>-0.485366</td>\n",
       "      <td>-0.848649</td>\n",
       "      <td>0.181935</td>\n",
       "      <td>-0.047663</td>\n",
       "      <td>5</td>\n",
       "    </tr>\n",
       "    <tr>\n",
       "      <th>4</th>\n",
       "      <td>4</td>\n",
       "      <td>0.276629</td>\n",
       "      <td>-0.016570</td>\n",
       "      <td>-0.115362</td>\n",
       "      <td>-0.998139</td>\n",
       "      <td>-0.980817</td>\n",
       "      <td>-0.990482</td>\n",
       "      <td>-0.998321</td>\n",
       "      <td>-0.979672</td>\n",
       "      <td>-0.990441</td>\n",
       "      <td>...</td>\n",
       "      <td>-0.351471</td>\n",
       "      <td>-0.699205</td>\n",
       "      <td>0.123320</td>\n",
       "      <td>0.122542</td>\n",
       "      <td>0.693578</td>\n",
       "      <td>-0.615971</td>\n",
       "      <td>-0.847865</td>\n",
       "      <td>0.185151</td>\n",
       "      <td>-0.043892</td>\n",
       "      <td>5</td>\n",
       "    </tr>\n",
       "  </tbody>\n",
       "</table>\n",
       "<p>5 rows × 563 columns</p>\n",
       "</div>"
      ],
      "text/plain": [
       "   Unnamed: 0         A         B         C         D         E         F  \\\n",
       "0           0  0.288585 -0.020294 -0.132905 -0.995279 -0.983111 -0.913526   \n",
       "1           1  0.278419 -0.016411 -0.123520 -0.998245 -0.975300 -0.960322   \n",
       "2           2  0.279653 -0.019467 -0.113462 -0.995380 -0.967187 -0.978944   \n",
       "3           3  0.279174 -0.026201 -0.123283 -0.996091 -0.983403 -0.990675   \n",
       "4           4  0.276629 -0.016570 -0.115362 -0.998139 -0.980817 -0.990482   \n",
       "\n",
       "          G         H         I  ...        UG        UH        UI        UJ  \\\n",
       "0 -0.995112 -0.983185 -0.923527  ... -0.298676 -0.710304 -0.112754  0.030400   \n",
       "1 -0.998807 -0.974914 -0.957686  ... -0.595051 -0.861499  0.053477 -0.007435   \n",
       "2 -0.996520 -0.963668 -0.977469  ... -0.390748 -0.760104 -0.118559  0.177899   \n",
       "3 -0.997099 -0.982750 -0.989302  ... -0.117290 -0.482845 -0.036788 -0.012892   \n",
       "4 -0.998321 -0.979672 -0.990441  ... -0.351471 -0.699205  0.123320  0.122542   \n",
       "\n",
       "         UK        UL        UM        UN        UO  target  \n",
       "0 -0.464761 -0.018446 -0.841247  0.179941 -0.058627       5  \n",
       "1 -0.732626  0.703511 -0.844788  0.180289 -0.054317       5  \n",
       "2  0.100699  0.808529 -0.848933  0.180637 -0.049118       5  \n",
       "3  0.640011 -0.485366 -0.848649  0.181935 -0.047663       5  \n",
       "4  0.693578 -0.615971 -0.847865  0.185151 -0.043892       5  \n",
       "\n",
       "[5 rows x 563 columns]"
      ]
     },
     "execution_count": 28,
     "metadata": {},
     "output_type": "execute_result"
    }
   ],
   "source": [
    "list_path = ['Datasets/iris.data','Datasets/winequality-red.csv','Datasets/winequality-white.csv','Datasets/boston.data','Datasets/diabetes.csv','Datasets/breast-cancer-wisconsin.csv',\n",
    "             'Datasets/heart_disease.csv','Datasets/abalone.data','Datasets/data_banknote_authentication.txt','Datasets/forestfires.csv','Datasets/ENB2012_data.xlsx', \n",
    "             'Datasets/airfoil_self_noise.dat','Datasets/Concrete_Data_Yeh.csv','Datasets/energydata_complete.csv','','',\n",
    "             'Datasets/day.csv','Datasets/hour.csv','Datasets/kc_house_data.csv','Datasets/creditcard.csv','Datasets/UCI_HAR_Dataset.csv']\n",
    "\n",
    "path_to_file = list_path[-1]\n",
    "\n",
    "extention = path_to_file.split('.')[-1]\n",
    "\n",
    "if extention == 'csv':\n",
    "    # Infos format about my csv.\n",
    "    my_dialect = about_my_csv(path_to_file)\n",
    "    # Make dataframe.\n",
    "    df = pd.read_csv(path_to_file, dialect=my_dialect, on_bad_lines='skip')\n",
    "\n",
    "elif extention in ['xls', 'xlsx','xlsm','xlsb']:\n",
    "    # Make dataframe.\n",
    "    df = pd.read_excel(path_to_file, engine='openpyxl')\n",
    "\n",
    "elif extention == 'json':\n",
    "    # Infos format about my json.\n",
    "    my_orient = about_my_json(path_to_file)\n",
    "    # Make dataframe.\n",
    "    df = pd.read_json(path_to_file, orient=my_orient)\n",
    "\n",
    "elif extention == 'h5':\n",
    "    # Infos format about my json.\n",
    "    my_key = about_my_h5(path_to_file)\n",
    "    # Make dataframe\n",
    "    df = pd.read_hdf(path_to_file, key=my_key, mode='r')\n",
    "\n",
    "elif extention in ['data', 'dat','txt']:\n",
    "    # Infos format about my csv.\n",
    "    my_delimiter, space = about_my_data(path_to_file)\n",
    "    # Make dataframe\n",
    "    df = pd.read_csv(path_to_file, delimiter=my_delimiter, delim_whitespace=space, header=None)\n",
    "    df = rename_my_data(df)\n",
    "\n",
    "else: \n",
    "    print('format non pris en charge')\n",
    "    print('Option à venir : SQL, Parquet, Feather, Pickle, HTML, XML')\n",
    "\n",
    "filename = path_to_file.split('/')[-1]\n",
    "print(f'Taille du dataset \"{filename}\" : {df.shape}')\n",
    "df.head()"
   ]
  },
  {
   "attachments": {},
   "cell_type": "markdown",
   "metadata": {},
   "source": [
    "## Paramètre d'entrée"
   ]
  },
  {
   "cell_type": "code",
   "execution_count": 29,
   "metadata": {},
   "outputs": [
    {
     "name": "stdout",
     "output_type": "stream",
     "text": [
      "Taille dataset : (7352, 563)\n"
     ]
    }
   ],
   "source": [
    "initial_size = df.shape\n",
    "\n",
    "target_name = df.columns[-1]\n",
    "\n",
    "## Pour l'ensemble de test, à supprimer par la suite \n",
    "if path_to_file == 'Datasets/breast-cancer-wisconsin.csv':\n",
    "    target_name = 'diagnosis'\n",
    "if path_to_file == 'Datasets/ENB2012_data.xlsx':\n",
    "    df.drop(columns=['Y1'], inplace=True)\n",
    "if path_to_file == 'Datasets/energydata_complete.csv':\n",
    "    target_name = 'Appliances'\n",
    "## *** ###\n",
    "\n",
    "df.dropna(subset=target_name, inplace=True)\n",
    "\n",
    "print(f'Taille dataset : {df.shape}')"
   ]
  },
  {
   "attachments": {},
   "cell_type": "markdown",
   "metadata": {},
   "source": [
    "## DateTime"
   ]
  },
  {
   "cell_type": "code",
   "execution_count": 30,
   "metadata": {},
   "outputs": [],
   "source": [
    "# Définir la méthode 'detect_date' pour détecter les colonnes de texte contenant des dates\n",
    "@pf.register_dataframe_method\n",
    "def detect_date(df):\n",
    "    for col in df.columns:\n",
    "        if df[col].dtype == 'object':\n",
    "            try:\n",
    "                print(f'\"{col}\" est une date.')\n",
    "                df[col] = pd.to_datetime(df[col])\n",
    "            except ValueError:\n",
    "                pass\n",
    "    return df\n",
    "\n",
    "# Détecter et convertir les colonnes de texte en dates\n",
    "df = df.detect_date()"
   ]
  },
  {
   "cell_type": "code",
   "execution_count": 31,
   "metadata": {},
   "outputs": [
    {
     "name": "stdout",
     "output_type": "stream",
     "text": [
      "Taille dataset : (7352, 563)\n"
     ]
    },
    {
     "data": {
      "text/html": [
       "<div>\n",
       "<style scoped>\n",
       "    .dataframe tbody tr th:only-of-type {\n",
       "        vertical-align: middle;\n",
       "    }\n",
       "\n",
       "    .dataframe tbody tr th {\n",
       "        vertical-align: top;\n",
       "    }\n",
       "\n",
       "    .dataframe thead th {\n",
       "        text-align: right;\n",
       "    }\n",
       "</style>\n",
       "<table border=\"1\" class=\"dataframe\">\n",
       "  <thead>\n",
       "    <tr style=\"text-align: right;\">\n",
       "      <th></th>\n",
       "      <th>Unnamed: 0</th>\n",
       "      <th>A</th>\n",
       "      <th>B</th>\n",
       "      <th>C</th>\n",
       "      <th>D</th>\n",
       "      <th>E</th>\n",
       "      <th>F</th>\n",
       "      <th>G</th>\n",
       "      <th>H</th>\n",
       "      <th>I</th>\n",
       "      <th>...</th>\n",
       "      <th>UG</th>\n",
       "      <th>UH</th>\n",
       "      <th>UI</th>\n",
       "      <th>UJ</th>\n",
       "      <th>UK</th>\n",
       "      <th>UL</th>\n",
       "      <th>UM</th>\n",
       "      <th>UN</th>\n",
       "      <th>UO</th>\n",
       "      <th>target</th>\n",
       "    </tr>\n",
       "  </thead>\n",
       "  <tbody>\n",
       "    <tr>\n",
       "      <th>0</th>\n",
       "      <td>0</td>\n",
       "      <td>0.288585</td>\n",
       "      <td>-0.020294</td>\n",
       "      <td>-0.132905</td>\n",
       "      <td>-0.995279</td>\n",
       "      <td>-0.983111</td>\n",
       "      <td>-0.913526</td>\n",
       "      <td>-0.995112</td>\n",
       "      <td>-0.983185</td>\n",
       "      <td>-0.923527</td>\n",
       "      <td>...</td>\n",
       "      <td>-0.298676</td>\n",
       "      <td>-0.710304</td>\n",
       "      <td>-0.112754</td>\n",
       "      <td>0.030400</td>\n",
       "      <td>-0.464761</td>\n",
       "      <td>-0.018446</td>\n",
       "      <td>-0.841247</td>\n",
       "      <td>0.179941</td>\n",
       "      <td>-0.058627</td>\n",
       "      <td>5</td>\n",
       "    </tr>\n",
       "    <tr>\n",
       "      <th>1</th>\n",
       "      <td>1</td>\n",
       "      <td>0.278419</td>\n",
       "      <td>-0.016411</td>\n",
       "      <td>-0.123520</td>\n",
       "      <td>-0.998245</td>\n",
       "      <td>-0.975300</td>\n",
       "      <td>-0.960322</td>\n",
       "      <td>-0.998807</td>\n",
       "      <td>-0.974914</td>\n",
       "      <td>-0.957686</td>\n",
       "      <td>...</td>\n",
       "      <td>-0.595051</td>\n",
       "      <td>-0.861499</td>\n",
       "      <td>0.053477</td>\n",
       "      <td>-0.007435</td>\n",
       "      <td>-0.732626</td>\n",
       "      <td>0.703511</td>\n",
       "      <td>-0.844788</td>\n",
       "      <td>0.180289</td>\n",
       "      <td>-0.054317</td>\n",
       "      <td>5</td>\n",
       "    </tr>\n",
       "    <tr>\n",
       "      <th>2</th>\n",
       "      <td>2</td>\n",
       "      <td>0.279653</td>\n",
       "      <td>-0.019467</td>\n",
       "      <td>-0.113462</td>\n",
       "      <td>-0.995380</td>\n",
       "      <td>-0.967187</td>\n",
       "      <td>-0.978944</td>\n",
       "      <td>-0.996520</td>\n",
       "      <td>-0.963668</td>\n",
       "      <td>-0.977469</td>\n",
       "      <td>...</td>\n",
       "      <td>-0.390748</td>\n",
       "      <td>-0.760104</td>\n",
       "      <td>-0.118559</td>\n",
       "      <td>0.177899</td>\n",
       "      <td>0.100699</td>\n",
       "      <td>0.808529</td>\n",
       "      <td>-0.848933</td>\n",
       "      <td>0.180637</td>\n",
       "      <td>-0.049118</td>\n",
       "      <td>5</td>\n",
       "    </tr>\n",
       "    <tr>\n",
       "      <th>3</th>\n",
       "      <td>3</td>\n",
       "      <td>0.279174</td>\n",
       "      <td>-0.026201</td>\n",
       "      <td>-0.123283</td>\n",
       "      <td>-0.996091</td>\n",
       "      <td>-0.983403</td>\n",
       "      <td>-0.990675</td>\n",
       "      <td>-0.997099</td>\n",
       "      <td>-0.982750</td>\n",
       "      <td>-0.989302</td>\n",
       "      <td>...</td>\n",
       "      <td>-0.117290</td>\n",
       "      <td>-0.482845</td>\n",
       "      <td>-0.036788</td>\n",
       "      <td>-0.012892</td>\n",
       "      <td>0.640011</td>\n",
       "      <td>-0.485366</td>\n",
       "      <td>-0.848649</td>\n",
       "      <td>0.181935</td>\n",
       "      <td>-0.047663</td>\n",
       "      <td>5</td>\n",
       "    </tr>\n",
       "    <tr>\n",
       "      <th>4</th>\n",
       "      <td>4</td>\n",
       "      <td>0.276629</td>\n",
       "      <td>-0.016570</td>\n",
       "      <td>-0.115362</td>\n",
       "      <td>-0.998139</td>\n",
       "      <td>-0.980817</td>\n",
       "      <td>-0.990482</td>\n",
       "      <td>-0.998321</td>\n",
       "      <td>-0.979672</td>\n",
       "      <td>-0.990441</td>\n",
       "      <td>...</td>\n",
       "      <td>-0.351471</td>\n",
       "      <td>-0.699205</td>\n",
       "      <td>0.123320</td>\n",
       "      <td>0.122542</td>\n",
       "      <td>0.693578</td>\n",
       "      <td>-0.615971</td>\n",
       "      <td>-0.847865</td>\n",
       "      <td>0.185151</td>\n",
       "      <td>-0.043892</td>\n",
       "      <td>5</td>\n",
       "    </tr>\n",
       "  </tbody>\n",
       "</table>\n",
       "<p>5 rows × 563 columns</p>\n",
       "</div>"
      ],
      "text/plain": [
       "   Unnamed: 0         A         B         C         D         E         F  \\\n",
       "0           0  0.288585 -0.020294 -0.132905 -0.995279 -0.983111 -0.913526   \n",
       "1           1  0.278419 -0.016411 -0.123520 -0.998245 -0.975300 -0.960322   \n",
       "2           2  0.279653 -0.019467 -0.113462 -0.995380 -0.967187 -0.978944   \n",
       "3           3  0.279174 -0.026201 -0.123283 -0.996091 -0.983403 -0.990675   \n",
       "4           4  0.276629 -0.016570 -0.115362 -0.998139 -0.980817 -0.990482   \n",
       "\n",
       "          G         H         I  ...        UG        UH        UI        UJ  \\\n",
       "0 -0.995112 -0.983185 -0.923527  ... -0.298676 -0.710304 -0.112754  0.030400   \n",
       "1 -0.998807 -0.974914 -0.957686  ... -0.595051 -0.861499  0.053477 -0.007435   \n",
       "2 -0.996520 -0.963668 -0.977469  ... -0.390748 -0.760104 -0.118559  0.177899   \n",
       "3 -0.997099 -0.982750 -0.989302  ... -0.117290 -0.482845 -0.036788 -0.012892   \n",
       "4 -0.998321 -0.979672 -0.990441  ... -0.351471 -0.699205  0.123320  0.122542   \n",
       "\n",
       "         UK        UL        UM        UN        UO  target  \n",
       "0 -0.464761 -0.018446 -0.841247  0.179941 -0.058627       5  \n",
       "1 -0.732626  0.703511 -0.844788  0.180289 -0.054317       5  \n",
       "2  0.100699  0.808529 -0.848933  0.180637 -0.049118       5  \n",
       "3  0.640011 -0.485366 -0.848649  0.181935 -0.047663       5  \n",
       "4  0.693578 -0.615971 -0.847865  0.185151 -0.043892       5  \n",
       "\n",
       "[5 rows x 563 columns]"
      ]
     },
     "execution_count": 31,
     "metadata": {},
     "output_type": "execute_result"
    }
   ],
   "source": [
    "# Identifier les colonnes de type datetime\n",
    "date_cols = [col for col in df.columns if df[col].dtype == 'datetime64[ns]']\n",
    "\n",
    "if len(date_cols) >= 2:\n",
    "    # Normaliser les dates sur UTC\n",
    "    for date_col in date_cols:\n",
    "        df[date_col] = df[date_col].dt.tz_convert('Etc/UTC')\n",
    "\n",
    "    # Créer toutes les combinaisons de colonnes de date\n",
    "    list_date_cols = list(itertools.combinations(date_cols, 2))\n",
    "\n",
    "    # Calculer la différence de temps entre chaque paire de colonnes de date\n",
    "    for paire_date in list_date_cols:\n",
    "        first_date = paire_date[0]\n",
    "        second_date = paire_date[1]\n",
    "\n",
    "        df[f'{first_date}_x_{second_date}'] = (df[second_date] - df[first_date]).dt.total_seconds()\n",
    "\n",
    "\n",
    "# Extraire : Year, Day, WeekDay, Hour, Minute, Second, Microsecond\n",
    "for date_col in date_cols:\n",
    "    # Ajouter les colonnes pour chaque attribut de date\n",
    "    df[f'{date_col}_year'] = df[date_col].dt.year\n",
    "    df[f'{date_col}_day_of_year'] = df[date_col].dt.dayofyear\n",
    "    df[f'{date_col}_day_of_week'] = df[date_col].dt.dayofweek\n",
    "    df[f'{date_col}_hour'] = df[date_col].dt.hour\n",
    "    df[f'{date_col}_minute'] = df[date_col].dt.minute\n",
    "    df[f'{date_col}_second'] = df[date_col].dt.second\n",
    "    df[f'{date_col}_microsecond'] = df[date_col].dt.microsecond\n",
    "\n",
    "    df.drop(date_col, axis=1, inplace=True)\n",
    "print(f'Taille dataset : {df.shape}')\n",
    "df.head()"
   ]
  },
  {
   "attachments": {},
   "cell_type": "markdown",
   "metadata": {},
   "source": [
    "## Supp Colonnes"
   ]
  },
  {
   "cell_type": "code",
   "execution_count": 32,
   "metadata": {},
   "outputs": [
    {
     "name": "stdout",
     "output_type": "stream",
     "text": [
      "Taille dataset : (7352, 561)\n"
     ]
    },
    {
     "data": {
      "text/html": [
       "<div>\n",
       "<style scoped>\n",
       "    .dataframe tbody tr th:only-of-type {\n",
       "        vertical-align: middle;\n",
       "    }\n",
       "\n",
       "    .dataframe tbody tr th {\n",
       "        vertical-align: top;\n",
       "    }\n",
       "\n",
       "    .dataframe thead th {\n",
       "        text-align: right;\n",
       "    }\n",
       "</style>\n",
       "<table border=\"1\" class=\"dataframe\">\n",
       "  <thead>\n",
       "    <tr style=\"text-align: right;\">\n",
       "      <th></th>\n",
       "      <th>A</th>\n",
       "      <th>B</th>\n",
       "      <th>C</th>\n",
       "      <th>D</th>\n",
       "      <th>E</th>\n",
       "      <th>F</th>\n",
       "      <th>G</th>\n",
       "      <th>H</th>\n",
       "      <th>I</th>\n",
       "      <th>J</th>\n",
       "      <th>...</th>\n",
       "      <th>UG</th>\n",
       "      <th>UH</th>\n",
       "      <th>UI</th>\n",
       "      <th>UJ</th>\n",
       "      <th>UK</th>\n",
       "      <th>UL</th>\n",
       "      <th>UM</th>\n",
       "      <th>UN</th>\n",
       "      <th>UO</th>\n",
       "      <th>target</th>\n",
       "    </tr>\n",
       "  </thead>\n",
       "  <tbody>\n",
       "    <tr>\n",
       "      <th>0</th>\n",
       "      <td>0.288585</td>\n",
       "      <td>-0.020294</td>\n",
       "      <td>-0.132905</td>\n",
       "      <td>-0.995279</td>\n",
       "      <td>-0.983111</td>\n",
       "      <td>-0.913526</td>\n",
       "      <td>-0.995112</td>\n",
       "      <td>-0.983185</td>\n",
       "      <td>-0.923527</td>\n",
       "      <td>-0.934724</td>\n",
       "      <td>...</td>\n",
       "      <td>-0.298676</td>\n",
       "      <td>-0.710304</td>\n",
       "      <td>-0.112754</td>\n",
       "      <td>0.030400</td>\n",
       "      <td>-0.464761</td>\n",
       "      <td>-0.018446</td>\n",
       "      <td>-0.841247</td>\n",
       "      <td>0.179941</td>\n",
       "      <td>-0.058627</td>\n",
       "      <td>5</td>\n",
       "    </tr>\n",
       "    <tr>\n",
       "      <th>1</th>\n",
       "      <td>0.278419</td>\n",
       "      <td>-0.016411</td>\n",
       "      <td>-0.123520</td>\n",
       "      <td>-0.998245</td>\n",
       "      <td>-0.975300</td>\n",
       "      <td>-0.960322</td>\n",
       "      <td>-0.998807</td>\n",
       "      <td>-0.974914</td>\n",
       "      <td>-0.957686</td>\n",
       "      <td>-0.943068</td>\n",
       "      <td>...</td>\n",
       "      <td>-0.595051</td>\n",
       "      <td>-0.861499</td>\n",
       "      <td>0.053477</td>\n",
       "      <td>-0.007435</td>\n",
       "      <td>-0.732626</td>\n",
       "      <td>0.703511</td>\n",
       "      <td>-0.844788</td>\n",
       "      <td>0.180289</td>\n",
       "      <td>-0.054317</td>\n",
       "      <td>5</td>\n",
       "    </tr>\n",
       "    <tr>\n",
       "      <th>2</th>\n",
       "      <td>0.279653</td>\n",
       "      <td>-0.019467</td>\n",
       "      <td>-0.113462</td>\n",
       "      <td>-0.995380</td>\n",
       "      <td>-0.967187</td>\n",
       "      <td>-0.978944</td>\n",
       "      <td>-0.996520</td>\n",
       "      <td>-0.963668</td>\n",
       "      <td>-0.977469</td>\n",
       "      <td>-0.938692</td>\n",
       "      <td>...</td>\n",
       "      <td>-0.390748</td>\n",
       "      <td>-0.760104</td>\n",
       "      <td>-0.118559</td>\n",
       "      <td>0.177899</td>\n",
       "      <td>0.100699</td>\n",
       "      <td>0.808529</td>\n",
       "      <td>-0.848933</td>\n",
       "      <td>0.180637</td>\n",
       "      <td>-0.049118</td>\n",
       "      <td>5</td>\n",
       "    </tr>\n",
       "    <tr>\n",
       "      <th>3</th>\n",
       "      <td>0.279174</td>\n",
       "      <td>-0.026201</td>\n",
       "      <td>-0.123283</td>\n",
       "      <td>-0.996091</td>\n",
       "      <td>-0.983403</td>\n",
       "      <td>-0.990675</td>\n",
       "      <td>-0.997099</td>\n",
       "      <td>-0.982750</td>\n",
       "      <td>-0.989302</td>\n",
       "      <td>-0.938692</td>\n",
       "      <td>...</td>\n",
       "      <td>-0.117290</td>\n",
       "      <td>-0.482845</td>\n",
       "      <td>-0.036788</td>\n",
       "      <td>-0.012892</td>\n",
       "      <td>0.640011</td>\n",
       "      <td>-0.485366</td>\n",
       "      <td>-0.848649</td>\n",
       "      <td>0.181935</td>\n",
       "      <td>-0.047663</td>\n",
       "      <td>5</td>\n",
       "    </tr>\n",
       "    <tr>\n",
       "      <th>4</th>\n",
       "      <td>0.276629</td>\n",
       "      <td>-0.016570</td>\n",
       "      <td>-0.115362</td>\n",
       "      <td>-0.998139</td>\n",
       "      <td>-0.980817</td>\n",
       "      <td>-0.990482</td>\n",
       "      <td>-0.998321</td>\n",
       "      <td>-0.979672</td>\n",
       "      <td>-0.990441</td>\n",
       "      <td>-0.942469</td>\n",
       "      <td>...</td>\n",
       "      <td>-0.351471</td>\n",
       "      <td>-0.699205</td>\n",
       "      <td>0.123320</td>\n",
       "      <td>0.122542</td>\n",
       "      <td>0.693578</td>\n",
       "      <td>-0.615971</td>\n",
       "      <td>-0.847865</td>\n",
       "      <td>0.185151</td>\n",
       "      <td>-0.043892</td>\n",
       "      <td>5</td>\n",
       "    </tr>\n",
       "  </tbody>\n",
       "</table>\n",
       "<p>5 rows × 561 columns</p>\n",
       "</div>"
      ],
      "text/plain": [
       "          A         B         C         D         E         F         G  \\\n",
       "0  0.288585 -0.020294 -0.132905 -0.995279 -0.983111 -0.913526 -0.995112   \n",
       "1  0.278419 -0.016411 -0.123520 -0.998245 -0.975300 -0.960322 -0.998807   \n",
       "2  0.279653 -0.019467 -0.113462 -0.995380 -0.967187 -0.978944 -0.996520   \n",
       "3  0.279174 -0.026201 -0.123283 -0.996091 -0.983403 -0.990675 -0.997099   \n",
       "4  0.276629 -0.016570 -0.115362 -0.998139 -0.980817 -0.990482 -0.998321   \n",
       "\n",
       "          H         I         J  ...        UG        UH        UI        UJ  \\\n",
       "0 -0.983185 -0.923527 -0.934724  ... -0.298676 -0.710304 -0.112754  0.030400   \n",
       "1 -0.974914 -0.957686 -0.943068  ... -0.595051 -0.861499  0.053477 -0.007435   \n",
       "2 -0.963668 -0.977469 -0.938692  ... -0.390748 -0.760104 -0.118559  0.177899   \n",
       "3 -0.982750 -0.989302 -0.938692  ... -0.117290 -0.482845 -0.036788 -0.012892   \n",
       "4 -0.979672 -0.990441 -0.942469  ... -0.351471 -0.699205  0.123320  0.122542   \n",
       "\n",
       "         UK        UL        UM        UN        UO  target  \n",
       "0 -0.464761 -0.018446 -0.841247  0.179941 -0.058627       5  \n",
       "1 -0.732626  0.703511 -0.844788  0.180289 -0.054317       5  \n",
       "2  0.100699  0.808529 -0.848933  0.180637 -0.049118       5  \n",
       "3  0.640011 -0.485366 -0.848649  0.181935 -0.047663       5  \n",
       "4  0.693578 -0.615971 -0.847865  0.185151 -0.043892       5  \n",
       "\n",
       "[5 rows x 561 columns]"
      ]
     },
     "execution_count": 32,
     "metadata": {},
     "output_type": "execute_result"
    }
   ],
   "source": [
    "# Filtrer la liste d'identifiants\n",
    "df.drop(columns=list(filter(re.compile(r'.*(_id|-id| id|ID)$').match, df.columns)), errors='ignore', inplace=True)\n",
    "\n",
    "# Supprime les colonnes Identifiant\n",
    "df.drop(columns=['id', 'uid', 'ID', 'UID'], errors='ignore', inplace=True)\n",
    "\n",
    "# Calcul du pourcentage de lignes vides pour chaque colonne\n",
    "pourcentage_lignes_vides = df.isna().sum() / len(df)\n",
    "# Sélection des colonnes à conserver (celles ayant moins de 30% de lignes vides)\n",
    "colonnes_a_conserver = pourcentage_lignes_vides[pourcentage_lignes_vides <= 0.3].index\n",
    "# Création d'un nouveau DataFrame ne contenant que les colonnes à conserver\n",
    "df = df[colonnes_a_conserver]\n",
    "\n",
    "\n",
    "# Booleen de liste ordonnée\n",
    "def is_ordonne(lst):\n",
    "    return all(lst[i] < lst[i+1] for i in range(len(lst)-1)) or all(lst[i] > lst[i+1] for i in range(len(lst)-1))\n",
    "# Supprime les listes d'ordonnées\n",
    "cols_to_drop = [col for col in df.columns if is_ordonne(df[col])]\n",
    "df.drop(columns=cols_to_drop, inplace=True)\n",
    "\n",
    "print(f'Taille dataset : {df.shape}')\n",
    "df.head()"
   ]
  },
  {
   "attachments": {},
   "cell_type": "markdown",
   "metadata": {},
   "source": [
    "## Supp lignes"
   ]
  },
  {
   "cell_type": "code",
   "execution_count": 33,
   "metadata": {},
   "outputs": [
    {
     "name": "stdout",
     "output_type": "stream",
     "text": [
      "Taille dataset : (7352, 561)\n"
     ]
    }
   ],
   "source": [
    "## Supprime les lignes avec des données sporatiques\n",
    "# Calculer le pourcentage de valeurs manquantes dans chaque ligne\n",
    "missing_pct = df.isnull().sum(axis=1) / df.shape[1]\n",
    "# Calculer le seuil de tolérance en nombre de colonnes sans valeurs\n",
    "threshold = 0.15 * df.shape[1]\n",
    "# Supprimer les lignes dont le nombre de colonnes sans valeurs est supérieur au seuil de tolérance\n",
    "df = df.dropna(thresh=df.shape[1]-threshold)\n",
    "\n",
    "print(f'Taille dataset : {df.shape}')"
   ]
  },
  {
   "attachments": {},
   "cell_type": "markdown",
   "metadata": {},
   "source": [
    "## Numerical"
   ]
  },
  {
   "cell_type": "code",
   "execution_count": 34,
   "metadata": {},
   "outputs": [
    {
     "name": "stdout",
     "output_type": "stream",
     "text": [
      "Taille dataset : (7352, 561)\n"
     ]
    }
   ],
   "source": [
    "\n",
    "numeric_features = df.select_dtypes([np.number]).columns\n",
    "\n",
    "for numerical in numeric_features:\n",
    "    # Transforme en catégoriel quand moins de 8 valeurs différentes.\n",
    "    if df[numerical].nunique() <= 8:\n",
    "        df[numerical] = df[numerical].astype(str)\n",
    "\n",
    "    # Supression valeurs manquantes au dessus de 10 %\n",
    "    pourcentage_valeur_manquante = 100*df[numerical].isnull().sum()/len(df)\n",
    "    if pourcentage_valeur_manquante >= 10:\n",
    "        df.drop(numerical, axis=1, inplace=True)\n",
    "        print(f'Supression de la colonne {numerical}')\n",
    "print(f'Taille dataset : {df.shape}')"
   ]
  },
  {
   "attachments": {},
   "cell_type": "markdown",
   "metadata": {},
   "source": [
    "## Numerical Outliers"
   ]
  },
  {
   "cell_type": "code",
   "execution_count": 35,
   "metadata": {},
   "outputs": [
    {
     "name": "stdout",
     "output_type": "stream",
     "text": [
      "Taille dataset : (6616, 561)\n"
     ]
    }
   ],
   "source": [
    "# Identify numeric columns\n",
    "numeric_features = df.select_dtypes([np.number]).columns\n",
    "\n",
    "def task(df):\n",
    "    # Créez un modèle LOF\n",
    "    lof_model = LocalOutlierFactor(n_neighbors=20, contamination=0.1)\n",
    "    # Entraînez le modèle sur les données\n",
    "    lof_model.fit(df[numeric_features])\n",
    "    # Calculez les scores LOF pour chaque point de données\n",
    "    lof_scores = lof_model.negative_outlier_factor_\n",
    "    # supprime les points ayant un score LOF inférieur au 10ème percentile\n",
    "    threshold = np.percentile(lof_scores, 10) \n",
    "    # Créez un masque booléen pour sélectionner les points qui sont en dessous du seuil\n",
    "    outlier_mask = lof_scores > threshold\n",
    "    # Sélectionnez les points qui ne sont pas des outliers\n",
    "    return df.loc[outlier_mask, :]\n",
    "\n",
    "def task_2(df):\n",
    "    # Filter data based on 2 standard deviations\n",
    "    for col in numeric_features:\n",
    "        to_keep = (df[col] < df[col].mean() + 2*df[col].std()) & (df[col] > df[col].mean() - 2*df[col].std())\n",
    "        return df.loc[to_keep,:]\n",
    "\n",
    "\n",
    "if len(df) < 10000: df = task(df)\n",
    "else: df = task_2(df)\n",
    "\n",
    "\n",
    "print(f'Taille dataset : {df.shape}')"
   ]
  },
  {
   "attachments": {},
   "cell_type": "markdown",
   "metadata": {},
   "source": [
    "## Categoriel"
   ]
  },
  {
   "cell_type": "code",
   "execution_count": 36,
   "metadata": {},
   "outputs": [
    {
     "name": "stdout",
     "output_type": "stream",
     "text": [
      "Taille dataset : (6616, 561)\n"
     ]
    }
   ],
   "source": [
    "\n",
    "categorical_features = df.select_dtypes(\"object\").columns\n",
    "\n",
    "for categorical in categorical_features:\n",
    "    # Remplacement des valeurs nulles par la valeur \"manquante\"\n",
    "    df[categorical] = df[categorical].fillna('manquante')\n",
    "\n",
    "    ## Remplace les valeurs sporatique par la valeur \"autre\"\n",
    "    counts = df[categorical].value_counts(normalize=True) # Calcul du pourcentage de chaque valeur dans la colonne\n",
    "    mask = (counts < 0.1) # Sélection des valeurs qui représentent moins de 10% de la colonne\n",
    "    df[categorical] = df[categorical].replace(counts[mask].index.tolist(), 'autre') # Remplacement des valeurs sélectionnées par la valeur \"autre\"\n",
    "\n",
    "    # Suppression des colonnes contenant une seule valeur\n",
    "    if df[categorical].nunique() == 1:\n",
    "        df.drop(categorical, axis=1, inplace=True)\n",
    "print(f'Taille dataset : {df.shape}')"
   ]
  },
  {
   "attachments": {},
   "cell_type": "markdown",
   "metadata": {},
   "source": [
    "#### Par la suite\n",
    "* Détecter format carte bancaire, indicatif telephone...\n",
    "* Convertir adresse en format lat.nlong\n",
    "* Convertir les listes de mots en catégories quand c'est possible.\n",
    "* ..."
   ]
  },
  {
   "attachments": {},
   "cell_type": "markdown",
   "metadata": {},
   "source": [
    "## Correction Prè-traitement"
   ]
  },
  {
   "cell_type": "code",
   "execution_count": 37,
   "metadata": {},
   "outputs": [
    {
     "name": "stdout",
     "output_type": "stream",
     "text": [
      "Taille dataset : (6616, 561)\n"
     ]
    }
   ],
   "source": [
    "# Supprimer les lignes en double\n",
    "df.drop_duplicates(inplace=True)\n",
    "print(f'Taille dataset : {df.shape}')"
   ]
  },
  {
   "attachments": {},
   "cell_type": "markdown",
   "metadata": {},
   "source": [
    "## Séparation en variables explicative et cible"
   ]
  },
  {
   "cell_type": "code",
   "execution_count": 38,
   "metadata": {},
   "outputs": [
    {
     "name": "stdout",
     "output_type": "stream",
     "text": [
      "Taille X : (6616, 560)\n"
     ]
    }
   ],
   "source": [
    "Y = df[:][target_name]\n",
    "X = df.drop(columns=[target_name])\n",
    "print(f'Taille X : {X.shape}')"
   ]
  },
  {
   "attachments": {},
   "cell_type": "markdown",
   "metadata": {},
   "source": [
    "## Suppr colonnes ultra corrélées"
   ]
  },
  {
   "cell_type": "code",
   "execution_count": 39,
   "metadata": {},
   "outputs": [
    {
     "name": "stdout",
     "output_type": "stream",
     "text": [
      "Taille X : (6616, 180)\n"
     ]
    }
   ],
   "source": [
    "corr = X.corr()\n",
    "\n",
    "high_corr_list = []\n",
    "cols = corr.columns\n",
    "\n",
    "for j in cols:\n",
    "    for i, item in corr[j].iteritems():\n",
    "        if (i!=j) and abs(item) > 0.9:\n",
    "            high_corr_list.append((i,j))\n",
    "\n",
    "no_keep = [high_corr_list[i][0] for i in range(len(high_corr_list)) if i%2 == 0]\n",
    "\n",
    "X = X.drop(columns=no_keep)\n",
    "print(f'Taille X : {X.shape}')"
   ]
  },
  {
   "attachments": {},
   "cell_type": "markdown",
   "metadata": {},
   "source": [
    "## Séparation en set d'entrainement & de test\n",
    "Pour le rééquilibrage une meilleur approche est de faire attention :\n",
    "à la précision, le rappel, la F1-score et l'aire sous la courbe ROC. "
   ]
  },
  {
   "cell_type": "code",
   "execution_count": 40,
   "metadata": {},
   "outputs": [
    {
     "name": "stdout",
     "output_type": "stream",
     "text": [
      "Taille X : (6616, 180)\n"
     ]
    }
   ],
   "source": [
    "target_dtype = df[target_name].dtype\n",
    "\n",
    "# Cible Catégoriel\n",
    "if np.issubdtype(target_dtype, np.object_):\n",
    "    X_train, X_test, Y_train, Y_test = train_test_split(X, Y, test_size=0.15, random_state=0, stratify=Y)\n",
    "\n",
    "    # calculer les pourcentages de chaque valeur unique et les trier par ordre décroissant\n",
    "    pourcentages = df[target_name].value_counts(normalize=True) * 100\n",
    "    pourcentages = pourcentages.sort_values(ascending=False)\n",
    "\n",
    "    # Si l'écart entre la valeur majoritaire et minoritaire est supperieur à 10 %, enclenche le rééchantillonnage\n",
    "    if pourcentages[0] - pourcentages[-1] > 10 :\n",
    "\n",
    "        if len(pourcentages) > 2:\n",
    "            my_sampling_strategy = 'not majority' # Équilibre des Classes \n",
    "        else : \n",
    "            my_sampling_strategy = 'majority' # Équilibre des valeurs Booleennes \n",
    "\n",
    "        oversample = RandomUnderSampler(sampling_strategy=my_sampling_strategy) # Rééchantillonnage \n",
    "        X_train, Y_train = oversample.fit_resample(X_train, Y_train)\n",
    "\n",
    "# Cible Continue\n",
    "else: \n",
    "    X_train, X_test, Y_train, Y_test = train_test_split(X, Y, test_size=0.15, random_state=0)\n",
    "print(f'Taille X : {np.concatenate((X_train, X_test)).shape}')"
   ]
  },
  {
   "attachments": {},
   "cell_type": "markdown",
   "metadata": {},
   "source": [
    "## Préprocessing Pipeline"
   ]
  },
  {
   "cell_type": "code",
   "execution_count": 41,
   "metadata": {},
   "outputs": [
    {
     "name": "stdout",
     "output_type": "stream",
     "text": [
      "Taille X : (6616, 180)\n"
     ]
    }
   ],
   "source": [
    "# Create pipeline for numeric features\n",
    "numeric_features = X.select_dtypes([np.number]).columns # Automatically detect positions of numeric columns\n",
    "numeric_transformer = Pipeline(steps=[\n",
    "    ('imputer', SimpleImputer(strategy='median')), # missing values will be replaced by columns' median\n",
    "    ('scaler', StandardScaler())\n",
    "])\n",
    "\n",
    "# Create pipeline for categorical features\n",
    "categorical_features = X.select_dtypes(\"object\").columns # Automatically detect positions of categorical columns\n",
    "categorical_transformer = Pipeline(\n",
    "    steps=[\n",
    "    ('imputer', SimpleImputer(strategy='most_frequent')), # missing values will be replaced by most frequent value\n",
    "    ('encoder', OneHotEncoder(drop='first')) # first column will be dropped to avoid creating correlations between features\n",
    "    ])\n",
    "\n",
    "# Use ColumnTransformer to make a preprocessor object that describes all the treatments to be done\n",
    "preprocessor = ColumnTransformer(\n",
    "    transformers=[\n",
    "        ('num', numeric_transformer, numeric_features),\n",
    "        ('cat', categorical_transformer, categorical_features)\n",
    "    ])\n",
    "\n",
    "X_train = preprocessor.fit_transform(X_train) # Preprocessing influenceur\n",
    "X_test = preprocessor.transform(X_test) # Preprocessing copieur\n",
    "print(f'Taille X : {np.concatenate((X_train, X_test)).shape}')"
   ]
  },
  {
   "attachments": {},
   "cell_type": "markdown",
   "metadata": {},
   "source": [
    "## Training Model "
   ]
  },
  {
   "cell_type": "code",
   "execution_count": 42,
   "metadata": {},
   "outputs": [],
   "source": [
    "## Define the model to be tuned\n",
    "# Cible Catégoriel\n",
    "if np.issubdtype(target_dtype, np.object_):\n",
    "    model = LogisticRegression()\n",
    "    modelForest = RandomForestClassifier()\n",
    "\n",
    "# Cible Continue\n",
    "else:\n",
    "    model = LinearRegression()\n",
    "    modelForest = RandomForestRegressor()"
   ]
  },
  {
   "cell_type": "code",
   "execution_count": 43,
   "metadata": {},
   "outputs": [
    {
     "name": "stderr",
     "output_type": "stream",
     "text": [
      "/Library/Frameworks/Python.framework/Versions/3.9/lib/python3.9/site-packages/sklearn/linear_model/_logistic.py:458: ConvergenceWarning: lbfgs failed to converge (status=1):\n",
      "STOP: TOTAL NO. of ITERATIONS REACHED LIMIT.\n",
      "\n",
      "Increase the number of iterations (max_iter) or scale the data as shown in:\n",
      "    https://scikit-learn.org/stable/modules/preprocessing.html\n",
      "Please also refer to the documentation for alternative solver options:\n",
      "    https://scikit-learn.org/stable/modules/linear_model.html#logistic-regression\n",
      "  n_iter_i = _check_optimize_result(\n"
     ]
    },
    {
     "data": {
      "text/html": [
       "<style>#sk-container-id-4 {color: black;background-color: white;}#sk-container-id-4 pre{padding: 0;}#sk-container-id-4 div.sk-toggleable {background-color: white;}#sk-container-id-4 label.sk-toggleable__label {cursor: pointer;display: block;width: 100%;margin-bottom: 0;padding: 0.3em;box-sizing: border-box;text-align: center;}#sk-container-id-4 label.sk-toggleable__label-arrow:before {content: \"▸\";float: left;margin-right: 0.25em;color: #696969;}#sk-container-id-4 label.sk-toggleable__label-arrow:hover:before {color: black;}#sk-container-id-4 div.sk-estimator:hover label.sk-toggleable__label-arrow:before {color: black;}#sk-container-id-4 div.sk-toggleable__content {max-height: 0;max-width: 0;overflow: hidden;text-align: left;background-color: #f0f8ff;}#sk-container-id-4 div.sk-toggleable__content pre {margin: 0.2em;color: black;border-radius: 0.25em;background-color: #f0f8ff;}#sk-container-id-4 input.sk-toggleable__control:checked~div.sk-toggleable__content {max-height: 200px;max-width: 100%;overflow: auto;}#sk-container-id-4 input.sk-toggleable__control:checked~label.sk-toggleable__label-arrow:before {content: \"▾\";}#sk-container-id-4 div.sk-estimator input.sk-toggleable__control:checked~label.sk-toggleable__label {background-color: #d4ebff;}#sk-container-id-4 div.sk-label input.sk-toggleable__control:checked~label.sk-toggleable__label {background-color: #d4ebff;}#sk-container-id-4 input.sk-hidden--visually {border: 0;clip: rect(1px 1px 1px 1px);clip: rect(1px, 1px, 1px, 1px);height: 1px;margin: -1px;overflow: hidden;padding: 0;position: absolute;width: 1px;}#sk-container-id-4 div.sk-estimator {font-family: monospace;background-color: #f0f8ff;border: 1px dotted black;border-radius: 0.25em;box-sizing: border-box;margin-bottom: 0.5em;}#sk-container-id-4 div.sk-estimator:hover {background-color: #d4ebff;}#sk-container-id-4 div.sk-parallel-item::after {content: \"\";width: 100%;border-bottom: 1px solid gray;flex-grow: 1;}#sk-container-id-4 div.sk-label:hover label.sk-toggleable__label {background-color: #d4ebff;}#sk-container-id-4 div.sk-serial::before {content: \"\";position: absolute;border-left: 1px solid gray;box-sizing: border-box;top: 0;bottom: 0;left: 50%;z-index: 0;}#sk-container-id-4 div.sk-serial {display: flex;flex-direction: column;align-items: center;background-color: white;padding-right: 0.2em;padding-left: 0.2em;position: relative;}#sk-container-id-4 div.sk-item {position: relative;z-index: 1;}#sk-container-id-4 div.sk-parallel {display: flex;align-items: stretch;justify-content: center;background-color: white;position: relative;}#sk-container-id-4 div.sk-item::before, #sk-container-id-4 div.sk-parallel-item::before {content: \"\";position: absolute;border-left: 1px solid gray;box-sizing: border-box;top: 0;bottom: 0;left: 50%;z-index: -1;}#sk-container-id-4 div.sk-parallel-item {display: flex;flex-direction: column;z-index: 1;position: relative;background-color: white;}#sk-container-id-4 div.sk-parallel-item:first-child::after {align-self: flex-end;width: 50%;}#sk-container-id-4 div.sk-parallel-item:last-child::after {align-self: flex-start;width: 50%;}#sk-container-id-4 div.sk-parallel-item:only-child::after {width: 0;}#sk-container-id-4 div.sk-dashed-wrapped {border: 1px dashed gray;margin: 0 0.4em 0.5em 0.4em;box-sizing: border-box;padding-bottom: 0.4em;background-color: white;}#sk-container-id-4 div.sk-label label {font-family: monospace;font-weight: bold;display: inline-block;line-height: 1.2em;}#sk-container-id-4 div.sk-label-container {text-align: center;}#sk-container-id-4 div.sk-container {/* jupyter's `normalize.less` sets `[hidden] { display: none; }` but bootstrap.min.css set `[hidden] { display: none !important; }` so we also need the `!important` here to be able to override the default hidden behavior on the sphinx rendered scikit-learn.org. See: https://github.com/scikit-learn/scikit-learn/issues/21755 */display: inline-block !important;position: relative;}#sk-container-id-4 div.sk-text-repr-fallback {display: none;}</style><div id=\"sk-container-id-4\" class=\"sk-top-container\"><div class=\"sk-text-repr-fallback\"><pre>LogisticRegression()</pre><b>In a Jupyter environment, please rerun this cell to show the HTML representation or trust the notebook. <br />On GitHub, the HTML representation is unable to render, please try loading this page with nbviewer.org.</b></div><div class=\"sk-container\" hidden><div class=\"sk-item\"><div class=\"sk-estimator sk-toggleable\"><input class=\"sk-toggleable__control sk-hidden--visually\" id=\"sk-estimator-id-6\" type=\"checkbox\" checked><label for=\"sk-estimator-id-6\" class=\"sk-toggleable__label sk-toggleable__label-arrow\">LogisticRegression</label><div class=\"sk-toggleable__content\"><pre>LogisticRegression()</pre></div></div></div></div></div>"
      ],
      "text/plain": [
       "LogisticRegression()"
      ]
     },
     "execution_count": 43,
     "metadata": {},
     "output_type": "execute_result"
    }
   ],
   "source": [
    "## Regression \n",
    "model.fit(X_train, Y_train)"
   ]
  },
  {
   "cell_type": "code",
   "execution_count": 44,
   "metadata": {},
   "outputs": [
    {
     "data": {
      "text/html": [
       "<style>#sk-container-id-5 {color: black;background-color: white;}#sk-container-id-5 pre{padding: 0;}#sk-container-id-5 div.sk-toggleable {background-color: white;}#sk-container-id-5 label.sk-toggleable__label {cursor: pointer;display: block;width: 100%;margin-bottom: 0;padding: 0.3em;box-sizing: border-box;text-align: center;}#sk-container-id-5 label.sk-toggleable__label-arrow:before {content: \"▸\";float: left;margin-right: 0.25em;color: #696969;}#sk-container-id-5 label.sk-toggleable__label-arrow:hover:before {color: black;}#sk-container-id-5 div.sk-estimator:hover label.sk-toggleable__label-arrow:before {color: black;}#sk-container-id-5 div.sk-toggleable__content {max-height: 0;max-width: 0;overflow: hidden;text-align: left;background-color: #f0f8ff;}#sk-container-id-5 div.sk-toggleable__content pre {margin: 0.2em;color: black;border-radius: 0.25em;background-color: #f0f8ff;}#sk-container-id-5 input.sk-toggleable__control:checked~div.sk-toggleable__content {max-height: 200px;max-width: 100%;overflow: auto;}#sk-container-id-5 input.sk-toggleable__control:checked~label.sk-toggleable__label-arrow:before {content: \"▾\";}#sk-container-id-5 div.sk-estimator input.sk-toggleable__control:checked~label.sk-toggleable__label {background-color: #d4ebff;}#sk-container-id-5 div.sk-label input.sk-toggleable__control:checked~label.sk-toggleable__label {background-color: #d4ebff;}#sk-container-id-5 input.sk-hidden--visually {border: 0;clip: rect(1px 1px 1px 1px);clip: rect(1px, 1px, 1px, 1px);height: 1px;margin: -1px;overflow: hidden;padding: 0;position: absolute;width: 1px;}#sk-container-id-5 div.sk-estimator {font-family: monospace;background-color: #f0f8ff;border: 1px dotted black;border-radius: 0.25em;box-sizing: border-box;margin-bottom: 0.5em;}#sk-container-id-5 div.sk-estimator:hover {background-color: #d4ebff;}#sk-container-id-5 div.sk-parallel-item::after {content: \"\";width: 100%;border-bottom: 1px solid gray;flex-grow: 1;}#sk-container-id-5 div.sk-label:hover label.sk-toggleable__label {background-color: #d4ebff;}#sk-container-id-5 div.sk-serial::before {content: \"\";position: absolute;border-left: 1px solid gray;box-sizing: border-box;top: 0;bottom: 0;left: 50%;z-index: 0;}#sk-container-id-5 div.sk-serial {display: flex;flex-direction: column;align-items: center;background-color: white;padding-right: 0.2em;padding-left: 0.2em;position: relative;}#sk-container-id-5 div.sk-item {position: relative;z-index: 1;}#sk-container-id-5 div.sk-parallel {display: flex;align-items: stretch;justify-content: center;background-color: white;position: relative;}#sk-container-id-5 div.sk-item::before, #sk-container-id-5 div.sk-parallel-item::before {content: \"\";position: absolute;border-left: 1px solid gray;box-sizing: border-box;top: 0;bottom: 0;left: 50%;z-index: -1;}#sk-container-id-5 div.sk-parallel-item {display: flex;flex-direction: column;z-index: 1;position: relative;background-color: white;}#sk-container-id-5 div.sk-parallel-item:first-child::after {align-self: flex-end;width: 50%;}#sk-container-id-5 div.sk-parallel-item:last-child::after {align-self: flex-start;width: 50%;}#sk-container-id-5 div.sk-parallel-item:only-child::after {width: 0;}#sk-container-id-5 div.sk-dashed-wrapped {border: 1px dashed gray;margin: 0 0.4em 0.5em 0.4em;box-sizing: border-box;padding-bottom: 0.4em;background-color: white;}#sk-container-id-5 div.sk-label label {font-family: monospace;font-weight: bold;display: inline-block;line-height: 1.2em;}#sk-container-id-5 div.sk-label-container {text-align: center;}#sk-container-id-5 div.sk-container {/* jupyter's `normalize.less` sets `[hidden] { display: none; }` but bootstrap.min.css set `[hidden] { display: none !important; }` so we also need the `!important` here to be able to override the default hidden behavior on the sphinx rendered scikit-learn.org. See: https://github.com/scikit-learn/scikit-learn/issues/21755 */display: inline-block !important;position: relative;}#sk-container-id-5 div.sk-text-repr-fallback {display: none;}</style><div id=\"sk-container-id-5\" class=\"sk-top-container\"><div class=\"sk-text-repr-fallback\"><pre>Pipeline(steps=[(&#x27;scaler&#x27;, StandardScaler()), (&#x27;svm&#x27;, SVC(C=10))])</pre><b>In a Jupyter environment, please rerun this cell to show the HTML representation or trust the notebook. <br />On GitHub, the HTML representation is unable to render, please try loading this page with nbviewer.org.</b></div><div class=\"sk-container\" hidden><div class=\"sk-item sk-dashed-wrapped\"><div class=\"sk-label-container\"><div class=\"sk-label sk-toggleable\"><input class=\"sk-toggleable__control sk-hidden--visually\" id=\"sk-estimator-id-7\" type=\"checkbox\" ><label for=\"sk-estimator-id-7\" class=\"sk-toggleable__label sk-toggleable__label-arrow\">Pipeline</label><div class=\"sk-toggleable__content\"><pre>Pipeline(steps=[(&#x27;scaler&#x27;, StandardScaler()), (&#x27;svm&#x27;, SVC(C=10))])</pre></div></div></div><div class=\"sk-serial\"><div class=\"sk-item\"><div class=\"sk-estimator sk-toggleable\"><input class=\"sk-toggleable__control sk-hidden--visually\" id=\"sk-estimator-id-8\" type=\"checkbox\" ><label for=\"sk-estimator-id-8\" class=\"sk-toggleable__label sk-toggleable__label-arrow\">StandardScaler</label><div class=\"sk-toggleable__content\"><pre>StandardScaler()</pre></div></div></div><div class=\"sk-item\"><div class=\"sk-estimator sk-toggleable\"><input class=\"sk-toggleable__control sk-hidden--visually\" id=\"sk-estimator-id-9\" type=\"checkbox\" ><label for=\"sk-estimator-id-9\" class=\"sk-toggleable__label sk-toggleable__label-arrow\">SVC</label><div class=\"sk-toggleable__content\"><pre>SVC(C=10)</pre></div></div></div></div></div></div></div>"
      ],
      "text/plain": [
       "Pipeline(steps=[('scaler', StandardScaler()), ('svm', SVC(C=10))])"
      ]
     },
     "execution_count": 44,
     "metadata": {},
     "output_type": "execute_result"
    }
   ],
   "source": [
    "## SMV\n",
    "pipe = Pipeline([\n",
    "    ('scaler', StandardScaler()),\n",
    "    ('svm', svm.SVC())\n",
    "])\n",
    "\n",
    "# Définir les paramètres pour la recherche de grille\n",
    "param_grid = {\n",
    "    'svm__C': [0.1, 1, 10],\n",
    "    'svm__kernel': ['linear', 'poly', 'rbf'],\n",
    "    'svm__gamma': ['scale', 'auto']\n",
    "}\n",
    "\n",
    "# Effectuer la recherche de grille pour trouver les meilleurs paramètres\n",
    "grid_search = GridSearchCV(pipe, param_grid, cv=5)\n",
    "grid_search.fit(X_train, Y_train)\n",
    "\n",
    "# Utiliser les meilleurs paramètres pour entraîner le modèle SVM\n",
    "modelSVC = grid_search.best_estimator_\n",
    "modelSVC.fit(X_train, Y_train)"
   ]
  },
  {
   "cell_type": "code",
   "execution_count": 45,
   "metadata": {},
   "outputs": [
    {
     "data": {
      "text/html": [
       "<style>#sk-container-id-6 {color: black;background-color: white;}#sk-container-id-6 pre{padding: 0;}#sk-container-id-6 div.sk-toggleable {background-color: white;}#sk-container-id-6 label.sk-toggleable__label {cursor: pointer;display: block;width: 100%;margin-bottom: 0;padding: 0.3em;box-sizing: border-box;text-align: center;}#sk-container-id-6 label.sk-toggleable__label-arrow:before {content: \"▸\";float: left;margin-right: 0.25em;color: #696969;}#sk-container-id-6 label.sk-toggleable__label-arrow:hover:before {color: black;}#sk-container-id-6 div.sk-estimator:hover label.sk-toggleable__label-arrow:before {color: black;}#sk-container-id-6 div.sk-toggleable__content {max-height: 0;max-width: 0;overflow: hidden;text-align: left;background-color: #f0f8ff;}#sk-container-id-6 div.sk-toggleable__content pre {margin: 0.2em;color: black;border-radius: 0.25em;background-color: #f0f8ff;}#sk-container-id-6 input.sk-toggleable__control:checked~div.sk-toggleable__content {max-height: 200px;max-width: 100%;overflow: auto;}#sk-container-id-6 input.sk-toggleable__control:checked~label.sk-toggleable__label-arrow:before {content: \"▾\";}#sk-container-id-6 div.sk-estimator input.sk-toggleable__control:checked~label.sk-toggleable__label {background-color: #d4ebff;}#sk-container-id-6 div.sk-label input.sk-toggleable__control:checked~label.sk-toggleable__label {background-color: #d4ebff;}#sk-container-id-6 input.sk-hidden--visually {border: 0;clip: rect(1px 1px 1px 1px);clip: rect(1px, 1px, 1px, 1px);height: 1px;margin: -1px;overflow: hidden;padding: 0;position: absolute;width: 1px;}#sk-container-id-6 div.sk-estimator {font-family: monospace;background-color: #f0f8ff;border: 1px dotted black;border-radius: 0.25em;box-sizing: border-box;margin-bottom: 0.5em;}#sk-container-id-6 div.sk-estimator:hover {background-color: #d4ebff;}#sk-container-id-6 div.sk-parallel-item::after {content: \"\";width: 100%;border-bottom: 1px solid gray;flex-grow: 1;}#sk-container-id-6 div.sk-label:hover label.sk-toggleable__label {background-color: #d4ebff;}#sk-container-id-6 div.sk-serial::before {content: \"\";position: absolute;border-left: 1px solid gray;box-sizing: border-box;top: 0;bottom: 0;left: 50%;z-index: 0;}#sk-container-id-6 div.sk-serial {display: flex;flex-direction: column;align-items: center;background-color: white;padding-right: 0.2em;padding-left: 0.2em;position: relative;}#sk-container-id-6 div.sk-item {position: relative;z-index: 1;}#sk-container-id-6 div.sk-parallel {display: flex;align-items: stretch;justify-content: center;background-color: white;position: relative;}#sk-container-id-6 div.sk-item::before, #sk-container-id-6 div.sk-parallel-item::before {content: \"\";position: absolute;border-left: 1px solid gray;box-sizing: border-box;top: 0;bottom: 0;left: 50%;z-index: -1;}#sk-container-id-6 div.sk-parallel-item {display: flex;flex-direction: column;z-index: 1;position: relative;background-color: white;}#sk-container-id-6 div.sk-parallel-item:first-child::after {align-self: flex-end;width: 50%;}#sk-container-id-6 div.sk-parallel-item:last-child::after {align-self: flex-start;width: 50%;}#sk-container-id-6 div.sk-parallel-item:only-child::after {width: 0;}#sk-container-id-6 div.sk-dashed-wrapped {border: 1px dashed gray;margin: 0 0.4em 0.5em 0.4em;box-sizing: border-box;padding-bottom: 0.4em;background-color: white;}#sk-container-id-6 div.sk-label label {font-family: monospace;font-weight: bold;display: inline-block;line-height: 1.2em;}#sk-container-id-6 div.sk-label-container {text-align: center;}#sk-container-id-6 div.sk-container {/* jupyter's `normalize.less` sets `[hidden] { display: none; }` but bootstrap.min.css set `[hidden] { display: none !important; }` so we also need the `!important` here to be able to override the default hidden behavior on the sphinx rendered scikit-learn.org. See: https://github.com/scikit-learn/scikit-learn/issues/21755 */display: inline-block !important;position: relative;}#sk-container-id-6 div.sk-text-repr-fallback {display: none;}</style><div id=\"sk-container-id-6\" class=\"sk-top-container\"><div class=\"sk-text-repr-fallback\"><pre>RandomForestClassifier(max_depth=10, min_samples_leaf=3, min_samples_split=5,\n",
       "                       n_estimators=60)</pre><b>In a Jupyter environment, please rerun this cell to show the HTML representation or trust the notebook. <br />On GitHub, the HTML representation is unable to render, please try loading this page with nbviewer.org.</b></div><div class=\"sk-container\" hidden><div class=\"sk-item\"><div class=\"sk-estimator sk-toggleable\"><input class=\"sk-toggleable__control sk-hidden--visually\" id=\"sk-estimator-id-10\" type=\"checkbox\" checked><label for=\"sk-estimator-id-10\" class=\"sk-toggleable__label sk-toggleable__label-arrow\">RandomForestClassifier</label><div class=\"sk-toggleable__content\"><pre>RandomForestClassifier(max_depth=10, min_samples_leaf=3, min_samples_split=5,\n",
       "                       n_estimators=60)</pre></div></div></div></div></div>"
      ],
      "text/plain": [
       "RandomForestClassifier(max_depth=10, min_samples_leaf=3, min_samples_split=5,\n",
       "                       n_estimators=60)"
      ]
     },
     "execution_count": 45,
     "metadata": {},
     "output_type": "execute_result"
    }
   ],
   "source": [
    "## Random Forest\n",
    "# Define the parameter grid\n",
    "params = {\n",
    "    'max_depth': range(4, 11),\n",
    "    'min_samples_leaf': range(1, 6),\n",
    "    'min_samples_split': range(2, 9),\n",
    "    'n_estimators': range(10, 101, 10)\n",
    "}\n",
    "\n",
    "# Split the data into a smaller subset for initial testing\n",
    "small_X_train, small_Y_train = X_train[:100], Y_train[:100]\n",
    "\n",
    "# Run a randomized search with a smaller number of iterations\n",
    "n_iter = 10\n",
    "randomsearch = RandomizedSearchCV(modelForest, param_distributions=params, n_iter=n_iter, cv=2, n_jobs=-1)\n",
    "\n",
    "# Fit the randomized search on the small dataset\n",
    "randomsearch.fit(small_X_train, small_Y_train)\n",
    "\n",
    "# Determine the best hyperparameters from the randomized search\n",
    "best_params = randomsearch.best_params_\n",
    "\n",
    "# Refine the parameter grid around the best hyperparameters\n",
    "params = {\n",
    "    'max_depth': np.arange(best_params['max_depth'] - 1, best_params['max_depth'] + 2),\n",
    "    'min_samples_leaf': np.arange(best_params['min_samples_leaf'] - 1, best_params['min_samples_leaf'] + 2),\n",
    "    'min_samples_split': np.arange(best_params['min_samples_split'] - 1, best_params['min_samples_split'] + 2),\n",
    "    'n_estimators': np.arange(best_params['n_estimators'] - 20, best_params['n_estimators'] + 20, 10)\n",
    "}\n",
    "\n",
    "# Run a grid search with a smaller number of folds\n",
    "cv = 2\n",
    "gridsearch = GridSearchCV(modelForest, param_grid=params, cv=cv, n_jobs=-1)\n",
    "\n",
    "# Fit the grid search on the full dataset\n",
    "gridsearch.fit(X_train, Y_train)\n",
    "\n",
    "# Determine the best hyperparameters from the grid search\n",
    "best_params = gridsearch.best_params_\n",
    "\n",
    "\n",
    "# Cible Catégoriel\n",
    "if np.issubdtype(target_dtype, np.object_):\n",
    "    modelForest = RandomForestClassifier(**best_params)\n",
    "    \n",
    "# Cible Continue\n",
    "else:\n",
    "    # Train a model on the best hyperparameters\n",
    "    modelForest = RandomForestRegressor(**best_params)\n",
    "\n",
    "modelForest.fit(X_train, Y_train)\n"
   ]
  },
  {
   "attachments": {},
   "cell_type": "markdown",
   "metadata": {},
   "source": [
    "## Predict Model"
   ]
  },
  {
   "cell_type": "code",
   "execution_count": 50,
   "metadata": {},
   "outputs": [
    {
     "name": "stdout",
     "output_type": "stream",
     "text": [
      "La taille du dataset était de (7352, 563) lors de l'importation, il fait maintenant (6616, 181).\n",
      "Seulement 89.99 % des lignes sont utiles. \n",
      "\n"
     ]
    }
   ],
   "source": [
    "actual_size = pd.concat([X, Y], axis=1).shape\n",
    "print(f\"La taille du dataset était de {initial_size} lors de l'importation, il fait maintenant {actual_size}.\")\n",
    "print(f'Seulement {round(actual_size[0]/initial_size[0]*100, 2)} % des lignes sont utiles. \\n')"
   ]
  },
  {
   "cell_type": "code",
   "execution_count": 58,
   "metadata": {},
   "outputs": [],
   "source": [
    "\n",
    "def model_kind_score(target, Y_train, Y_train_pred, Y_test, Y_test_pred, name):\n",
    "    # Cible Catégoriel\n",
    "    if np.issubdtype(df[target].dtype, np.object_):\n",
    "        score_train = accuracy_score(Y_train, Y_train_pred)\n",
    "        score_test = accuracy_score(Y_test, Y_test_pred)\n",
    "        kind = 'Accuracy'\n",
    "    # Cible Continue\n",
    "    else:\n",
    "        score_train = r2_score(Y_train, Y_train_pred)\n",
    "        score_test = r2_score(Y_test, Y_test_pred)\n",
    "        kind = 'Rsquared'\n",
    "    print(f'Le score {kind} du modèle {name} \\n\\t sur le train : {score_train} \\n\\t sur le test  : {score_test}\\n')\n",
    "    return score_train, score_test"
   ]
  },
  {
   "cell_type": "code",
   "execution_count": 59,
   "metadata": {},
   "outputs": [
    {
     "name": "stdout",
     "output_type": "stream",
     "text": [
      "Le score Accuracy du modèle Regression \n",
      "\t sur le train : 0.9937755646452072 \n",
      "\t sur le test  : 0.9768378650553877\n",
      "\n",
      "Le score Accuracy du modèle Support Vector Machine \n",
      "\t sur le train : 1.0 \n",
      "\t sur le test  : 0.9838872104733132\n",
      "\n",
      "Le score Accuracy du modèle Random Forest \n",
      "\t sur le train : 0.9937755646452072 \n",
      "\t sur le test  : 0.972809667673716\n",
      "\n"
     ]
    }
   ],
   "source": [
    "# Regression \n",
    "Y_train_pred = model.predict(X_train) # Predictions on training set\n",
    "Y_test_pred = model.predict(X_test) # Prédictions on test set\n",
    "\n",
    "# Support Vector Machine\n",
    "Y_train_SVM_pred = modelSVC.predict(X_train) # Predictions on training set\n",
    "Y_test_SVM_pred = modelSVC.predict(X_test) # Prédictions on test set\n",
    "\n",
    "# Random Forest\n",
    "Y_train_forest_pred = modelForest.predict(X_train) # Predictions on training set\n",
    "Y_test_forest_pred = modelForest.predict(X_test) # Prédictions on test set \n",
    "\n",
    "regression_train, regression_test = model_kind_score(target_name, Y_train, Y_train_pred, Y_test, Y_test_pred, 'Regression')\n",
    "support_VM_train, support_VM_test = model_kind_score(target_name, Y_train, Y_train_SVM_pred, Y_test, Y_test_SVM_pred, 'Support Vector Machine')\n",
    "rnd_forest_train, rnd_forest_test = model_kind_score(target_name, Y_train, Y_train_forest_pred, Y_test, Y_test_forest_pred, 'Random Forest')"
   ]
  },
  {
   "attachments": {},
   "cell_type": "markdown",
   "metadata": {},
   "source": [
    "## Selection Model"
   ]
  },
  {
   "cell_type": "code",
   "execution_count": 48,
   "metadata": {},
   "outputs": [
    {
     "name": "stdout",
     "output_type": "stream",
     "text": [
      "Meilleur modele : Support Vector Machine, avec un score de : 0.9838872104733132\n"
     ]
    }
   ],
   "source": [
    "# Calcule la moyenne moins la moitié de l'écart \n",
    "def score_train_test_gap(score_train, score_test, name, Y_train_pred, Y_test_pred):\n",
    "    return [(score_train + score_test)/2 - abs(score_train - score_test)/2, name, Y_train_pred, Y_test_pred]\n",
    "\n",
    "# Calcule les scores \n",
    "score_regression = score_train_test_gap(regression_train, regression_test, 'Regression', Y_train_pred, Y_test_pred)\n",
    "score_support_VM = score_train_test_gap(support_VM_train, support_VM_test, 'Support Vector Machine', Y_train_SVM_pred, Y_test_SVM_pred)\n",
    "score_rnd_forest = score_train_test_gap(rnd_forest_train, rnd_forest_test, 'Random Forest', Y_train_forest_pred, Y_test_forest_pred)\n",
    "\n",
    "# Trie dans l'ordre décroissant et prend le plus grand\n",
    "list_model = [score_regression, score_support_VM, score_rnd_forest]\n",
    "list_model = sorted(list_model, key=lambda x: x[0], reverse=True)\n",
    "\n",
    "# Creer les paramétres pour la suite \n",
    "[model_score, model_type, show_train_pred, show_test_pred] = list_model[0]\n",
    "\n",
    "print(f'Meilleur modele : {model_type}, avec un score de : {model_score}')"
   ]
  },
  {
   "attachments": {},
   "cell_type": "markdown",
   "metadata": {},
   "source": [
    "## Affichage"
   ]
  },
  {
   "cell_type": "code",
   "execution_count": 49,
   "metadata": {},
   "outputs": [
    {
     "data": {
      "image/png": "[encoded data removed]",
      "text/plain": [
       "<Figure size 1000x400 with 4 Axes>"
      ]
     },
     "metadata": {},
     "output_type": "display_data"
    }
   ],
   "source": [
    "# Calculer la régression linéaire\n",
    "def line_of(real, pred):\n",
    "    m, b = np.polyfit(real, pred, 1)\n",
    "    return m*real+b\n",
    "\n",
    "\n",
    "# Cible Catégoriel\n",
    "if np.issubdtype(target_dtype, np.object_):\n",
    "    \n",
    "    conf_matrix_train = confusion_matrix(Y_train, show_train_pred)\n",
    "    conf_matrix_test = confusion_matrix(Y_test, show_test_pred)\n",
    "    class_names = Y_test.unique().tolist()\n",
    "\n",
    "    fig, (ax1, ax2) = plt.subplots(ncols=2, figsize=(10, 4))\n",
    "\n",
    "    sns.heatmap(conf_matrix_train, annot=True, cmap='Blues', ax=ax1, xticklabels=class_names, yticklabels=class_names, fmt='.6g')\n",
    "    ax1.set_xlabel('Predicted')\n",
    "    ax1.set_ylabel('True')\n",
    "    ax1.set_title('Train Confusion Matrix')\n",
    "\n",
    "    sns.heatmap(conf_matrix_test, annot=True, cmap='Blues', ax=ax2, xticklabels=class_names, yticklabels=class_names, fmt='.6g')\n",
    "    ax2.set_xlabel('Predicted')\n",
    "    ax2.set_ylabel('True')\n",
    "    ax2.set_title('Test Confusion Matrix')\n",
    "\n",
    "    plt.show()\n",
    "\n",
    "# Cible Continue\n",
    "else:\n",
    "    # Visualize the model\n",
    "    colors = ['rgb(31, 119, 180)', 'rgb(255, 127, 14)', 'rgb(44, 160, 44)']\n",
    "    fig = make_subplots(rows=1, cols=2)\n",
    "\n",
    "    # Visualize predictions on training Set\n",
    "    fig.add_trace(go.Scatter(x=Y_train, y=show_train_pred, mode='markers', name='Training Set', showlegend=False, marker=dict(color=colors[0])), row=1, col=1)\n",
    "    fig.add_trace(go.Scatter(x=Y_train, y=line_of(Y_train, Y_train), mode='lines', name='Real', line=dict(color=colors[1])), row=1, col=1)\n",
    "    fig.add_trace(go.Scatter(x=Y_train, y=line_of(Y_train, show_train_pred), mode='lines', name='Predict', line=dict(color=colors[0])), row=1, col=1)\n",
    "\n",
    "    # Visualize predictions on test Set\n",
    "    fig.add_trace(go.Scatter(x=Y_test, y=show_test_pred, mode='markers', name='Test Set', showlegend=False, marker=dict(color=colors[0])), row=1, col=2)\n",
    "    fig.add_trace(go.Scatter(x=Y_test, y=line_of(Y_test, Y_test), mode='lines', name='Real', showlegend=False, line=dict(color=colors[1])), row=1, col=2)\n",
    "    fig.add_trace(go.Scatter(x=Y_test, y=line_of(Y_test, show_test_pred), mode='lines', name='Predict', showlegend=False, line=dict(color=colors[0])), row=1, col=2)\n",
    "\n",
    "    fig.update_layout(title_text=f\"Training Set & Test Set with {model_type}\")\n",
    "    fig.show()"
   ]
  }
 ],
 "metadata": {
  "kernelspec": {
   "display_name": "Python 3",
   "language": "python",
   "name": "python3"
  },
  "language_info": {
   "codemirror_mode": {
    "name": "ipython",
    "version": 3
   },
   "file_extension": ".py",
   "mimetype": "text/x-python",
   "name": "python",
   "nbconvert_exporter": "python",
   "pygments_lexer": "ipython3",
   "version": "3.9.5"
  },
  "orig_nbformat": 4
 },
 "nbformat": 4,
 "nbformat_minor": 2
}
