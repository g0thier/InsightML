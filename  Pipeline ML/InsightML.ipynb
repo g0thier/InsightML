{
 "cells": [
  {
   "attachments": {},
   "cell_type": "markdown",
   "metadata": {},
   "source": [
    "# InsightML"
   ]
  },
  {
   "attachments": {},
   "cell_type": "markdown",
   "metadata": {},
   "source": [
    "## Library"
   ]
  },
  {
   "cell_type": "code",
   "execution_count": 402,
   "metadata": {},
   "outputs": [],
   "source": [
    "import csv\n",
    "import itertools\n",
    "import json\n",
    "import numpy as np\n",
    "import pandas as pd\n",
    "import pandas_flavor as pf\n",
    "import re\n",
    "import ssl\n",
    "import string\n",
    "ssl._create_default_https_context = ssl._create_unverified_context\n",
    "import warnings\n",
    "warnings.filterwarnings(\"ignore\", category=UserWarning, message=\"registration of accessor\")\n",
    "warnings.filterwarnings('ignore', category=pd.core.common.SettingWithCopyWarning)\n",
    "\n",
    "\n",
    "from sklearn.neighbors import LocalOutlierFactor\n",
    "\n",
    "from imblearn.under_sampling import RandomUnderSampler\n",
    "from sklearn.compose import ColumnTransformer\n",
    "from sklearn.ensemble import RandomForestClassifier, RandomForestRegressor\n",
    "from sklearn.impute import SimpleImputer\n",
    "from sklearn.linear_model import LogisticRegression, LinearRegression\n",
    "from sklearn.metrics import accuracy_score, r2_score\n",
    "from sklearn.model_selection import train_test_split, RandomizedSearchCV, GridSearchCV\n",
    "from sklearn.pipeline import Pipeline\n",
    "from sklearn.preprocessing import OneHotEncoder, StandardScaler\n",
    "\n",
    "import matplotlib.pyplot as plt\n",
    "import seaborn as sns\n",
    "from sklearn.metrics import confusion_matrix\n",
    "import plotly.express as px\n",
    "import plotly.graph_objects as go"
   ]
  },
  {
   "attachments": {},
   "cell_type": "markdown",
   "metadata": {},
   "source": [
    "## Magic Format"
   ]
  },
  {
   "cell_type": "code",
   "execution_count": 403,
   "metadata": {},
   "outputs": [],
   "source": [
    "\n",
    "def about_my_csv(filename):\n",
    "    # Ouvrir le fichier en mode lecture et détecter le format de délimitation de colonne\n",
    "    with open(filename, 'r', newline='') as csvfile:\n",
    "        dialect = csv.Sniffer().sniff(csvfile.read(1024))\n",
    "    return dialect\n",
    "\n",
    "def about_my_data(filename):\n",
    "    # Déterminer le délimiteur\n",
    "    with open(filename, 'r') as f:\n",
    "        first_line = f.readline().rstrip('\\n')\n",
    "        # Utilisation de regex pour supprimer le contenu entre les guillemets\n",
    "        first_line = re.sub(r'([\"\\'])(?:\\\\\\1|.)*?\\1', '', first_line)\n",
    "        # Si il y a des espaces, c'est forcément entre deux colonnes\n",
    "        if ' ' in first_line:\n",
    "            delimiter = None\n",
    "            space = True\n",
    "        elif '\\t' in first_line:\n",
    "            delimiter = '\\t'\n",
    "            space = False\n",
    "        else:\n",
    "            delimiter = ','\n",
    "            space = False\n",
    "    return delimiter, space\n",
    "\n",
    "def about_my_xls(filename):\n",
    "    # Lire le fichier Excel en utilisant le module openpyxl et sans en-têtes de colonne\n",
    "    df_temp = pd.read_excel(filename, engine='openpyxl', header=None)\n",
    "    # Détecter le format de délimitation de colonne à l'aide de la fonction csv.Sniffer().sniff()\n",
    "    dialect = csv.Sniffer().sniff(df_temp.to_csv(index=False, header=False))\n",
    "    return dialect\n",
    "\n",
    "def about_my_json(filename):\n",
    "    # Lire le fichier Json pour récuperer la donnée\n",
    "    with open(filename, 'r') as f:\n",
    "        data = f.read()\n",
    "    # Détecter le format du fichier JSON\n",
    "    try:\n",
    "        json.loads(data)\n",
    "        orient = 'records'\n",
    "    except ValueError:\n",
    "        orient = 'columns'\n",
    "    return orient\n",
    "\n",
    "def about_my_h5(filename):\n",
    "    # Lire les clés disponibles dans le fichier HDF5\n",
    "    with pd.HDFStore(filename, mode='r') as store:\n",
    "        keys = store.keys()\n",
    "\n",
    "    # Trouver la clé correspondant au plus grand ensemble de données\n",
    "    max_size = 0\n",
    "    max_key = None\n",
    "    for key in keys:\n",
    "        size = pd.read_hdf(filename, key=key, stop=0).memory_usage(index=True, deep=True).sum()\n",
    "        if size > max_size:\n",
    "            max_size = size\n",
    "            max_key = key\n",
    "    return max_key\n",
    "\n",
    "def rename_my_data(df):\n",
    "    # Renommer les colonnes de AA à ZZ\n",
    "    new_columns = {}\n",
    "    for i, col in enumerate(df.columns):\n",
    "        first_letter = string.ascii_uppercase[i // 26 - 1] if i >= 26 else ''\n",
    "        second_letter = string.ascii_uppercase[i % 26]\n",
    "        new_col_name = first_letter + second_letter if first_letter else second_letter\n",
    "        new_columns[col] = new_col_name\n",
    "\n",
    "    df = df.rename(columns=new_columns)\n",
    "    return df\n"
   ]
  },
  {
   "attachments": {},
   "cell_type": "markdown",
   "metadata": {},
   "source": [
    "## Importation"
   ]
  },
  {
   "cell_type": "code",
   "execution_count": 404,
   "metadata": {},
   "outputs": [],
   "source": [
    "\n",
    "path_to_file = 'Datasets/heart_disease.csv'\n",
    "\n",
    "extention = path_to_file.split('.')[-1]\n",
    "\n",
    "if extention == 'csv':\n",
    "    # Infos format about my csv.\n",
    "    my_dialect = about_my_csv(path_to_file)\n",
    "    # Make dataframe.\n",
    "    df = pd.read_csv(path_to_file, dialect=my_dialect)\n",
    "\n",
    "elif extention in ['xls', 'xlsx','xlsm','xlsb']:\n",
    "    # Infos format about my excel.\n",
    "    my_dialect = about_my_csv(path_to_file)\n",
    "    # Make dataframe.\n",
    "    df = pd.read_excel(path_to_file, engine='openpyxl', delimiter=my_dialect.delimiter)\n",
    "\n",
    "elif extention == 'json':\n",
    "    # Infos format about my json.\n",
    "    my_orient = about_my_csv(path_to_file)\n",
    "    # Make dataframe.\n",
    "    df = pd.read_json(path_to_file, orient=my_orient)\n",
    "\n",
    "elif extention == 'h5':\n",
    "    # Infos format about my json.\n",
    "    my_key = about_my_h5(path_to_file)\n",
    "    # Make dataframe\n",
    "    df = pd.read_hdf(path_to_file, key=my_key, mode='r')\n",
    "\n",
    "elif extention == 'data':\n",
    "    # Infos format about my csv.\n",
    "    my_delimiter, space = about_my_data(path_to_file)\n",
    "    # Make dataframe\n",
    "    df = pd.read_csv(path_to_file, delimiter=my_delimiter, delim_whitespace=space, header=None)\n",
    "    df = rename_my_data(df)\n",
    "\n",
    "else: \n",
    "    print('format non pris en charge')\n",
    "    print('Option à venir : SQL, Parquet, Feather, Pickle, HTML, XML')"
   ]
  },
  {
   "attachments": {},
   "cell_type": "markdown",
   "metadata": {},
   "source": [
    "## Paramètre d'entrée"
   ]
  },
  {
   "cell_type": "code",
   "execution_count": 405,
   "metadata": {},
   "outputs": [
    {
     "name": "stdout",
     "output_type": "stream",
     "text": [
      "Taille dataset : (1025, 14)\n"
     ]
    }
   ],
   "source": [
    "initial_size = df.shape\n",
    "\n",
    "target_name = df.columns[-1]\n",
    "\n",
    "## Pour l'ensemble de test, à supprimer par la suite \n",
    "if path_to_file == 'Datasets/breast-cancer-wisconsin.csv':\n",
    "    target_name = 'diagnosis'\n",
    "## *** ###\n",
    "\n",
    "df.dropna(subset=target_name, inplace=True)\n",
    "print(f'Taille dataset : {df.shape}')"
   ]
  },
  {
   "attachments": {},
   "cell_type": "markdown",
   "metadata": {},
   "source": [
    "## Supp Colonnes"
   ]
  },
  {
   "cell_type": "code",
   "execution_count": 406,
   "metadata": {},
   "outputs": [
    {
     "name": "stdout",
     "output_type": "stream",
     "text": [
      "Taille dataset : (1025, 14)\n"
     ]
    }
   ],
   "source": [
    "# Calcul du pourcentage de lignes vides pour chaque colonne\n",
    "pourcentage_lignes_vides = df.isna().sum() / len(df)\n",
    "\n",
    "# Sélection des colonnes à conserver (celles ayant moins de 30% de lignes vides)\n",
    "colonnes_a_conserver = pourcentage_lignes_vides[pourcentage_lignes_vides <= 0.3].index\n",
    "\n",
    "# Création d'un nouveau DataFrame ne contenant que les colonnes à conserver\n",
    "df = df[colonnes_a_conserver]\n",
    "print(f'Taille dataset : {df.shape}')"
   ]
  },
  {
   "attachments": {},
   "cell_type": "markdown",
   "metadata": {},
   "source": [
    "## Supp lignes"
   ]
  },
  {
   "cell_type": "code",
   "execution_count": 407,
   "metadata": {},
   "outputs": [
    {
     "name": "stdout",
     "output_type": "stream",
     "text": [
      "Taille dataset : (1025, 14)\n"
     ]
    }
   ],
   "source": [
    "## Supprime les lignes avec des données sporatiques\n",
    "# Calculer le pourcentage de valeurs manquantes dans chaque ligne\n",
    "missing_pct = df.isnull().sum(axis=1) / df.shape[1]\n",
    "# Calculer le seuil de tolérance en nombre de colonnes sans valeurs\n",
    "threshold = 0.15 * df.shape[1]\n",
    "# Supprimer les lignes dont le nombre de colonnes sans valeurs est supérieur au seuil de tolérance\n",
    "df = df.dropna(thresh=df.shape[1]-threshold)\n",
    "print(f'Taille dataset : {df.shape}')"
   ]
  },
  {
   "attachments": {},
   "cell_type": "markdown",
   "metadata": {},
   "source": [
    "## DateTime"
   ]
  },
  {
   "cell_type": "code",
   "execution_count": 408,
   "metadata": {},
   "outputs": [
    {
     "name": "stdout",
     "output_type": "stream",
     "text": [
      "Taille dataset : (1025, 14)\n"
     ]
    }
   ],
   "source": [
    "# Définir la méthode 'detect_date' pour détecter les colonnes de texte contenant des dates\n",
    "@pf.register_dataframe_method\n",
    "def detect_date(df):\n",
    "    for col in df.columns:\n",
    "        if pd.api.types.is_datetime64_any_dtype(df[col]):\n",
    "            try:\n",
    "                df[col] = pd.to_datetime(df[col])\n",
    "            except ValueError:\n",
    "                pass\n",
    "    return df\n",
    "\n",
    "\n",
    "# Détecter et convertir les colonnes de texte en dates\n",
    "df = df.detect_date()\n",
    "print(f'Taille dataset : {df.shape}')"
   ]
  },
  {
   "cell_type": "code",
   "execution_count": 409,
   "metadata": {},
   "outputs": [
    {
     "name": "stdout",
     "output_type": "stream",
     "text": [
      "Il n'y a pas assez de colonnes de date pour faire des différences de temps.\n",
      "Taille dataset : (1025, 14)\n"
     ]
    }
   ],
   "source": [
    "# Identifier les colonnes de type datetime\n",
    "date_cols = [col for col in df.columns if df[col].dtype == 'datetime64[ns]']\n",
    "\n",
    "# Vérifier s'il y a au moins deux colonnes de date\n",
    "if len(date_cols) < 2:\n",
    "    print('Il n\\'y a pas assez de colonnes de date pour faire des différences de temps.')\n",
    "else:\n",
    "    # Normaliser les dates sur UTC\n",
    "    for date_col in date_cols:\n",
    "        df[date_col] = df[date_col].dt.tz_convert('Etc/UTC')\n",
    "\n",
    "    # Créer toutes les combinaisons de colonnes de date\n",
    "    list_date_cols = list(itertools.combinations(date_cols, 2))\n",
    "\n",
    "    # Calculer la différence de temps entre chaque paire de colonnes de date\n",
    "    for paire_date in list_date_cols:\n",
    "        first_date = paire_date[0]\n",
    "        second_date = paire_date[1]\n",
    "\n",
    "        df[f'{first_date}_x_{second_date}'] = (df[second_date] - df[first_date]).dt.total_seconds()\n",
    "\n",
    "\n",
    "# Extraire : Year, Day, WeekDay, Hour, Minute, Second, Microsecond\n",
    "for date_col in date_cols:\n",
    "    # Ajouter les colonnes pour chaque attribut de date\n",
    "    df[f'{date_col}_year'] = df[date_col].dt.year\n",
    "    df[f'{date_col}_day_of_year'] = df[date_col].dt.dayofyear\n",
    "    df[f'{date_col}_day_of_week'] = df[date_col].dt.dayofweek\n",
    "    df[f'{date_col}_hour'] = df[date_col].dt.hour\n",
    "    df[f'{date_col}_minute'] = df[date_col].dt.minute\n",
    "    df[f'{date_col}_second'] = df[date_col].dt.second\n",
    "    df[f'{date_col}_microsecond'] = df[date_col].dt.microsecond\n",
    "\n",
    "    df.drop(date_col, axis=1, inplace=True)\n",
    "print(f'Taille dataset : {df.shape}')"
   ]
  },
  {
   "attachments": {},
   "cell_type": "markdown",
   "metadata": {},
   "source": [
    "## Numerical"
   ]
  },
  {
   "cell_type": "code",
   "execution_count": 410,
   "metadata": {},
   "outputs": [
    {
     "name": "stdout",
     "output_type": "stream",
     "text": [
      "Taille dataset : (1025, 14)\n"
     ]
    }
   ],
   "source": [
    "\n",
    "numeric_features = df.select_dtypes([np.number]).columns\n",
    "\n",
    "for numerical in numeric_features:\n",
    "    # Garde uniquement les valeurs qui sont dans l'intervalle [moyenne-2*ecart_type, moyenne+2*ecart_type]\n",
    "    #to_keep = (df[numerical] > df[numerical].mean() - 2*df[numerical].std()) & (df[numerical] < df[numerical].mean() + 2*df[numerical].std())\n",
    "    #df = df.loc[to_keep,:]\n",
    "    #print(f'Taille après traitement sur {numerical} : {df.shape}')\n",
    "\n",
    "    # Transforme en catégoriel quand moins de 8 valeurs différentes.\n",
    "    if df[numerical].nunique() <= 8:\n",
    "        df[numerical] = df[numerical].astype(str)\n",
    "\n",
    "    # Supression valeurs manquantes au dessus de 10 %\n",
    "    pourcentage_valeur_manquante = 100*df[numerical].isnull().sum()/len(df)\n",
    "    if pourcentage_valeur_manquante >= 10:\n",
    "        df.drop(numerical, axis=1, inplace=True)\n",
    "        print(f'Supression de la colonne {numerical}')\n",
    "print(f'Taille dataset : {df.shape}')"
   ]
  },
  {
   "attachments": {},
   "cell_type": "markdown",
   "metadata": {},
   "source": [
    "## Numerical Outliers"
   ]
  },
  {
   "cell_type": "code",
   "execution_count": 411,
   "metadata": {},
   "outputs": [
    {
     "name": "stdout",
     "output_type": "stream",
     "text": [
      "Taille dataset : (919, 14)\n"
     ]
    }
   ],
   "source": [
    "\n",
    "numeric_features = df.select_dtypes([np.number]).columns\n",
    "\n",
    "# Créez un modèle LOF\n",
    "lof_model = LocalOutlierFactor(n_neighbors=20, contamination=0.1)\n",
    "# Entraînez le modèle sur les données\n",
    "lof_model.fit(df[numeric_features])\n",
    "# Calculez les scores LOF pour chaque point de données\n",
    "lof_scores = lof_model.negative_outlier_factor_\n",
    "# supprime les points ayant un score LOF inférieur au 10ème percentile\n",
    "threshold = np.percentile(lof_scores, 10) \n",
    "# Créez un masque booléen pour sélectionner les points qui sont en dessous du seuil\n",
    "outlier_mask = lof_scores > threshold\n",
    "# Sélectionnez les points qui ne sont pas des outliers\n",
    "df = df.loc[outlier_mask, :]\n",
    "\n",
    "print(f'Taille dataset : {df.shape}')"
   ]
  },
  {
   "attachments": {},
   "cell_type": "markdown",
   "metadata": {},
   "source": [
    "## Categoriel"
   ]
  },
  {
   "cell_type": "code",
   "execution_count": 412,
   "metadata": {},
   "outputs": [
    {
     "name": "stdout",
     "output_type": "stream",
     "text": [
      "Taille dataset : (919, 14)\n"
     ]
    }
   ],
   "source": [
    "\n",
    "categorical_features = df.select_dtypes(\"object\").columns\n",
    "\n",
    "for categorical in categorical_features:\n",
    "    # Remplacement des valeurs nulles par la valeur \"manquante\"\n",
    "    df[categorical] = df[categorical].fillna('manquante')\n",
    "\n",
    "    ## Remplace les valeurs sporatique par la valeur \"autre\"\n",
    "    counts = df[categorical].value_counts(normalize=True) # Calcul du pourcentage de chaque valeur dans la colonne\n",
    "    mask = (counts < 0.1) # Sélection des valeurs qui représentent moins de 10% de la colonne\n",
    "    df[categorical] = df[categorical].replace(counts[mask].index.tolist(), 'autre') # Remplacement des valeurs sélectionnées par la valeur \"autre\"\n",
    "\n",
    "    # Suppression des colonnes contenant une seule valeur\n",
    "    if df[categorical].nunique() == 1:\n",
    "        df.drop(categorical, axis=1, inplace=True)\n",
    "print(f'Taille dataset : {df.shape}')"
   ]
  },
  {
   "attachments": {},
   "cell_type": "markdown",
   "metadata": {},
   "source": [
    "#### Par la suite\n",
    "* Détecter format carte bancaire, indicatif telephone...\n",
    "* Convertir adresse en format lat.nlong\n",
    "* Convertir les listes de mots en catégories quand c'est possible.\n",
    "* ..."
   ]
  },
  {
   "attachments": {},
   "cell_type": "markdown",
   "metadata": {},
   "source": [
    "## Correction Prè-traitement"
   ]
  },
  {
   "cell_type": "code",
   "execution_count": 413,
   "metadata": {},
   "outputs": [
    {
     "name": "stdout",
     "output_type": "stream",
     "text": [
      "Taille dataset : (270, 14)\n"
     ]
    }
   ],
   "source": [
    "# Supprimer les lignes en double\n",
    "df.drop_duplicates(inplace=True)\n",
    "print(f'Taille dataset : {df.shape}')"
   ]
  },
  {
   "attachments": {},
   "cell_type": "markdown",
   "metadata": {},
   "source": [
    "## Séparation en variables explicative et cible"
   ]
  },
  {
   "cell_type": "code",
   "execution_count": 414,
   "metadata": {},
   "outputs": [
    {
     "name": "stdout",
     "output_type": "stream",
     "text": [
      "Taille X : (270, 13)\n"
     ]
    }
   ],
   "source": [
    "Y = df[:][target_name]\n",
    "X = df.drop(columns=[target_name])\n",
    "print(f'Taille X : {X.shape}')"
   ]
  },
  {
   "attachments": {},
   "cell_type": "markdown",
   "metadata": {},
   "source": [
    "## Suppr colonnes ultra corrélées"
   ]
  },
  {
   "cell_type": "code",
   "execution_count": 415,
   "metadata": {},
   "outputs": [
    {
     "name": "stdout",
     "output_type": "stream",
     "text": [
      "Taille X : (270, 14)\n"
     ]
    }
   ],
   "source": [
    "corr = X.corr()\n",
    "\n",
    "high_corr_list = []\n",
    "cols = corr.columns\n",
    "\n",
    "for j in cols:\n",
    "    for i, item in corr[j].iteritems():\n",
    "        if (i!=j) and abs(item) > 0.9:\n",
    "            high_corr_list.append((i,j))\n",
    "\n",
    "no_keep = [high_corr_list[i][0] for i in range(len(high_corr_list)) if i%2 == 0]\n",
    "\n",
    "X = df.drop(columns=no_keep)\n",
    "print(f'Taille X : {X.shape}')"
   ]
  },
  {
   "attachments": {},
   "cell_type": "markdown",
   "metadata": {},
   "source": [
    "## Séparation en set d'entrainement & de test\n",
    "Pour le rééquilibrage une meilleur approche est de faire attention :\n",
    "à la précision, le rappel, la F1-score et l'aire sous la courbe ROC. "
   ]
  },
  {
   "cell_type": "code",
   "execution_count": 416,
   "metadata": {},
   "outputs": [
    {
     "name": "stdout",
     "output_type": "stream",
     "text": [
      "Taille X : (249, 14)\n"
     ]
    }
   ],
   "source": [
    "target_dtype = df[target_name].dtype\n",
    "\n",
    "# Cible Catégoriel\n",
    "if np.issubdtype(target_dtype, np.object_):\n",
    "    X_train, X_test, Y_train, Y_test = train_test_split(X, Y, test_size=0.15, random_state=0, stratify=Y)\n",
    "\n",
    "    # calculer les pourcentages de chaque valeur unique et les trier par ordre décroissant\n",
    "    pourcentages = df[target_name].value_counts(normalize=True) * 100\n",
    "    pourcentages = pourcentages.sort_values(ascending=False)\n",
    "    # Si l'écart entre la valeur majoritaire et minoritaire est supperieur à 10 %, enclenche le rééchantillonnage\n",
    "    if pourcentages[0] - pourcentages[-1] < 10 :\n",
    "        # Rééchantillonnage pour des valeurs Booleennes \n",
    "        my_sampling_strategy = 'majority' \n",
    "        # Rééchantillonnage pour équilibrer des Classes \n",
    "        if len(pourcentages) > 2:\n",
    "            my_sampling_strategy = 'not majority'\n",
    "        # Rééchantillonnage \n",
    "        oversample = RandomUnderSampler(sampling_strategy=my_sampling_strategy)\n",
    "        X_train, Y_train = oversample.fit_resample(X_train, Y_train)\n",
    "\n",
    "# Cible Continue\n",
    "else: \n",
    "    X_train, X_test, Y_train, Y_test = train_test_split(X, Y, test_size=0.15, random_state=0)\n",
    "print(f'Taille X : {np.concatenate((X_train, X_test)).shape}')"
   ]
  },
  {
   "attachments": {},
   "cell_type": "markdown",
   "metadata": {},
   "source": [
    "## Préprocessing Pipeline"
   ]
  },
  {
   "cell_type": "code",
   "execution_count": 417,
   "metadata": {},
   "outputs": [
    {
     "name": "stdout",
     "output_type": "stream",
     "text": [
      "Taille X : (249, 21)\n"
     ]
    }
   ],
   "source": [
    "# Create pipeline for numeric features\n",
    "numeric_features = X.select_dtypes([np.number]).columns # Automatically detect positions of numeric columns\n",
    "numeric_transformer = Pipeline(steps=[\n",
    "    ('imputer', SimpleImputer(strategy='median')), # missing values will be replaced by columns' median\n",
    "    ('scaler', StandardScaler())\n",
    "])\n",
    "\n",
    "# Create pipeline for categorical features\n",
    "categorical_features = X.select_dtypes(\"object\").columns # Automatically detect positions of categorical columns\n",
    "categorical_transformer = Pipeline(\n",
    "    steps=[\n",
    "    ('imputer', SimpleImputer(strategy='most_frequent')), # missing values will be replaced by most frequent value\n",
    "    ('encoder', OneHotEncoder(drop='first')) # first column will be dropped to avoid creating correlations between features\n",
    "    ])\n",
    "\n",
    "# Use ColumnTransformer to make a preprocessor object that describes all the treatments to be done\n",
    "preprocessor = ColumnTransformer(\n",
    "    transformers=[\n",
    "        ('num', numeric_transformer, numeric_features),\n",
    "        ('cat', categorical_transformer, categorical_features)\n",
    "    ])\n",
    "\n",
    "X_train = preprocessor.fit_transform(X_train) # Preprocessing influenceur\n",
    "X_test = preprocessor.transform(X_test) # Preprocessing copieur\n",
    "print(f'Taille X : {np.concatenate((X_train, X_test)).shape}')"
   ]
  },
  {
   "attachments": {},
   "cell_type": "markdown",
   "metadata": {},
   "source": [
    "## Training Model "
   ]
  },
  {
   "cell_type": "code",
   "execution_count": 418,
   "metadata": {},
   "outputs": [],
   "source": [
    "## Define the model to be tuned\n",
    "# Cible Catégoriel\n",
    "if np.issubdtype(target_dtype, np.object_):\n",
    "    model = LogisticRegression()\n",
    "    modelForest = RandomForestClassifier()\n",
    "\n",
    "# Cible Continue\n",
    "else:\n",
    "    model = LinearRegression()\n",
    "    modelForest = RandomForestRegressor()"
   ]
  },
  {
   "cell_type": "code",
   "execution_count": 419,
   "metadata": {},
   "outputs": [
    {
     "data": {
      "text/plain": [
       "LogisticRegression()"
      ]
     },
     "execution_count": 419,
     "metadata": {},
     "output_type": "execute_result"
    }
   ],
   "source": [
    "## Regression \n",
    "model.fit(X_train, Y_train)"
   ]
  },
  {
   "cell_type": "code",
   "execution_count": 420,
   "metadata": {},
   "outputs": [
    {
     "data": {
      "text/plain": [
       "RandomForestClassifier(max_depth=6, min_samples_leaf=2, min_samples_split=4,\n",
       "                       n_estimators=80)"
      ]
     },
     "execution_count": 420,
     "metadata": {},
     "output_type": "execute_result"
    }
   ],
   "source": [
    "## Random Forest\n",
    "# Define the parameter grid\n",
    "params = {\n",
    "    'max_depth': range(4, 11),\n",
    "    'min_samples_leaf': range(1, 6),\n",
    "    'min_samples_split': range(2, 9),\n",
    "    'n_estimators': range(10, 101, 10)\n",
    "}\n",
    "\n",
    "# Split the data into a smaller subset for initial testing\n",
    "small_X_train, small_Y_train = X_train[:100], Y_train[:100]\n",
    "\n",
    "# Run a randomized search with a smaller number of iterations\n",
    "n_iter = 10\n",
    "randomsearch = RandomizedSearchCV(modelForest, param_distributions=params, n_iter=n_iter, cv=2, n_jobs=-1)\n",
    "\n",
    "# Fit the randomized search on the small dataset\n",
    "randomsearch.fit(small_X_train, small_Y_train)\n",
    "\n",
    "# Determine the best hyperparameters from the randomized search\n",
    "best_params = randomsearch.best_params_\n",
    "\n",
    "# Refine the parameter grid around the best hyperparameters\n",
    "params = {\n",
    "    'max_depth': np.arange(best_params['max_depth'] - 1, best_params['max_depth'] + 2),\n",
    "    'min_samples_leaf': np.arange(best_params['min_samples_leaf'] - 1, best_params['min_samples_leaf'] + 2),\n",
    "    'min_samples_split': np.arange(best_params['min_samples_split'] - 1, best_params['min_samples_split'] + 2),\n",
    "    'n_estimators': np.arange(best_params['n_estimators'] - 20, best_params['n_estimators'] + 20, 10)\n",
    "}\n",
    "\n",
    "# Run a grid search with a smaller number of folds\n",
    "cv = 2\n",
    "gridsearch = GridSearchCV(modelForest, param_grid=params, cv=cv, n_jobs=-1)\n",
    "\n",
    "# Fit the grid search on the full dataset\n",
    "gridsearch.fit(X_train, Y_train)\n",
    "\n",
    "# Determine the best hyperparameters from the grid search\n",
    "best_params = gridsearch.best_params_\n",
    "\n",
    "\n",
    "# Cible Catégoriel\n",
    "if np.issubdtype(target_dtype, np.object_):\n",
    "    modelForest = RandomForestClassifier(**best_params)\n",
    "    \n",
    "# Cible Continue\n",
    "else:\n",
    "    # Train a model on the best hyperparameters\n",
    "    modelForest = RandomForestRegressor(**best_params)\n",
    "\n",
    "modelForest.fit(X_train, Y_train)\n"
   ]
  },
  {
   "attachments": {},
   "cell_type": "markdown",
   "metadata": {},
   "source": [
    "## Predict Model"
   ]
  },
  {
   "cell_type": "code",
   "execution_count": 421,
   "metadata": {},
   "outputs": [],
   "source": [
    "# Regression \n",
    "Y_train_pred = model.predict(X_train) # Predictions on training set\n",
    "Y_test_pred = model.predict(X_test) # Prédictions on test set\n",
    "\n",
    "# Random Forest\n",
    "Y_train_forest_pred = modelForest.predict(X_train) # Predictions on training set\n",
    "Y_test_forest_pred = modelForest.predict(X_test) # Prédictions on test set "
   ]
  },
  {
   "cell_type": "code",
   "execution_count": 422,
   "metadata": {},
   "outputs": [
    {
     "name": "stdout",
     "output_type": "stream",
     "text": [
      "Le dataset faisait (1025, 14) lignes lors de l'importation, il fait maintenant (270, 15) lignes.\n",
      "Sur la regression logistique l'accuracy est de : 1.0 sur le train et 1.0 sur le test.\n",
      "Pendant que la random forest l'accuracy est de : 1.0 sur le train et 1.0 sur le test.\n"
     ]
    }
   ],
   "source": [
    "actual_size = pd.concat([X, Y], axis=1).shape\n",
    "print(f\"Le dataset faisait {initial_size} lignes lors de l'importation, il fait maintenant {actual_size} lignes.\")\n",
    "\n",
    "## Define the model to be tuned\n",
    "# Cible Catégoriel\n",
    "if np.issubdtype(target_dtype, np.object_):\n",
    "    # Train\n",
    "    ac_regression_train = accuracy_score(Y_train, Y_train_pred)\n",
    "    ac_rnd_forest_train = accuracy_score(Y_train, Y_train_forest_pred)\n",
    "    # Test\n",
    "    ac_regression_test = accuracy_score(Y_test, Y_test_pred)\n",
    "    ac_rnd_forest_test = accuracy_score(Y_test, Y_test_forest_pred)\n",
    "\n",
    "    print(f\"Sur la regression logistique l'accuracy est de : {ac_regression_train} sur le train et {ac_regression_test} sur le test.\")\n",
    "    print(f\"Pendant que la random forest l'accuracy est de : {ac_rnd_forest_train} sur le train et {ac_rnd_forest_test} sur le test.\")\n",
    "\n",
    "# Cible Continue\n",
    "else:\n",
    "    # Train\n",
    "    r2_regression_train = r2_score(Y_train, Y_train_pred)\n",
    "    r2_rnd_forest_train = r2_score(Y_train, Y_train_forest_pred)\n",
    "    # Test\n",
    "    r2_regression_test = r2_score(Y_test, Y_test_pred)\n",
    "    r2_rnd_forest_test = r2_score(Y_test, Y_test_forest_pred)\n",
    "\n",
    "    print(f\"Sur la regression logistique le r2 est de : {r2_regression_train} sur le train et {r2_regression_test} sur le test.\")\n",
    "    print(f\"Pendant que le random forest le r2 est de : {r2_rnd_forest_train} sur le train et {r2_rnd_forest_test} sur le test.\")"
   ]
  },
  {
   "attachments": {},
   "cell_type": "markdown",
   "metadata": {},
   "source": [
    "## Affichage"
   ]
  },
  {
   "cell_type": "code",
   "execution_count": 423,
   "metadata": {},
   "outputs": [
    {
     "data": {
      "image/png": "[encoded data removed]",
      "text/plain": [
       "<Figure size 1000x400 with 4 Axes>"
      ]
     },
     "metadata": {},
     "output_type": "display_data"
    }
   ],
   "source": [
    "# Cible Catégoriel\n",
    "if np.issubdtype(target_dtype, np.object_):\n",
    "    \n",
    "    conf_matrix_train = confusion_matrix(Y_train, Y_train_pred)\n",
    "    conf_matrix_test = confusion_matrix(Y_test, Y_test_pred)\n",
    "    class_names = Y_test.unique().tolist()\n",
    "\n",
    "    fig, (ax1, ax2) = plt.subplots(ncols=2, figsize=(10, 4))\n",
    "\n",
    "    sns.heatmap(conf_matrix_train, annot=True, cmap='Blues', ax=ax1, xticklabels=class_names, yticklabels=class_names)\n",
    "    ax1.set_xlabel('Predicted')\n",
    "    ax1.set_ylabel('True')\n",
    "    ax1.set_title('Train Confusion Matrix')\n",
    "\n",
    "    sns.heatmap(conf_matrix_test, annot=True, cmap='Blues', ax=ax2, xticklabels=class_names, yticklabels=class_names)\n",
    "    ax2.set_xlabel('Predicted')\n",
    "    ax2.set_ylabel('True')\n",
    "    ax2.set_title('Test Confusion Matrix')\n",
    "\n",
    "    plt.show()\n",
    "\n",
    "# Cible Continue\n",
    "else:\n",
    "    # Visualize the model\n",
    "    # Visualize predictions on training Set\n",
    "    fig = px.scatter(x = Y_train, y = Y_train_pred, title = \"training set\")\n",
    "    fig.add_trace(go.Scatter(x = Y_train, y = Y_train, name = \"real\"))\n",
    "    fig.add_trace(go.Scatter(x = Y_train_pred, y = Y_train_pred, name = \"predict\"))\n",
    "    fig.show()\n",
    "\n",
    "    # Visualize predictions on test Set\n",
    "    fig = px.scatter(x = Y_test, y = Y_test_pred, title = \"test set\")\n",
    "    fig.add_trace(go.Scatter(x = Y_test, y = Y_test, name = \"real\"))\n",
    "    fig.add_trace(go.Scatter(x = Y_test_pred, y = Y_test_pred, name = \"predict\"))\n",
    "    fig.show()"
   ]
  }
 ],
 "metadata": {
  "kernelspec": {
   "display_name": "Python 3",
   "language": "python",
   "name": "python3"
  },
  "language_info": {
   "codemirror_mode": {
    "name": "ipython",
    "version": 3
   },
   "file_extension": ".py",
   "mimetype": "text/x-python",
   "name": "python",
   "nbconvert_exporter": "python",
   "pygments_lexer": "ipython3",
   "version": "3.9.5"
  },
  "orig_nbformat": 4
 },
 "nbformat": 4,
 "nbformat_minor": 2
}
