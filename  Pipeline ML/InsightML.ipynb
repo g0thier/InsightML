{
 "cells": [
  {
   "attachments": {},
   "cell_type": "markdown",
   "metadata": {},
   "source": [
    "# InsightML"
   ]
  },
  {
   "attachments": {},
   "cell_type": "markdown",
   "metadata": {},
   "source": [
    "## Library"
   ]
  },
  {
   "cell_type": "code",
   "execution_count": 204,
   "metadata": {},
   "outputs": [],
   "source": [
    "import csv\n",
    "import itertools\n",
    "import json\n",
    "import numpy as np\n",
    "import pandas as pd\n",
    "import pandas_flavor as pf\n",
    "import re\n",
    "import ssl\n",
    "import string\n",
    "ssl._create_default_https_context = ssl._create_unverified_context\n",
    "\n",
    "from imblearn.under_sampling import RandomUnderSampler\n",
    "from sklearn.compose import ColumnTransformer\n",
    "from sklearn.ensemble import RandomForestClassifier, RandomForestRegressor\n",
    "from sklearn.impute import SimpleImputer\n",
    "from sklearn.linear_model import LogisticRegression, LinearRegression\n",
    "from sklearn.metrics import accuracy_score, r2_score\n",
    "from sklearn.model_selection import train_test_split, RandomizedSearchCV, GridSearchCV\n",
    "from sklearn.pipeline import Pipeline\n",
    "from sklearn.preprocessing import OneHotEncoder, StandardScaler\n",
    "\n",
    "import matplotlib.pyplot as plt\n",
    "import seaborn as sns\n",
    "from sklearn.metrics import confusion_matrix\n",
    "import plotly.express as px\n",
    "import plotly.graph_objects as go"
   ]
  },
  {
   "attachments": {},
   "cell_type": "markdown",
   "metadata": {},
   "source": [
    "## Magic Format"
   ]
  },
  {
   "cell_type": "code",
   "execution_count": 205,
   "metadata": {},
   "outputs": [],
   "source": [
    "\n",
    "def about_my_csv(filename):\n",
    "    # Ouvrir le fichier en mode lecture et détecter le format de délimitation de colonne\n",
    "    with open(filename, 'r', newline='') as csvfile:\n",
    "        dialect = csv.Sniffer().sniff(csvfile.read(1024))\n",
    "    return dialect\n",
    "\n",
    "def about_my_data(filename):\n",
    "    # Déterminer le délimiteur\n",
    "    with open(filename, 'r') as f:\n",
    "        first_line = f.readline().rstrip('\\n')\n",
    "        # Utilisation de regex pour supprimer le contenu entre les guillemets\n",
    "        first_line = re.sub(r'([\"\\'])(?:\\\\\\1|.)*?\\1', '', first_line)\n",
    "        # Si il y a des espaces, c'est forcément entre deux colonnes\n",
    "        if ' ' in first_line:\n",
    "            delimiter = None\n",
    "            space = True\n",
    "        elif '\\t' in first_line:\n",
    "            delimiter = '\\t'\n",
    "            space = False\n",
    "        else:\n",
    "            delimiter = ','\n",
    "            space = False\n",
    "    return delimiter, space\n",
    "\n",
    "def about_my_xls(filename):\n",
    "    # Lire le fichier Excel en utilisant le module openpyxl et sans en-têtes de colonne\n",
    "    df_temp = pd.read_excel(filename, engine='openpyxl', header=None)\n",
    "    # Détecter le format de délimitation de colonne à l'aide de la fonction csv.Sniffer().sniff()\n",
    "    dialect = csv.Sniffer().sniff(df_temp.to_csv(index=False, header=False))\n",
    "    return dialect\n",
    "\n",
    "def about_my_json(filename):\n",
    "    # Lire le fichier Json pour récuperer la donnée\n",
    "    with open(filename, 'r') as f:\n",
    "        data = f.read()\n",
    "    # Détecter le format du fichier JSON\n",
    "    try:\n",
    "        json.loads(data)\n",
    "        orient = 'records'\n",
    "    except ValueError:\n",
    "        orient = 'columns'\n",
    "    return orient\n",
    "\n",
    "def about_my_h5(filename):\n",
    "    # Lire les clés disponibles dans le fichier HDF5\n",
    "    with pd.HDFStore(filename, mode='r') as store:\n",
    "        keys = store.keys()\n",
    "\n",
    "    # Trouver la clé correspondant au plus grand ensemble de données\n",
    "    max_size = 0\n",
    "    max_key = None\n",
    "    for key in keys:\n",
    "        size = pd.read_hdf(filename, key=key, stop=0).memory_usage(index=True, deep=True).sum()\n",
    "        if size > max_size:\n",
    "            max_size = size\n",
    "            max_key = key\n",
    "    return max_key\n",
    "\n",
    "def rename_my_data(df):\n",
    "    # Renommer les colonnes de AA à ZZ\n",
    "    new_columns = {}\n",
    "    for i, col in enumerate(df.columns):\n",
    "        first_letter = string.ascii_uppercase[i // 26 - 1] if i >= 26 else ''\n",
    "        second_letter = string.ascii_uppercase[i % 26]\n",
    "        new_col_name = first_letter + second_letter if first_letter else second_letter\n",
    "        new_columns[col] = new_col_name\n",
    "\n",
    "    df = df.rename(columns=new_columns)\n",
    "    return df\n"
   ]
  },
  {
   "attachments": {},
   "cell_type": "markdown",
   "metadata": {},
   "source": [
    "## Importation"
   ]
  },
  {
   "cell_type": "code",
   "execution_count": 206,
   "metadata": {},
   "outputs": [],
   "source": [
    "\n",
    "path_to_file = 'Datasets/boston.data'\n",
    "\n",
    "extention = path_to_file.split('.')[-1]\n",
    "\n",
    "if extention == 'csv':\n",
    "    # Infos format about my csv.\n",
    "    my_dialect = about_my_csv(path_to_file)\n",
    "    # Make dataframe.\n",
    "    df = pd.read_csv(path_to_file, dialect=my_dialect)\n",
    "\n",
    "elif extention in ['xls', 'xlsx','xlsm','xlsb']:\n",
    "    # Infos format about my excel.\n",
    "    my_dialect = about_my_csv(path_to_file)\n",
    "    # Make dataframe.\n",
    "    df = pd.read_excel(path_to_file, engine='openpyxl', delimiter=my_dialect.delimiter)\n",
    "\n",
    "elif extention == 'json':\n",
    "    # Infos format about my json.\n",
    "    my_orient = about_my_csv(path_to_file)\n",
    "    # Make dataframe.\n",
    "    df = pd.read_json(path_to_file, orient=my_orient)\n",
    "\n",
    "elif extention == 'h5':\n",
    "    # Infos format about my json.\n",
    "    my_key = about_my_h5(path_to_file)\n",
    "    # Make dataframe\n",
    "    df = pd.read_hdf(path_to_file, key=my_key, mode='r')\n",
    "\n",
    "elif extention == 'data':\n",
    "    # Infos format about my csv.\n",
    "    my_dialect, space = about_my_data(path_to_file)\n",
    "    # Make dataframe\n",
    "    df = pd.read_csv(path_to_file, dialect=my_dialect, delim_whitespace=space, header=None)\n",
    "    df = rename_my_data(df)\n",
    "\n",
    "else: \n",
    "    print('format non pris en charge')\n",
    "    print('Option à venir : SQL, Parquet, Feather, Pickle, HTML, XML')"
   ]
  },
  {
   "attachments": {},
   "cell_type": "markdown",
   "metadata": {},
   "source": [
    "## Paramètre d'entrée"
   ]
  },
  {
   "cell_type": "code",
   "execution_count": 207,
   "metadata": {},
   "outputs": [
    {
     "data": {
      "text/html": [
       "<div>\n",
       "<style scoped>\n",
       "    .dataframe tbody tr th:only-of-type {\n",
       "        vertical-align: middle;\n",
       "    }\n",
       "\n",
       "    .dataframe tbody tr th {\n",
       "        vertical-align: top;\n",
       "    }\n",
       "\n",
       "    .dataframe thead th {\n",
       "        text-align: right;\n",
       "    }\n",
       "</style>\n",
       "<table border=\"1\" class=\"dataframe\">\n",
       "  <thead>\n",
       "    <tr style=\"text-align: right;\">\n",
       "      <th></th>\n",
       "      <th>A</th>\n",
       "      <th>B</th>\n",
       "      <th>C</th>\n",
       "      <th>D</th>\n",
       "      <th>E</th>\n",
       "      <th>F</th>\n",
       "      <th>G</th>\n",
       "      <th>H</th>\n",
       "      <th>I</th>\n",
       "      <th>J</th>\n",
       "      <th>K</th>\n",
       "    </tr>\n",
       "  </thead>\n",
       "  <tbody>\n",
       "    <tr>\n",
       "      <th>0</th>\n",
       "      <td>0.00632</td>\n",
       "      <td>18.0</td>\n",
       "      <td>2.31</td>\n",
       "      <td>0.0</td>\n",
       "      <td>0.538</td>\n",
       "      <td>6.575</td>\n",
       "      <td>65.2</td>\n",
       "      <td>4.0900</td>\n",
       "      <td>1.0</td>\n",
       "      <td>296.0</td>\n",
       "      <td>15.3</td>\n",
       "    </tr>\n",
       "    <tr>\n",
       "      <th>2</th>\n",
       "      <td>0.02731</td>\n",
       "      <td>0.0</td>\n",
       "      <td>7.07</td>\n",
       "      <td>0.0</td>\n",
       "      <td>0.469</td>\n",
       "      <td>6.421</td>\n",
       "      <td>78.9</td>\n",
       "      <td>4.9671</td>\n",
       "      <td>2.0</td>\n",
       "      <td>242.0</td>\n",
       "      <td>17.8</td>\n",
       "    </tr>\n",
       "    <tr>\n",
       "      <th>4</th>\n",
       "      <td>0.02729</td>\n",
       "      <td>0.0</td>\n",
       "      <td>7.07</td>\n",
       "      <td>0.0</td>\n",
       "      <td>0.469</td>\n",
       "      <td>7.185</td>\n",
       "      <td>61.1</td>\n",
       "      <td>4.9671</td>\n",
       "      <td>2.0</td>\n",
       "      <td>242.0</td>\n",
       "      <td>17.8</td>\n",
       "    </tr>\n",
       "    <tr>\n",
       "      <th>6</th>\n",
       "      <td>0.03237</td>\n",
       "      <td>0.0</td>\n",
       "      <td>2.18</td>\n",
       "      <td>0.0</td>\n",
       "      <td>0.458</td>\n",
       "      <td>6.998</td>\n",
       "      <td>45.8</td>\n",
       "      <td>6.0622</td>\n",
       "      <td>3.0</td>\n",
       "      <td>222.0</td>\n",
       "      <td>18.7</td>\n",
       "    </tr>\n",
       "    <tr>\n",
       "      <th>8</th>\n",
       "      <td>0.06905</td>\n",
       "      <td>0.0</td>\n",
       "      <td>2.18</td>\n",
       "      <td>0.0</td>\n",
       "      <td>0.458</td>\n",
       "      <td>7.147</td>\n",
       "      <td>54.2</td>\n",
       "      <td>6.0622</td>\n",
       "      <td>3.0</td>\n",
       "      <td>222.0</td>\n",
       "      <td>18.7</td>\n",
       "    </tr>\n",
       "  </tbody>\n",
       "</table>\n",
       "</div>"
      ],
      "text/plain": [
       "         A     B     C    D      E      F     G       H    I      J     K\n",
       "0  0.00632  18.0  2.31  0.0  0.538  6.575  65.2  4.0900  1.0  296.0  15.3\n",
       "2  0.02731   0.0  7.07  0.0  0.469  6.421  78.9  4.9671  2.0  242.0  17.8\n",
       "4  0.02729   0.0  7.07  0.0  0.469  7.185  61.1  4.9671  2.0  242.0  17.8\n",
       "6  0.03237   0.0  2.18  0.0  0.458  6.998  45.8  6.0622  3.0  222.0  18.7\n",
       "8  0.06905   0.0  2.18  0.0  0.458  7.147  54.2  6.0622  3.0  222.0  18.7"
      ]
     },
     "execution_count": 207,
     "metadata": {},
     "output_type": "execute_result"
    }
   ],
   "source": [
    "initial_size = df.shape\n",
    "\n",
    "target_name = df.columns[-1]\n",
    "\n",
    "df.dropna(subset=target_name, inplace=True)\n",
    "\n",
    "df.head()"
   ]
  },
  {
   "attachments": {},
   "cell_type": "markdown",
   "metadata": {},
   "source": [
    "## Supp Colonnes"
   ]
  },
  {
   "cell_type": "code",
   "execution_count": 208,
   "metadata": {},
   "outputs": [],
   "source": [
    "# Calcul du pourcentage de lignes vides pour chaque colonne\n",
    "pourcentage_lignes_vides = df.isna().sum() / len(df)\n",
    "\n",
    "# Sélection des colonnes à conserver (celles ayant moins de 30% de lignes vides)\n",
    "colonnes_a_conserver = pourcentage_lignes_vides[pourcentage_lignes_vides <= 0.3].index\n",
    "\n",
    "# Création d'un nouveau DataFrame ne contenant que les colonnes à conserver\n",
    "df = df[colonnes_a_conserver]"
   ]
  },
  {
   "attachments": {},
   "cell_type": "markdown",
   "metadata": {},
   "source": [
    "## Supp lignes"
   ]
  },
  {
   "cell_type": "code",
   "execution_count": 209,
   "metadata": {},
   "outputs": [],
   "source": [
    "## Supprime les lignes avec des données sporatiques\n",
    "# Calculer le pourcentage de valeurs manquantes dans chaque ligne\n",
    "missing_pct = df.isnull().sum(axis=1) / df.shape[1]\n",
    "# Calculer le seuil de tolérance en nombre de colonnes sans valeurs\n",
    "threshold = 0.15 * df.shape[1]\n",
    "# Supprimer les lignes dont le nombre de colonnes sans valeurs est supérieur au seuil de tolérance\n",
    "df = df.dropna(thresh=df.shape[1]-threshold)"
   ]
  },
  {
   "attachments": {},
   "cell_type": "markdown",
   "metadata": {},
   "source": [
    "## DateTime"
   ]
  },
  {
   "cell_type": "code",
   "execution_count": 210,
   "metadata": {},
   "outputs": [
    {
     "name": "stderr",
     "output_type": "stream",
     "text": [
      "/var/folders/vh/l2wksfvx397_s94nz191rypm0000gn/T/ipykernel_4001/722678012.py:3: UserWarning:\n",
      "\n",
      "registration of accessor <class 'pandas_flavor.register.register_dataframe_method.<locals>.inner.<locals>.AccessorMethod'> under name 'detect_date' for type <class 'pandas.core.frame.DataFrame'> is overriding a preexisting attribute with the same name.\n",
      "\n"
     ]
    }
   ],
   "source": [
    "# Définir la méthode 'detect_date' pour détecter les colonnes de texte contenant des dates\n",
    "@pf.register_dataframe_method\n",
    "def detect_date(df):\n",
    "    for col in df.columns:\n",
    "        if pd.api.types.is_datetime64_any_dtype(df[col]):\n",
    "            try:\n",
    "                df[col] = pd.to_datetime(df[col])\n",
    "            except ValueError:\n",
    "                pass\n",
    "    return df\n",
    "\n",
    "\n",
    "# Détecter et convertir les colonnes de texte en dates\n",
    "df = df.detect_date()"
   ]
  },
  {
   "cell_type": "code",
   "execution_count": 211,
   "metadata": {},
   "outputs": [
    {
     "name": "stdout",
     "output_type": "stream",
     "text": [
      "Il n'y a pas assez de colonnes de date pour faire des différences de temps.\n"
     ]
    }
   ],
   "source": [
    "# Identifier les colonnes de type datetime\n",
    "date_cols = [col for col in df.columns if df[col].dtype == 'datetime64[ns]']\n",
    "\n",
    "# Vérifier s'il y a au moins deux colonnes de date\n",
    "if len(date_cols) < 2:\n",
    "    print('Il n\\'y a pas assez de colonnes de date pour faire des différences de temps.')\n",
    "else:\n",
    "    # Normaliser les dates sur UTC\n",
    "    for date_col in date_cols:\n",
    "        df[date_col] = df[date_col].dt.tz_convert('Etc/UTC')\n",
    "\n",
    "    # Créer toutes les combinaisons de colonnes de date\n",
    "    list_date_cols = list(itertools.combinations(date_cols, 2))\n",
    "\n",
    "    # Calculer la différence de temps entre chaque paire de colonnes de date\n",
    "    for paire_date in list_date_cols:\n",
    "        first_date = paire_date[0]\n",
    "        second_date = paire_date[1]\n",
    "\n",
    "        df[f'{first_date}_x_{second_date}'] = (df[second_date] - df[first_date]).dt.total_seconds()\n",
    "\n",
    "\n",
    "# Extraire : Year, Day, WeekDay, Hour, Minute, Second, Microsecond\n",
    "for date_col in date_cols:\n",
    "    # Ajouter les colonnes pour chaque attribut de date\n",
    "    df[f'{date_col}_year'] = df[date_col].dt.year\n",
    "    df[f'{date_col}_day_of_year'] = df[date_col].dt.dayofyear\n",
    "    df[f'{date_col}_day_of_week'] = df[date_col].dt.dayofweek\n",
    "    df[f'{date_col}_hour'] = df[date_col].dt.hour\n",
    "    df[f'{date_col}_minute'] = df[date_col].dt.minute\n",
    "    df[f'{date_col}_second'] = df[date_col].dt.second\n",
    "    df[f'{date_col}_microsecond'] = df[date_col].dt.microsecond\n",
    "\n",
    "    df.drop(date_col, axis=1, inplace=True)"
   ]
  },
  {
   "attachments": {},
   "cell_type": "markdown",
   "metadata": {},
   "source": [
    "## Numerical"
   ]
  },
  {
   "cell_type": "code",
   "execution_count": 212,
   "metadata": {},
   "outputs": [],
   "source": [
    "\n",
    "numeric_features = df.select_dtypes([np.number]).columns\n",
    "\n",
    "for numerical in numeric_features:\n",
    "    # Garde uniquement les valeurs qui sont dans l'intervalle [moyenne-2*ecart_type, moyenne+2*ecart_type]\n",
    "    to_keep = (df[numerical] > df[numerical].mean() - 2*df[numerical].std()) & (df[numerical] < df[numerical].mean() + 2*df[numerical].std())\n",
    "    df = df.loc[to_keep,:]\n",
    "\n",
    "    # Transforme en catégoriel quand moins de 8 valeurs différentes.\n",
    "    if df[numerical].nunique() <= 8:\n",
    "        df[numerical] = df[numerical].astype(str)\n",
    "\n",
    "    # Supression valeurs manquantes au dessus de 10 %\n",
    "    pourcentage_valeur_manquante = 100*df[numerical].isnull().sum()/len(df)\n",
    "    if pourcentage_valeur_manquante >= 10:\n",
    "        df.drop(numerical, axis=1, inplace=True)"
   ]
  },
  {
   "attachments": {},
   "cell_type": "markdown",
   "metadata": {},
   "source": [
    "## Categoriel"
   ]
  },
  {
   "cell_type": "code",
   "execution_count": 213,
   "metadata": {},
   "outputs": [],
   "source": [
    "categorical_features = df.select_dtypes(\"object\").columns\n",
    "\n",
    "for categorical in categorical_features:\n",
    "    # Remplacement des valeurs nulles par la valeur \"manquante\"\n",
    "    df[categorical] = df[categorical].fillna('manquante')\n",
    "\n",
    "    ## Remplace les valeurs sporatique par la valeur \"autre\"\n",
    "    counts = df[categorical].value_counts(normalize=True) # Calcul du pourcentage de chaque valeur dans la colonne\n",
    "    mask = (counts < 0.1) # Sélection des valeurs qui représentent moins de 10% de la colonne\n",
    "    df[categorical] = df[categorical].replace(counts[mask].index.tolist(), 'autre') # Remplacement des valeurs sélectionnées par la valeur \"autre\"\n",
    "\n",
    "    # Suppression des colonnes contenant une seule valeur\n",
    "    if df[categorical].nunique() == 1:\n",
    "        df.drop(categorical, axis=1, inplace=True)\n"
   ]
  },
  {
   "attachments": {},
   "cell_type": "markdown",
   "metadata": {},
   "source": [
    "#### Par la suite\n",
    "* Détecter format carte bancaire, indicatif telephone...\n",
    "* Convertir adresse en format lat.nlong\n",
    "* Convertir les listes de mots en catégories quand c'est possible.\n",
    "* ..."
   ]
  },
  {
   "attachments": {},
   "cell_type": "markdown",
   "metadata": {},
   "source": [
    "## Correction Prè-traitement"
   ]
  },
  {
   "cell_type": "code",
   "execution_count": 214,
   "metadata": {},
   "outputs": [],
   "source": [
    "# Supprimer les lignes en double\n",
    "df.drop_duplicates(inplace=True)"
   ]
  },
  {
   "attachments": {},
   "cell_type": "markdown",
   "metadata": {},
   "source": [
    "## Séparation en variables explicative et cible"
   ]
  },
  {
   "cell_type": "code",
   "execution_count": 215,
   "metadata": {},
   "outputs": [],
   "source": [
    "Y = df[:][target_name]\n",
    "X = df.drop(columns=[target_name])"
   ]
  },
  {
   "attachments": {},
   "cell_type": "markdown",
   "metadata": {},
   "source": [
    "## Suppr colonnes ultra corrélées"
   ]
  },
  {
   "cell_type": "code",
   "execution_count": 216,
   "metadata": {},
   "outputs": [],
   "source": [
    "corr = X.corr()\n",
    "\n",
    "high_corr_list = []\n",
    "cols = corr.columns\n",
    "\n",
    "for j in cols:\n",
    "    for i, item in corr[j].iteritems():\n",
    "        if (i!=j) and abs(item) > 0.9:\n",
    "            high_corr_list.append((i,j))\n",
    "\n",
    "no_keep = [high_corr_list[i][0] for i in range(len(high_corr_list)) if i%2 == 0]\n",
    "\n",
    "X = df.drop(columns=no_keep)"
   ]
  },
  {
   "attachments": {},
   "cell_type": "markdown",
   "metadata": {},
   "source": [
    "## Séparation en set d'entrainement & de test\n",
    "Pour le rééquilibrage une meilleur approche est de faire attention :\n",
    "à la précision, le rappel, la F1-score et l'aire sous la courbe ROC. "
   ]
  },
  {
   "cell_type": "code",
   "execution_count": 217,
   "metadata": {},
   "outputs": [],
   "source": [
    "target_dtype = df[target_name].dtype\n",
    "\n",
    "# Cible Catégoriel\n",
    "if np.issubdtype(target_dtype, np.object_):\n",
    "    X_train, X_test, Y_train, Y_test = train_test_split(X, Y, test_size=0.15, random_state=0, stratify=Y)\n",
    "\n",
    "    # calculer les pourcentages de chaque valeur unique et les trier par ordre décroissant\n",
    "    pourcentages = df[target_name].value_counts(normalize=True) * 100\n",
    "    pourcentages = pourcentages.sort_values(ascending=False)\n",
    "    # Si l'écart entre la valeur majoritaire et minoritaire est supperieur à 10 %, enclenche le rééchantillonnage\n",
    "    if pourcentages[0] - pourcentages[-1] < 10 :\n",
    "        # Rééchantillonnage pour des valeurs Booleennes \n",
    "        my_sampling_strategy = 'minority' \n",
    "        # Rééchantillonnage pour équilibrer des Classes \n",
    "        if len(pourcentages) > 2:\n",
    "            my_sampling_strategy = 'not majority'\n",
    "        # Rééchantillonnage \n",
    "        oversample = RandomUnderSampler(sampling_strategy=my_sampling_strategy)\n",
    "        X_train, Y_train = oversample.fit_resample(X_train, Y_train)\n",
    "\n",
    "# Cible Continue\n",
    "else: \n",
    "    X_train, X_test, Y_train, Y_test = train_test_split(X, Y, test_size=0.15, random_state=0)"
   ]
  },
  {
   "attachments": {},
   "cell_type": "markdown",
   "metadata": {},
   "source": [
    "## Préprocessing Pipeline"
   ]
  },
  {
   "cell_type": "code",
   "execution_count": 218,
   "metadata": {},
   "outputs": [],
   "source": [
    "# Create pipeline for numeric features\n",
    "numeric_features = X.select_dtypes([np.number]).columns # Automatically detect positions of numeric columns\n",
    "numeric_transformer = Pipeline(steps=[\n",
    "    ('imputer', SimpleImputer(strategy='median')), # missing values will be replaced by columns' median\n",
    "    ('scaler', StandardScaler())\n",
    "])\n",
    "\n",
    "# Create pipeline for categorical features\n",
    "categorical_features = X.select_dtypes(\"object\").columns # Automatically detect positions of categorical columns\n",
    "categorical_transformer = Pipeline(\n",
    "    steps=[\n",
    "    ('imputer', SimpleImputer(strategy='most_frequent')), # missing values will be replaced by most frequent value\n",
    "    ('encoder', OneHotEncoder(drop='first')) # first column will be dropped to avoid creating correlations between features\n",
    "    ])\n",
    "\n",
    "# Use ColumnTransformer to make a preprocessor object that describes all the treatments to be done\n",
    "preprocessor = ColumnTransformer(\n",
    "    transformers=[\n",
    "        ('num', numeric_transformer, numeric_features),\n",
    "        ('cat', categorical_transformer, categorical_features)\n",
    "    ])\n",
    "\n",
    "X_train = preprocessor.fit_transform(X_train) # Preprocessing influenceur\n",
    "X_test = preprocessor.transform(X_test) # Preprocessing copieur"
   ]
  },
  {
   "attachments": {},
   "cell_type": "markdown",
   "metadata": {},
   "source": [
    "## Training Model "
   ]
  },
  {
   "cell_type": "code",
   "execution_count": 219,
   "metadata": {},
   "outputs": [],
   "source": [
    "## Define the model to be tuned\n",
    "# Cible Catégoriel\n",
    "if np.issubdtype(target_dtype, np.object_):\n",
    "    model = LogisticRegression()\n",
    "    modelForest = RandomForestClassifier()\n",
    "\n",
    "# Cible Continue\n",
    "else:\n",
    "    model = LinearRegression()\n",
    "    modelForest = RandomForestRegressor()"
   ]
  },
  {
   "cell_type": "code",
   "execution_count": 220,
   "metadata": {},
   "outputs": [
    {
     "data": {
      "text/plain": [
       "LinearRegression()"
      ]
     },
     "execution_count": 220,
     "metadata": {},
     "output_type": "execute_result"
    }
   ],
   "source": [
    "## Regression \n",
    "model.fit(X_train, Y_train)"
   ]
  },
  {
   "cell_type": "code",
   "execution_count": 221,
   "metadata": {},
   "outputs": [
    {
     "name": "stderr",
     "output_type": "stream",
     "text": [
      "/Library/Frameworks/Python.framework/Versions/3.9/lib/python3.9/site-packages/sklearn/model_selection/_validation.py:372: FitFailedWarning:\n",
      "\n",
      "\n",
      "120 fits failed out of a total of 216.\n",
      "The score on these train-test partitions for these parameters will be set to nan.\n",
      "If these failures are not expected, you can try to debug them by setting error_score='raise'.\n",
      "\n",
      "Below are more details about the failures:\n",
      "--------------------------------------------------------------------------------\n",
      "72 fits failed with the following error:\n",
      "Traceback (most recent call last):\n",
      "  File \"/Library/Frameworks/Python.framework/Versions/3.9/lib/python3.9/site-packages/sklearn/model_selection/_validation.py\", line 680, in _fit_and_score\n",
      "    estimator.fit(X_train, y_train, **fit_params)\n",
      "  File \"/Library/Frameworks/Python.framework/Versions/3.9/lib/python3.9/site-packages/sklearn/ensemble/_forest.py\", line 450, in fit\n",
      "    trees = Parallel(\n",
      "  File \"/Library/Frameworks/Python.framework/Versions/3.9/lib/python3.9/site-packages/joblib/parallel.py\", line 1085, in __call__\n",
      "    if self.dispatch_one_batch(iterator):\n",
      "  File \"/Library/Frameworks/Python.framework/Versions/3.9/lib/python3.9/site-packages/joblib/parallel.py\", line 901, in dispatch_one_batch\n",
      "    self._dispatch(tasks)\n",
      "  File \"/Library/Frameworks/Python.framework/Versions/3.9/lib/python3.9/site-packages/joblib/parallel.py\", line 819, in _dispatch\n",
      "    job = self._backend.apply_async(batch, callback=cb)\n",
      "  File \"/Library/Frameworks/Python.framework/Versions/3.9/lib/python3.9/site-packages/joblib/_parallel_backends.py\", line 208, in apply_async\n",
      "    result = ImmediateResult(func)\n",
      "  File \"/Library/Frameworks/Python.framework/Versions/3.9/lib/python3.9/site-packages/joblib/_parallel_backends.py\", line 597, in __init__\n",
      "    self.results = batch()\n",
      "  File \"/Library/Frameworks/Python.framework/Versions/3.9/lib/python3.9/site-packages/joblib/parallel.py\", line 288, in __call__\n",
      "    return [func(*args, **kwargs)\n",
      "  File \"/Library/Frameworks/Python.framework/Versions/3.9/lib/python3.9/site-packages/joblib/parallel.py\", line 288, in <listcomp>\n",
      "    return [func(*args, **kwargs)\n",
      "  File \"/Library/Frameworks/Python.framework/Versions/3.9/lib/python3.9/site-packages/sklearn/utils/fixes.py\", line 216, in __call__\n",
      "    return self.function(*args, **kwargs)\n",
      "  File \"/Library/Frameworks/Python.framework/Versions/3.9/lib/python3.9/site-packages/sklearn/ensemble/_forest.py\", line 185, in _parallel_build_trees\n",
      "    tree.fit(X, y, sample_weight=curr_sample_weight, check_input=False)\n",
      "  File \"/Library/Frameworks/Python.framework/Versions/3.9/lib/python3.9/site-packages/sklearn/tree/_classes.py\", line 1315, in fit\n",
      "    super().fit(\n",
      "  File \"/Library/Frameworks/Python.framework/Versions/3.9/lib/python3.9/site-packages/sklearn/tree/_classes.py\", line 235, in fit\n",
      "    raise ValueError(\n",
      "ValueError: min_samples_leaf must be at least 1 or in (0, 0.5], got 0\n",
      "\n",
      "--------------------------------------------------------------------------------\n",
      "48 fits failed with the following error:\n",
      "Traceback (most recent call last):\n",
      "  File \"/Library/Frameworks/Python.framework/Versions/3.9/lib/python3.9/site-packages/sklearn/model_selection/_validation.py\", line 680, in _fit_and_score\n",
      "    estimator.fit(X_train, y_train, **fit_params)\n",
      "  File \"/Library/Frameworks/Python.framework/Versions/3.9/lib/python3.9/site-packages/sklearn/ensemble/_forest.py\", line 450, in fit\n",
      "    trees = Parallel(\n",
      "  File \"/Library/Frameworks/Python.framework/Versions/3.9/lib/python3.9/site-packages/joblib/parallel.py\", line 1085, in __call__\n",
      "    if self.dispatch_one_batch(iterator):\n",
      "  File \"/Library/Frameworks/Python.framework/Versions/3.9/lib/python3.9/site-packages/joblib/parallel.py\", line 901, in dispatch_one_batch\n",
      "    self._dispatch(tasks)\n",
      "  File \"/Library/Frameworks/Python.framework/Versions/3.9/lib/python3.9/site-packages/joblib/parallel.py\", line 819, in _dispatch\n",
      "    job = self._backend.apply_async(batch, callback=cb)\n",
      "  File \"/Library/Frameworks/Python.framework/Versions/3.9/lib/python3.9/site-packages/joblib/_parallel_backends.py\", line 208, in apply_async\n",
      "    result = ImmediateResult(func)\n",
      "  File \"/Library/Frameworks/Python.framework/Versions/3.9/lib/python3.9/site-packages/joblib/_parallel_backends.py\", line 597, in __init__\n",
      "    self.results = batch()\n",
      "  File \"/Library/Frameworks/Python.framework/Versions/3.9/lib/python3.9/site-packages/joblib/parallel.py\", line 288, in __call__\n",
      "    return [func(*args, **kwargs)\n",
      "  File \"/Library/Frameworks/Python.framework/Versions/3.9/lib/python3.9/site-packages/joblib/parallel.py\", line 288, in <listcomp>\n",
      "    return [func(*args, **kwargs)\n",
      "  File \"/Library/Frameworks/Python.framework/Versions/3.9/lib/python3.9/site-packages/sklearn/utils/fixes.py\", line 216, in __call__\n",
      "    return self.function(*args, **kwargs)\n",
      "  File \"/Library/Frameworks/Python.framework/Versions/3.9/lib/python3.9/site-packages/sklearn/ensemble/_forest.py\", line 185, in _parallel_build_trees\n",
      "    tree.fit(X, y, sample_weight=curr_sample_weight, check_input=False)\n",
      "  File \"/Library/Frameworks/Python.framework/Versions/3.9/lib/python3.9/site-packages/sklearn/tree/_classes.py\", line 1315, in fit\n",
      "    super().fit(\n",
      "  File \"/Library/Frameworks/Python.framework/Versions/3.9/lib/python3.9/site-packages/sklearn/tree/_classes.py\", line 250, in fit\n",
      "    raise ValueError(\n",
      "ValueError: min_samples_split must be an integer greater than 1 or a float in (0.0, 1.0]; got the integer 1\n",
      "\n",
      "\n",
      "/Library/Frameworks/Python.framework/Versions/3.9/lib/python3.9/site-packages/sklearn/model_selection/_search.py:969: UserWarning:\n",
      "\n",
      "One or more of the test scores are non-finite: [       nan        nan        nan        nan        nan        nan\n",
      "        nan        nan        nan        nan        nan        nan\n",
      "        nan        nan        nan        nan 0.99833924 0.99902993\n",
      " 0.99904438 0.99858504 0.99808938 0.99819773 0.9985665  0.9983781\n",
      "        nan        nan        nan        nan 0.99838117 0.99869558\n",
      " 0.99891191 0.9985576  0.99660401 0.99831306 0.99856894 0.99882946\n",
      "        nan        nan        nan        nan        nan        nan\n",
      "        nan        nan        nan        nan        nan        nan\n",
      "        nan        nan        nan        nan 0.99805354 0.99908133\n",
      " 0.99861399 0.99862334 0.99862255 0.99899723 0.99852075 0.99846171\n",
      "        nan        nan        nan        nan 0.9968924  0.998133\n",
      " 0.99831606 0.99851212 0.99856171 0.99869317 0.99880743 0.99856915\n",
      "        nan        nan        nan        nan        nan        nan\n",
      "        nan        nan        nan        nan        nan        nan\n",
      "        nan        nan        nan        nan 0.99880722 0.9989053\n",
      " 0.99860452 0.99885803 0.99854127 0.9985671  0.99903999 0.99896865\n",
      "        nan        nan        nan        nan 0.99800446 0.99801162\n",
      " 0.99860383 0.99892123 0.99902917 0.99781732 0.99860467 0.99863851]\n",
      "\n"
     ]
    },
    {
     "data": {
      "text/plain": [
       "RandomForestRegressor(max_depth=10, n_estimators=30)"
      ]
     },
     "execution_count": 221,
     "metadata": {},
     "output_type": "execute_result"
    }
   ],
   "source": [
    "## Random Forest\n",
    "# Define the parameter grid\n",
    "params = {\n",
    "    'max_depth': range(4, 11),\n",
    "    'min_samples_leaf': range(1, 6),\n",
    "    'min_samples_split': range(2, 9),\n",
    "    'n_estimators': range(10, 101, 10)\n",
    "}\n",
    "\n",
    "# Split the data into a smaller subset for initial testing\n",
    "small_X_train, small_Y_train = X_train[:100], Y_train[:100]\n",
    "\n",
    "# Run a randomized search with a smaller number of iterations\n",
    "n_iter = 10\n",
    "randomsearch = RandomizedSearchCV(modelForest, param_distributions=params, n_iter=n_iter, cv=2, n_jobs=-1)\n",
    "\n",
    "# Fit the randomized search on the small dataset\n",
    "randomsearch.fit(small_X_train, small_Y_train)\n",
    "\n",
    "# Determine the best hyperparameters from the randomized search\n",
    "best_params = randomsearch.best_params_\n",
    "\n",
    "# Refine the parameter grid around the best hyperparameters\n",
    "params = {\n",
    "    'max_depth': np.arange(best_params['max_depth'] - 1, best_params['max_depth'] + 2),\n",
    "    'min_samples_leaf': np.arange(best_params['min_samples_leaf'] - 1, best_params['min_samples_leaf'] + 2),\n",
    "    'min_samples_split': np.arange(best_params['min_samples_split'] - 1, best_params['min_samples_split'] + 2),\n",
    "    'n_estimators': np.arange(best_params['n_estimators'] - 20, best_params['n_estimators'] + 20, 10)\n",
    "}\n",
    "\n",
    "# Run a grid search with a smaller number of folds\n",
    "cv = 2\n",
    "gridsearch = GridSearchCV(modelForest, param_grid=params, cv=cv, n_jobs=-1)\n",
    "\n",
    "# Fit the grid search on the full dataset\n",
    "gridsearch.fit(X_train, Y_train)\n",
    "\n",
    "# Determine the best hyperparameters from the grid search\n",
    "best_params = gridsearch.best_params_\n",
    "\n",
    "\n",
    "# Cible Catégoriel\n",
    "if np.issubdtype(target_dtype, np.object_):\n",
    "    modelForest = RandomForestClassifier(**best_params)\n",
    "    \n",
    "# Cible Continue\n",
    "else:\n",
    "    # Train a model on the best hyperparameters\n",
    "    modelForest = RandomForestRegressor(**best_params)\n",
    "\n",
    "modelForest.fit(X_train, Y_train)\n"
   ]
  },
  {
   "attachments": {},
   "cell_type": "markdown",
   "metadata": {},
   "source": [
    "## Predict Model"
   ]
  },
  {
   "cell_type": "code",
   "execution_count": 222,
   "metadata": {},
   "outputs": [],
   "source": [
    "# Regression \n",
    "Y_train_pred = model.predict(X_train) # Predictions on training set\n",
    "Y_test_pred = model.predict(X_test) # Prédictions on test set\n",
    "\n",
    "# Random Forest\n",
    "Y_train_forest_pred = modelForest.predict(X_train) # Predictions on training set\n",
    "Y_test_forest_pred = modelForest.predict(X_test) # Prédictions on test set "
   ]
  },
  {
   "cell_type": "code",
   "execution_count": 223,
   "metadata": {},
   "outputs": [
    {
     "name": "stdout",
     "output_type": "stream",
     "text": [
      "Le dataset faisait (1012, 11) lignes lors de l'importation, il fait maintenant (320, 10) lignes.\n",
      "Sur la regression logistique le r2 est de : 1.0 sur le train et 1.0 sur le test.\n",
      "Pendant que le random forest le r2 est de : 0.9999387260577145 sur le train et 0.9984296139576243 sur le test.\n"
     ]
    }
   ],
   "source": [
    "actual_size = pd.concat([X, Y], axis=1).shape\n",
    "print(f\"Le dataset faisait {initial_size} lignes lors de l'importation, il fait maintenant {actual_size} lignes.\")\n",
    "\n",
    "## Define the model to be tuned\n",
    "# Cible Catégoriel\n",
    "if np.issubdtype(target_dtype, np.object_):\n",
    "    # Train\n",
    "    ac_regression_train = accuracy_score(Y_train, Y_train_pred)\n",
    "    ac_rnd_forest_train = accuracy_score(Y_train, Y_train_forest_pred)\n",
    "    # Test\n",
    "    ac_regression_test = accuracy_score(Y_test, Y_test_pred)\n",
    "    ac_rnd_forest_test = accuracy_score(Y_test, Y_test_forest_pred)\n",
    "\n",
    "    print(f\"Sur la regression logistique l'accuracy est de : {ac_regression_train} sur le train et {ac_regression_test} sur le test.\")\n",
    "    print(f\"Pendant que la random forest l'accuracy est de : {ac_rnd_forest_train} sur le train et {ac_rnd_forest_test} sur le test.\")\n",
    "\n",
    "# Cible Continue\n",
    "else:\n",
    "    # Train\n",
    "    r2_regression_train = r2_score(Y_train, Y_train_pred)\n",
    "    r2_rnd_forest_train = r2_score(Y_train, Y_train_forest_pred)\n",
    "    # Test\n",
    "    r2_regression_test = r2_score(Y_test, Y_test_pred)\n",
    "    r2_rnd_forest_test = r2_score(Y_test, Y_test_forest_pred)\n",
    "\n",
    "    print(f\"Sur la regression logistique le r2 est de : {r2_regression_train} sur le train et {r2_regression_test} sur le test.\")\n",
    "    print(f\"Pendant que le random forest le r2 est de : {r2_rnd_forest_train} sur le train et {r2_rnd_forest_test} sur le test.\")"
   ]
  },
  {
   "attachments": {},
   "cell_type": "markdown",
   "metadata": {},
   "source": [
    "## Affichage"
   ]
  },
  {
   "cell_type": "code",
   "execution_count": 224,
   "metadata": {},
   "outputs": [
    {
     "data": {
      "application/vnd.plotly.v1+json": {
       "config": {
        "plotlyServerURL": "https://plot.ly"
       },
       "data": [
        {
         "hovertemplate": "x=%{x}<br>y=%{y}<extra></extra>",
         "legendgroup": "",
         "marker": {
          "color": "#636efa",
          "symbol": "circle"
         },
         "mode": "markers",
         "name": "",
         "orientation": "v",
         "showlegend": false,
         "type": "scatter",
         "x": [
          18.2,
          20.9,
          20.2,
          20.2,
          20.2,
          19.7,
          15.2,
          18.4,
          19.2,
          20.9,
          20.2,
          21,
          17.8,
          15.2,
          16.6,
          17.6,
          20.2,
          17.4,
          20.2,
          16.9,
          18.7,
          21,
          20.2,
          21,
          20.2,
          20.2,
          20.2,
          18.6,
          16.8,
          21.2,
          20.2,
          17.8,
          20.2,
          20.2,
          20.2,
          20.2,
          16.6,
          20.2,
          18.6,
          17.8,
          19.2,
          20.2,
          16.6,
          20.2,
          21,
          17.8,
          21,
          16.8,
          20.2,
          20.2,
          19.2,
          20.9,
          20.2,
          21,
          21,
          19.2,
          19.2,
          18.9,
          20.2,
          20.2,
          17.4,
          15.2,
          19.6,
          16.9,
          20.2,
          20.2,
          16,
          16,
          19.2,
          21.2,
          18.2,
          21.2,
          18.4,
          20.2,
          20.2,
          16,
          18.4,
          18.4,
          20.2,
          17.9,
          17.4,
          15.2,
          20.2,
          21.2,
          19.6,
          16.1,
          21,
          20.2,
          18,
          17.8,
          18.4,
          20.2,
          19.2,
          17.4,
          19.6,
          20.9,
          20.2,
          16.6,
          18.6,
          20.2,
          21.2,
          20.2,
          21,
          18.2,
          21.2,
          20.2,
          16.9,
          16.4,
          18.7,
          17.8,
          20.2,
          18.7,
          18.5,
          18.6,
          20.2,
          20.2,
          20.2,
          20.2,
          17.9,
          20.2,
          21,
          21.2,
          20.2,
          18.7,
          20.2,
          17.8,
          21,
          21,
          18,
          20.2,
          20.2,
          20.2,
          21,
          20.2,
          20.2,
          18.4,
          20.2,
          20.9,
          19.7,
          17.8,
          15.2,
          21.2,
          20.2,
          20.9,
          15.2,
          20.2,
          20.2,
          18.7,
          17.9,
          21,
          17.6,
          19.7,
          20.2,
          20.2,
          20.2,
          19.2,
          17.8,
          20.2,
          19,
          20.2,
          20.2,
          15.2,
          19.6,
          20.2,
          20.2,
          20.2,
          17.9,
          21.2,
          18.6,
          20.2,
          20.2,
          20.2,
          16.6,
          21.2,
          17.6,
          20.2,
          17.8,
          20.2,
          17.8,
          20.2,
          16,
          19.2,
          18.4,
          21.2,
          15.3,
          17.8,
          20.2,
          17.8,
          21,
          20.2,
          18.4,
          18.5,
          19.7,
          16.8,
          20.9,
          21,
          17.4,
          20.2,
          21,
          19.6,
          20.2,
          16.6,
          17.4,
          18,
          20.2,
          18.4,
          21.2,
          15.9,
          15.2,
          20.2,
          21,
          15.5,
          20.9,
          16.6,
          20.2,
          20.2,
          17.8,
          20.9,
          16.6,
          18.7,
          20.2,
          20.2,
          17.9,
          21.2,
          20.2,
          19.2,
          18.9,
          20.2,
          15.2,
          21,
          19.6,
          16,
          16.6,
          20.2,
          20.2,
          21,
          21,
          17.8,
          19.6,
          20.2,
          20.2,
          16.6,
          20.2,
          20.2,
          18.4,
          17.8,
          20.2,
          20.2,
          16.6,
          20.2,
          17.8,
          21,
          16.1,
          20.2,
          18.4,
          19.2,
          17.9,
          16.9,
          20.9,
          17.8,
          20.9,
          20.2,
          20.2,
          20.2,
          20.2,
          15.2,
          20.2,
          20.2,
          16.9,
          16.6,
          16.8,
          18.4
         ],
         "xaxis": "x",
         "y": [
          18.2,
          20.899999999999995,
          20.2,
          20.2,
          20.2,
          19.7,
          15.200000000000003,
          18.4,
          19.2,
          20.899999999999995,
          20.2,
          21,
          17.8,
          15.200000000000003,
          16.600000000000005,
          17.600000000000005,
          20.2,
          17.4,
          20.200000000000003,
          16.900000000000002,
          18.7,
          21,
          20.199999999999996,
          21,
          20.2,
          20.2,
          20.2,
          18.6,
          16.800000000000004,
          21.199999999999996,
          20.2,
          17.8,
          20.2,
          20.200000000000003,
          20.2,
          20.2,
          16.6,
          20.2,
          18.6,
          17.8,
          19.2,
          20.199999999999996,
          16.6,
          20.2,
          20.999999999999996,
          17.8,
          21,
          16.800000000000004,
          20.2,
          20.2,
          19.2,
          20.899999999999995,
          20.2,
          21,
          20.999999999999996,
          19.2,
          19.2,
          18.9,
          20.2,
          20.2,
          17.4,
          15.200000000000005,
          19.6,
          16.9,
          20.199999999999996,
          20.2,
          16,
          16,
          19.2,
          21.199999999999996,
          18.2,
          21.199999999999996,
          18.4,
          20.2,
          20.2,
          16,
          18.4,
          18.4,
          20.199999999999996,
          17.9,
          17.4,
          15.200000000000005,
          20.2,
          21.199999999999996,
          19.6,
          16.100000000000005,
          21,
          20.2,
          18,
          17.8,
          18.4,
          20.2,
          19.2,
          17.4,
          19.6,
          20.899999999999995,
          20.199999999999996,
          16.6,
          18.6,
          20.199999999999996,
          21.199999999999996,
          20.2,
          21,
          18.2,
          21.199999999999996,
          20.2,
          16.9,
          16.4,
          18.7,
          17.8,
          20.2,
          18.7,
          18.5,
          18.6,
          20.199999999999996,
          20.2,
          20.2,
          20.2,
          17.9,
          20.200000000000003,
          21,
          21.199999999999996,
          20.2,
          18.7,
          20.2,
          17.8,
          21,
          21,
          18,
          20.200000000000003,
          20.2,
          20.2,
          21,
          20.2,
          20.2,
          18.4,
          20.2,
          20.899999999999995,
          19.7,
          17.8,
          15.200000000000003,
          21.199999999999996,
          20.200000000000003,
          20.9,
          15.200000000000003,
          20.2,
          20.2,
          18.7,
          17.9,
          21,
          17.600000000000005,
          19.7,
          20.2,
          20.199999999999996,
          20.2,
          19.2,
          17.8,
          20.2,
          19,
          20.2,
          20.2,
          15.200000000000003,
          19.6,
          20.200000000000003,
          20.2,
          20.2,
          17.9,
          21.199999999999996,
          18.6,
          20.2,
          20.2,
          20.2,
          16.600000000000005,
          21.199999999999996,
          17.600000000000005,
          20.2,
          17.8,
          20.2,
          17.8,
          20.2,
          16,
          19.2,
          18.4,
          21.199999999999996,
          15.300000000000004,
          17.8,
          20.2,
          17.8,
          20.999999999999996,
          20.199999999999996,
          18.4,
          18.5,
          19.7,
          16.800000000000004,
          20.9,
          20.999999999999996,
          17.4,
          20.2,
          21,
          19.6,
          20.2,
          16.600000000000005,
          17.4,
          18,
          20.2,
          18.4,
          21.199999999999996,
          15.900000000000002,
          15.200000000000003,
          20.199999999999996,
          20.999999999999996,
          15.500000000000004,
          20.899999999999995,
          16.6,
          20.2,
          20.2,
          17.8,
          20.899999999999995,
          16.6,
          18.7,
          20.200000000000003,
          20.2,
          17.9,
          21.199999999999996,
          20.2,
          19.2,
          18.9,
          20.2,
          15.200000000000003,
          20.999999999999996,
          19.6,
          16,
          16.600000000000005,
          20.2,
          20.2,
          21,
          21,
          17.8,
          19.6,
          20.2,
          20.199999999999996,
          16.600000000000005,
          20.2,
          20.199999999999996,
          18.4,
          17.8,
          20.2,
          20.2,
          16.600000000000005,
          20.2,
          17.8,
          21,
          16.100000000000005,
          20.2,
          18.4,
          19.2,
          17.9,
          16.900000000000002,
          20.899999999999995,
          17.8,
          20.899999999999995,
          20.199999999999996,
          20.2,
          20.2,
          20.2,
          15.200000000000003,
          20.2,
          20.2,
          16.9,
          16.6,
          16.800000000000004,
          18.4
         ],
         "yaxis": "y"
        },
        {
         "name": "real",
         "type": "scatter",
         "x": [
          18.2,
          20.9,
          20.2,
          20.2,
          20.2,
          19.7,
          15.2,
          18.4,
          19.2,
          20.9,
          20.2,
          21,
          17.8,
          15.2,
          16.6,
          17.6,
          20.2,
          17.4,
          20.2,
          16.9,
          18.7,
          21,
          20.2,
          21,
          20.2,
          20.2,
          20.2,
          18.6,
          16.8,
          21.2,
          20.2,
          17.8,
          20.2,
          20.2,
          20.2,
          20.2,
          16.6,
          20.2,
          18.6,
          17.8,
          19.2,
          20.2,
          16.6,
          20.2,
          21,
          17.8,
          21,
          16.8,
          20.2,
          20.2,
          19.2,
          20.9,
          20.2,
          21,
          21,
          19.2,
          19.2,
          18.9,
          20.2,
          20.2,
          17.4,
          15.2,
          19.6,
          16.9,
          20.2,
          20.2,
          16,
          16,
          19.2,
          21.2,
          18.2,
          21.2,
          18.4,
          20.2,
          20.2,
          16,
          18.4,
          18.4,
          20.2,
          17.9,
          17.4,
          15.2,
          20.2,
          21.2,
          19.6,
          16.1,
          21,
          20.2,
          18,
          17.8,
          18.4,
          20.2,
          19.2,
          17.4,
          19.6,
          20.9,
          20.2,
          16.6,
          18.6,
          20.2,
          21.2,
          20.2,
          21,
          18.2,
          21.2,
          20.2,
          16.9,
          16.4,
          18.7,
          17.8,
          20.2,
          18.7,
          18.5,
          18.6,
          20.2,
          20.2,
          20.2,
          20.2,
          17.9,
          20.2,
          21,
          21.2,
          20.2,
          18.7,
          20.2,
          17.8,
          21,
          21,
          18,
          20.2,
          20.2,
          20.2,
          21,
          20.2,
          20.2,
          18.4,
          20.2,
          20.9,
          19.7,
          17.8,
          15.2,
          21.2,
          20.2,
          20.9,
          15.2,
          20.2,
          20.2,
          18.7,
          17.9,
          21,
          17.6,
          19.7,
          20.2,
          20.2,
          20.2,
          19.2,
          17.8,
          20.2,
          19,
          20.2,
          20.2,
          15.2,
          19.6,
          20.2,
          20.2,
          20.2,
          17.9,
          21.2,
          18.6,
          20.2,
          20.2,
          20.2,
          16.6,
          21.2,
          17.6,
          20.2,
          17.8,
          20.2,
          17.8,
          20.2,
          16,
          19.2,
          18.4,
          21.2,
          15.3,
          17.8,
          20.2,
          17.8,
          21,
          20.2,
          18.4,
          18.5,
          19.7,
          16.8,
          20.9,
          21,
          17.4,
          20.2,
          21,
          19.6,
          20.2,
          16.6,
          17.4,
          18,
          20.2,
          18.4,
          21.2,
          15.9,
          15.2,
          20.2,
          21,
          15.5,
          20.9,
          16.6,
          20.2,
          20.2,
          17.8,
          20.9,
          16.6,
          18.7,
          20.2,
          20.2,
          17.9,
          21.2,
          20.2,
          19.2,
          18.9,
          20.2,
          15.2,
          21,
          19.6,
          16,
          16.6,
          20.2,
          20.2,
          21,
          21,
          17.8,
          19.6,
          20.2,
          20.2,
          16.6,
          20.2,
          20.2,
          18.4,
          17.8,
          20.2,
          20.2,
          16.6,
          20.2,
          17.8,
          21,
          16.1,
          20.2,
          18.4,
          19.2,
          17.9,
          16.9,
          20.9,
          17.8,
          20.9,
          20.2,
          20.2,
          20.2,
          20.2,
          15.2,
          20.2,
          20.2,
          16.9,
          16.6,
          16.8,
          18.4
         ],
         "y": [
          18.2,
          20.9,
          20.2,
          20.2,
          20.2,
          19.7,
          15.2,
          18.4,
          19.2,
          20.9,
          20.2,
          21,
          17.8,
          15.2,
          16.6,
          17.6,
          20.2,
          17.4,
          20.2,
          16.9,
          18.7,
          21,
          20.2,
          21,
          20.2,
          20.2,
          20.2,
          18.6,
          16.8,
          21.2,
          20.2,
          17.8,
          20.2,
          20.2,
          20.2,
          20.2,
          16.6,
          20.2,
          18.6,
          17.8,
          19.2,
          20.2,
          16.6,
          20.2,
          21,
          17.8,
          21,
          16.8,
          20.2,
          20.2,
          19.2,
          20.9,
          20.2,
          21,
          21,
          19.2,
          19.2,
          18.9,
          20.2,
          20.2,
          17.4,
          15.2,
          19.6,
          16.9,
          20.2,
          20.2,
          16,
          16,
          19.2,
          21.2,
          18.2,
          21.2,
          18.4,
          20.2,
          20.2,
          16,
          18.4,
          18.4,
          20.2,
          17.9,
          17.4,
          15.2,
          20.2,
          21.2,
          19.6,
          16.1,
          21,
          20.2,
          18,
          17.8,
          18.4,
          20.2,
          19.2,
          17.4,
          19.6,
          20.9,
          20.2,
          16.6,
          18.6,
          20.2,
          21.2,
          20.2,
          21,
          18.2,
          21.2,
          20.2,
          16.9,
          16.4,
          18.7,
          17.8,
          20.2,
          18.7,
          18.5,
          18.6,
          20.2,
          20.2,
          20.2,
          20.2,
          17.9,
          20.2,
          21,
          21.2,
          20.2,
          18.7,
          20.2,
          17.8,
          21,
          21,
          18,
          20.2,
          20.2,
          20.2,
          21,
          20.2,
          20.2,
          18.4,
          20.2,
          20.9,
          19.7,
          17.8,
          15.2,
          21.2,
          20.2,
          20.9,
          15.2,
          20.2,
          20.2,
          18.7,
          17.9,
          21,
          17.6,
          19.7,
          20.2,
          20.2,
          20.2,
          19.2,
          17.8,
          20.2,
          19,
          20.2,
          20.2,
          15.2,
          19.6,
          20.2,
          20.2,
          20.2,
          17.9,
          21.2,
          18.6,
          20.2,
          20.2,
          20.2,
          16.6,
          21.2,
          17.6,
          20.2,
          17.8,
          20.2,
          17.8,
          20.2,
          16,
          19.2,
          18.4,
          21.2,
          15.3,
          17.8,
          20.2,
          17.8,
          21,
          20.2,
          18.4,
          18.5,
          19.7,
          16.8,
          20.9,
          21,
          17.4,
          20.2,
          21,
          19.6,
          20.2,
          16.6,
          17.4,
          18,
          20.2,
          18.4,
          21.2,
          15.9,
          15.2,
          20.2,
          21,
          15.5,
          20.9,
          16.6,
          20.2,
          20.2,
          17.8,
          20.9,
          16.6,
          18.7,
          20.2,
          20.2,
          17.9,
          21.2,
          20.2,
          19.2,
          18.9,
          20.2,
          15.2,
          21,
          19.6,
          16,
          16.6,
          20.2,
          20.2,
          21,
          21,
          17.8,
          19.6,
          20.2,
          20.2,
          16.6,
          20.2,
          20.2,
          18.4,
          17.8,
          20.2,
          20.2,
          16.6,
          20.2,
          17.8,
          21,
          16.1,
          20.2,
          18.4,
          19.2,
          17.9,
          16.9,
          20.9,
          17.8,
          20.9,
          20.2,
          20.2,
          20.2,
          20.2,
          15.2,
          20.2,
          20.2,
          16.9,
          16.6,
          16.8,
          18.4
         ]
        },
        {
         "name": "predict",
         "type": "scatter",
         "x": [
          18.2,
          20.899999999999995,
          20.2,
          20.2,
          20.2,
          19.7,
          15.200000000000003,
          18.4,
          19.2,
          20.899999999999995,
          20.2,
          21,
          17.8,
          15.200000000000003,
          16.600000000000005,
          17.600000000000005,
          20.2,
          17.4,
          20.200000000000003,
          16.900000000000002,
          18.7,
          21,
          20.199999999999996,
          21,
          20.2,
          20.2,
          20.2,
          18.6,
          16.800000000000004,
          21.199999999999996,
          20.2,
          17.8,
          20.2,
          20.200000000000003,
          20.2,
          20.2,
          16.6,
          20.2,
          18.6,
          17.8,
          19.2,
          20.199999999999996,
          16.6,
          20.2,
          20.999999999999996,
          17.8,
          21,
          16.800000000000004,
          20.2,
          20.2,
          19.2,
          20.899999999999995,
          20.2,
          21,
          20.999999999999996,
          19.2,
          19.2,
          18.9,
          20.2,
          20.2,
          17.4,
          15.200000000000005,
          19.6,
          16.9,
          20.199999999999996,
          20.2,
          16,
          16,
          19.2,
          21.199999999999996,
          18.2,
          21.199999999999996,
          18.4,
          20.2,
          20.2,
          16,
          18.4,
          18.4,
          20.199999999999996,
          17.9,
          17.4,
          15.200000000000005,
          20.2,
          21.199999999999996,
          19.6,
          16.100000000000005,
          21,
          20.2,
          18,
          17.8,
          18.4,
          20.2,
          19.2,
          17.4,
          19.6,
          20.899999999999995,
          20.199999999999996,
          16.6,
          18.6,
          20.199999999999996,
          21.199999999999996,
          20.2,
          21,
          18.2,
          21.199999999999996,
          20.2,
          16.9,
          16.4,
          18.7,
          17.8,
          20.2,
          18.7,
          18.5,
          18.6,
          20.199999999999996,
          20.2,
          20.2,
          20.2,
          17.9,
          20.200000000000003,
          21,
          21.199999999999996,
          20.2,
          18.7,
          20.2,
          17.8,
          21,
          21,
          18,
          20.200000000000003,
          20.2,
          20.2,
          21,
          20.2,
          20.2,
          18.4,
          20.2,
          20.899999999999995,
          19.7,
          17.8,
          15.200000000000003,
          21.199999999999996,
          20.200000000000003,
          20.9,
          15.200000000000003,
          20.2,
          20.2,
          18.7,
          17.9,
          21,
          17.600000000000005,
          19.7,
          20.2,
          20.199999999999996,
          20.2,
          19.2,
          17.8,
          20.2,
          19,
          20.2,
          20.2,
          15.200000000000003,
          19.6,
          20.200000000000003,
          20.2,
          20.2,
          17.9,
          21.199999999999996,
          18.6,
          20.2,
          20.2,
          20.2,
          16.600000000000005,
          21.199999999999996,
          17.600000000000005,
          20.2,
          17.8,
          20.2,
          17.8,
          20.2,
          16,
          19.2,
          18.4,
          21.199999999999996,
          15.300000000000004,
          17.8,
          20.2,
          17.8,
          20.999999999999996,
          20.199999999999996,
          18.4,
          18.5,
          19.7,
          16.800000000000004,
          20.9,
          20.999999999999996,
          17.4,
          20.2,
          21,
          19.6,
          20.2,
          16.600000000000005,
          17.4,
          18,
          20.2,
          18.4,
          21.199999999999996,
          15.900000000000002,
          15.200000000000003,
          20.199999999999996,
          20.999999999999996,
          15.500000000000004,
          20.899999999999995,
          16.6,
          20.2,
          20.2,
          17.8,
          20.899999999999995,
          16.6,
          18.7,
          20.200000000000003,
          20.2,
          17.9,
          21.199999999999996,
          20.2,
          19.2,
          18.9,
          20.2,
          15.200000000000003,
          20.999999999999996,
          19.6,
          16,
          16.600000000000005,
          20.2,
          20.2,
          21,
          21,
          17.8,
          19.6,
          20.2,
          20.199999999999996,
          16.600000000000005,
          20.2,
          20.199999999999996,
          18.4,
          17.8,
          20.2,
          20.2,
          16.600000000000005,
          20.2,
          17.8,
          21,
          16.100000000000005,
          20.2,
          18.4,
          19.2,
          17.9,
          16.900000000000002,
          20.899999999999995,
          17.8,
          20.899999999999995,
          20.199999999999996,
          20.2,
          20.2,
          20.2,
          15.200000000000003,
          20.2,
          20.2,
          16.9,
          16.6,
          16.800000000000004,
          18.4
         ],
         "y": [
          18.2,
          20.899999999999995,
          20.2,
          20.2,
          20.2,
          19.7,
          15.200000000000003,
          18.4,
          19.2,
          20.899999999999995,
          20.2,
          21,
          17.8,
          15.200000000000003,
          16.600000000000005,
          17.600000000000005,
          20.2,
          17.4,
          20.200000000000003,
          16.900000000000002,
          18.7,
          21,
          20.199999999999996,
          21,
          20.2,
          20.2,
          20.2,
          18.6,
          16.800000000000004,
          21.199999999999996,
          20.2,
          17.8,
          20.2,
          20.200000000000003,
          20.2,
          20.2,
          16.6,
          20.2,
          18.6,
          17.8,
          19.2,
          20.199999999999996,
          16.6,
          20.2,
          20.999999999999996,
          17.8,
          21,
          16.800000000000004,
          20.2,
          20.2,
          19.2,
          20.899999999999995,
          20.2,
          21,
          20.999999999999996,
          19.2,
          19.2,
          18.9,
          20.2,
          20.2,
          17.4,
          15.200000000000005,
          19.6,
          16.9,
          20.199999999999996,
          20.2,
          16,
          16,
          19.2,
          21.199999999999996,
          18.2,
          21.199999999999996,
          18.4,
          20.2,
          20.2,
          16,
          18.4,
          18.4,
          20.199999999999996,
          17.9,
          17.4,
          15.200000000000005,
          20.2,
          21.199999999999996,
          19.6,
          16.100000000000005,
          21,
          20.2,
          18,
          17.8,
          18.4,
          20.2,
          19.2,
          17.4,
          19.6,
          20.899999999999995,
          20.199999999999996,
          16.6,
          18.6,
          20.199999999999996,
          21.199999999999996,
          20.2,
          21,
          18.2,
          21.199999999999996,
          20.2,
          16.9,
          16.4,
          18.7,
          17.8,
          20.2,
          18.7,
          18.5,
          18.6,
          20.199999999999996,
          20.2,
          20.2,
          20.2,
          17.9,
          20.200000000000003,
          21,
          21.199999999999996,
          20.2,
          18.7,
          20.2,
          17.8,
          21,
          21,
          18,
          20.200000000000003,
          20.2,
          20.2,
          21,
          20.2,
          20.2,
          18.4,
          20.2,
          20.899999999999995,
          19.7,
          17.8,
          15.200000000000003,
          21.199999999999996,
          20.200000000000003,
          20.9,
          15.200000000000003,
          20.2,
          20.2,
          18.7,
          17.9,
          21,
          17.600000000000005,
          19.7,
          20.2,
          20.199999999999996,
          20.2,
          19.2,
          17.8,
          20.2,
          19,
          20.2,
          20.2,
          15.200000000000003,
          19.6,
          20.200000000000003,
          20.2,
          20.2,
          17.9,
          21.199999999999996,
          18.6,
          20.2,
          20.2,
          20.2,
          16.600000000000005,
          21.199999999999996,
          17.600000000000005,
          20.2,
          17.8,
          20.2,
          17.8,
          20.2,
          16,
          19.2,
          18.4,
          21.199999999999996,
          15.300000000000004,
          17.8,
          20.2,
          17.8,
          20.999999999999996,
          20.199999999999996,
          18.4,
          18.5,
          19.7,
          16.800000000000004,
          20.9,
          20.999999999999996,
          17.4,
          20.2,
          21,
          19.6,
          20.2,
          16.600000000000005,
          17.4,
          18,
          20.2,
          18.4,
          21.199999999999996,
          15.900000000000002,
          15.200000000000003,
          20.199999999999996,
          20.999999999999996,
          15.500000000000004,
          20.899999999999995,
          16.6,
          20.2,
          20.2,
          17.8,
          20.899999999999995,
          16.6,
          18.7,
          20.200000000000003,
          20.2,
          17.9,
          21.199999999999996,
          20.2,
          19.2,
          18.9,
          20.2,
          15.200000000000003,
          20.999999999999996,
          19.6,
          16,
          16.600000000000005,
          20.2,
          20.2,
          21,
          21,
          17.8,
          19.6,
          20.2,
          20.199999999999996,
          16.600000000000005,
          20.2,
          20.199999999999996,
          18.4,
          17.8,
          20.2,
          20.2,
          16.600000000000005,
          20.2,
          17.8,
          21,
          16.100000000000005,
          20.2,
          18.4,
          19.2,
          17.9,
          16.900000000000002,
          20.899999999999995,
          17.8,
          20.899999999999995,
          20.199999999999996,
          20.2,
          20.2,
          20.2,
          15.200000000000003,
          20.2,
          20.2,
          16.9,
          16.6,
          16.800000000000004,
          18.4
         ]
        }
       ],
       "layout": {
        "legend": {
         "tracegroupgap": 0
        },
        "template": {
         "data": {
          "bar": [
           {
            "error_x": {
             "color": "#2a3f5f"
            },
            "error_y": {
             "color": "#2a3f5f"
            },
            "marker": {
             "line": {
              "color": "#E5ECF6",
              "width": 0.5
             },
             "pattern": {
              "fillmode": "overlay",
              "size": 10,
              "solidity": 0.2
             }
            },
            "type": "bar"
           }
          ],
          "barpolar": [
           {
            "marker": {
             "line": {
              "color": "#E5ECF6",
              "width": 0.5
             },
             "pattern": {
              "fillmode": "overlay",
              "size": 10,
              "solidity": 0.2
             }
            },
            "type": "barpolar"
           }
          ],
          "carpet": [
           {
            "aaxis": {
             "endlinecolor": "#2a3f5f",
             "gridcolor": "white",
             "linecolor": "white",
             "minorgridcolor": "white",
             "startlinecolor": "#2a3f5f"
            },
            "baxis": {
             "endlinecolor": "#2a3f5f",
             "gridcolor": "white",
             "linecolor": "white",
             "minorgridcolor": "white",
             "startlinecolor": "#2a3f5f"
            },
            "type": "carpet"
           }
          ],
          "choropleth": [
           {
            "colorbar": {
             "outlinewidth": 0,
             "ticks": ""
            },
            "type": "choropleth"
           }
          ],
          "contour": [
           {
            "colorbar": {
             "outlinewidth": 0,
             "ticks": ""
            },
            "colorscale": [
             [
              0,
              "#0d0887"
             ],
             [
              0.1111111111111111,
              "#46039f"
             ],
             [
              0.2222222222222222,
              "#7201a8"
             ],
             [
              0.3333333333333333,
              "#9c179e"
             ],
             [
              0.4444444444444444,
              "#bd3786"
             ],
             [
              0.5555555555555556,
              "#d8576b"
             ],
             [
              0.6666666666666666,
              "#ed7953"
             ],
             [
              0.7777777777777778,
              "#fb9f3a"
             ],
             [
              0.8888888888888888,
              "#fdca26"
             ],
             [
              1,
              "#f0f921"
             ]
            ],
            "type": "contour"
           }
          ],
          "contourcarpet": [
           {
            "colorbar": {
             "outlinewidth": 0,
             "ticks": ""
            },
            "type": "contourcarpet"
           }
          ],
          "heatmap": [
           {
            "colorbar": {
             "outlinewidth": 0,
             "ticks": ""
            },
            "colorscale": [
             [
              0,
              "#0d0887"
             ],
             [
              0.1111111111111111,
              "#46039f"
             ],
             [
              0.2222222222222222,
              "#7201a8"
             ],
             [
              0.3333333333333333,
              "#9c179e"
             ],
             [
              0.4444444444444444,
              "#bd3786"
             ],
             [
              0.5555555555555556,
              "#d8576b"
             ],
             [
              0.6666666666666666,
              "#ed7953"
             ],
             [
              0.7777777777777778,
              "#fb9f3a"
             ],
             [
              0.8888888888888888,
              "#fdca26"
             ],
             [
              1,
              "#f0f921"
             ]
            ],
            "type": "heatmap"
           }
          ],
          "heatmapgl": [
           {
            "colorbar": {
             "outlinewidth": 0,
             "ticks": ""
            },
            "colorscale": [
             [
              0,
              "#0d0887"
             ],
             [
              0.1111111111111111,
              "#46039f"
             ],
             [
              0.2222222222222222,
              "#7201a8"
             ],
             [
              0.3333333333333333,
              "#9c179e"
             ],
             [
              0.4444444444444444,
              "#bd3786"
             ],
             [
              0.5555555555555556,
              "#d8576b"
             ],
             [
              0.6666666666666666,
              "#ed7953"
             ],
             [
              0.7777777777777778,
              "#fb9f3a"
             ],
             [
              0.8888888888888888,
              "#fdca26"
             ],
             [
              1,
              "#f0f921"
             ]
            ],
            "type": "heatmapgl"
           }
          ],
          "histogram": [
           {
            "marker": {
             "pattern": {
              "fillmode": "overlay",
              "size": 10,
              "solidity": 0.2
             }
            },
            "type": "histogram"
           }
          ],
          "histogram2d": [
           {
            "colorbar": {
             "outlinewidth": 0,
             "ticks": ""
            },
            "colorscale": [
             [
              0,
              "#0d0887"
             ],
             [
              0.1111111111111111,
              "#46039f"
             ],
             [
              0.2222222222222222,
              "#7201a8"
             ],
             [
              0.3333333333333333,
              "#9c179e"
             ],
             [
              0.4444444444444444,
              "#bd3786"
             ],
             [
              0.5555555555555556,
              "#d8576b"
             ],
             [
              0.6666666666666666,
              "#ed7953"
             ],
             [
              0.7777777777777778,
              "#fb9f3a"
             ],
             [
              0.8888888888888888,
              "#fdca26"
             ],
             [
              1,
              "#f0f921"
             ]
            ],
            "type": "histogram2d"
           }
          ],
          "histogram2dcontour": [
           {
            "colorbar": {
             "outlinewidth": 0,
             "ticks": ""
            },
            "colorscale": [
             [
              0,
              "#0d0887"
             ],
             [
              0.1111111111111111,
              "#46039f"
             ],
             [
              0.2222222222222222,
              "#7201a8"
             ],
             [
              0.3333333333333333,
              "#9c179e"
             ],
             [
              0.4444444444444444,
              "#bd3786"
             ],
             [
              0.5555555555555556,
              "#d8576b"
             ],
             [
              0.6666666666666666,
              "#ed7953"
             ],
             [
              0.7777777777777778,
              "#fb9f3a"
             ],
             [
              0.8888888888888888,
              "#fdca26"
             ],
             [
              1,
              "#f0f921"
             ]
            ],
            "type": "histogram2dcontour"
           }
          ],
          "mesh3d": [
           {
            "colorbar": {
             "outlinewidth": 0,
             "ticks": ""
            },
            "type": "mesh3d"
           }
          ],
          "parcoords": [
           {
            "line": {
             "colorbar": {
              "outlinewidth": 0,
              "ticks": ""
             }
            },
            "type": "parcoords"
           }
          ],
          "pie": [
           {
            "automargin": true,
            "type": "pie"
           }
          ],
          "scatter": [
           {
            "fillpattern": {
             "fillmode": "overlay",
             "size": 10,
             "solidity": 0.2
            },
            "type": "scatter"
           }
          ],
          "scatter3d": [
           {
            "line": {
             "colorbar": {
              "outlinewidth": 0,
              "ticks": ""
             }
            },
            "marker": {
             "colorbar": {
              "outlinewidth": 0,
              "ticks": ""
             }
            },
            "type": "scatter3d"
           }
          ],
          "scattercarpet": [
           {
            "marker": {
             "colorbar": {
              "outlinewidth": 0,
              "ticks": ""
             }
            },
            "type": "scattercarpet"
           }
          ],
          "scattergeo": [
           {
            "marker": {
             "colorbar": {
              "outlinewidth": 0,
              "ticks": ""
             }
            },
            "type": "scattergeo"
           }
          ],
          "scattergl": [
           {
            "marker": {
             "colorbar": {
              "outlinewidth": 0,
              "ticks": ""
             }
            },
            "type": "scattergl"
           }
          ],
          "scattermapbox": [
           {
            "marker": {
             "colorbar": {
              "outlinewidth": 0,
              "ticks": ""
             }
            },
            "type": "scattermapbox"
           }
          ],
          "scatterpolar": [
           {
            "marker": {
             "colorbar": {
              "outlinewidth": 0,
              "ticks": ""
             }
            },
            "type": "scatterpolar"
           }
          ],
          "scatterpolargl": [
           {
            "marker": {
             "colorbar": {
              "outlinewidth": 0,
              "ticks": ""
             }
            },
            "type": "scatterpolargl"
           }
          ],
          "scatterternary": [
           {
            "marker": {
             "colorbar": {
              "outlinewidth": 0,
              "ticks": ""
             }
            },
            "type": "scatterternary"
           }
          ],
          "surface": [
           {
            "colorbar": {
             "outlinewidth": 0,
             "ticks": ""
            },
            "colorscale": [
             [
              0,
              "#0d0887"
             ],
             [
              0.1111111111111111,
              "#46039f"
             ],
             [
              0.2222222222222222,
              "#7201a8"
             ],
             [
              0.3333333333333333,
              "#9c179e"
             ],
             [
              0.4444444444444444,
              "#bd3786"
             ],
             [
              0.5555555555555556,
              "#d8576b"
             ],
             [
              0.6666666666666666,
              "#ed7953"
             ],
             [
              0.7777777777777778,
              "#fb9f3a"
             ],
             [
              0.8888888888888888,
              "#fdca26"
             ],
             [
              1,
              "#f0f921"
             ]
            ],
            "type": "surface"
           }
          ],
          "table": [
           {
            "cells": {
             "fill": {
              "color": "#EBF0F8"
             },
             "line": {
              "color": "white"
             }
            },
            "header": {
             "fill": {
              "color": "#C8D4E3"
             },
             "line": {
              "color": "white"
             }
            },
            "type": "table"
           }
          ]
         },
         "layout": {
          "annotationdefaults": {
           "arrowcolor": "#2a3f5f",
           "arrowhead": 0,
           "arrowwidth": 1
          },
          "autotypenumbers": "strict",
          "coloraxis": {
           "colorbar": {
            "outlinewidth": 0,
            "ticks": ""
           }
          },
          "colorscale": {
           "diverging": [
            [
             0,
             "#8e0152"
            ],
            [
             0.1,
             "#c51b7d"
            ],
            [
             0.2,
             "#de77ae"
            ],
            [
             0.3,
             "#f1b6da"
            ],
            [
             0.4,
             "#fde0ef"
            ],
            [
             0.5,
             "#f7f7f7"
            ],
            [
             0.6,
             "#e6f5d0"
            ],
            [
             0.7,
             "#b8e186"
            ],
            [
             0.8,
             "#7fbc41"
            ],
            [
             0.9,
             "#4d9221"
            ],
            [
             1,
             "#276419"
            ]
           ],
           "sequential": [
            [
             0,
             "#0d0887"
            ],
            [
             0.1111111111111111,
             "#46039f"
            ],
            [
             0.2222222222222222,
             "#7201a8"
            ],
            [
             0.3333333333333333,
             "#9c179e"
            ],
            [
             0.4444444444444444,
             "#bd3786"
            ],
            [
             0.5555555555555556,
             "#d8576b"
            ],
            [
             0.6666666666666666,
             "#ed7953"
            ],
            [
             0.7777777777777778,
             "#fb9f3a"
            ],
            [
             0.8888888888888888,
             "#fdca26"
            ],
            [
             1,
             "#f0f921"
            ]
           ],
           "sequentialminus": [
            [
             0,
             "#0d0887"
            ],
            [
             0.1111111111111111,
             "#46039f"
            ],
            [
             0.2222222222222222,
             "#7201a8"
            ],
            [
             0.3333333333333333,
             "#9c179e"
            ],
            [
             0.4444444444444444,
             "#bd3786"
            ],
            [
             0.5555555555555556,
             "#d8576b"
            ],
            [
             0.6666666666666666,
             "#ed7953"
            ],
            [
             0.7777777777777778,
             "#fb9f3a"
            ],
            [
             0.8888888888888888,
             "#fdca26"
            ],
            [
             1,
             "#f0f921"
            ]
           ]
          },
          "colorway": [
           "#636efa",
           "#EF553B",
           "#00cc96",
           "#ab63fa",
           "#FFA15A",
           "#19d3f3",
           "#FF6692",
           "#B6E880",
           "#FF97FF",
           "#FECB52"
          ],
          "font": {
           "color": "#2a3f5f"
          },
          "geo": {
           "bgcolor": "white",
           "lakecolor": "white",
           "landcolor": "#E5ECF6",
           "showlakes": true,
           "showland": true,
           "subunitcolor": "white"
          },
          "hoverlabel": {
           "align": "left"
          },
          "hovermode": "closest",
          "mapbox": {
           "style": "light"
          },
          "paper_bgcolor": "white",
          "plot_bgcolor": "#E5ECF6",
          "polar": {
           "angularaxis": {
            "gridcolor": "white",
            "linecolor": "white",
            "ticks": ""
           },
           "bgcolor": "#E5ECF6",
           "radialaxis": {
            "gridcolor": "white",
            "linecolor": "white",
            "ticks": ""
           }
          },
          "scene": {
           "xaxis": {
            "backgroundcolor": "#E5ECF6",
            "gridcolor": "white",
            "gridwidth": 2,
            "linecolor": "white",
            "showbackground": true,
            "ticks": "",
            "zerolinecolor": "white"
           },
           "yaxis": {
            "backgroundcolor": "#E5ECF6",
            "gridcolor": "white",
            "gridwidth": 2,
            "linecolor": "white",
            "showbackground": true,
            "ticks": "",
            "zerolinecolor": "white"
           },
           "zaxis": {
            "backgroundcolor": "#E5ECF6",
            "gridcolor": "white",
            "gridwidth": 2,
            "linecolor": "white",
            "showbackground": true,
            "ticks": "",
            "zerolinecolor": "white"
           }
          },
          "shapedefaults": {
           "line": {
            "color": "#2a3f5f"
           }
          },
          "ternary": {
           "aaxis": {
            "gridcolor": "white",
            "linecolor": "white",
            "ticks": ""
           },
           "baxis": {
            "gridcolor": "white",
            "linecolor": "white",
            "ticks": ""
           },
           "bgcolor": "#E5ECF6",
           "caxis": {
            "gridcolor": "white",
            "linecolor": "white",
            "ticks": ""
           }
          },
          "title": {
           "x": 0.05
          },
          "xaxis": {
           "automargin": true,
           "gridcolor": "white",
           "linecolor": "white",
           "ticks": "",
           "title": {
            "standoff": 15
           },
           "zerolinecolor": "white",
           "zerolinewidth": 2
          },
          "yaxis": {
           "automargin": true,
           "gridcolor": "white",
           "linecolor": "white",
           "ticks": "",
           "title": {
            "standoff": 15
           },
           "zerolinecolor": "white",
           "zerolinewidth": 2
          }
         }
        },
        "title": {
         "text": "training set"
        },
        "xaxis": {
         "anchor": "y",
         "domain": [
          0,
          1
         ],
         "title": {
          "text": "x"
         }
        },
        "yaxis": {
         "anchor": "x",
         "domain": [
          0,
          1
         ],
         "title": {
          "text": "y"
         }
        }
       }
      }
     },
     "metadata": {},
     "output_type": "display_data"
    },
    {
     "data": {
      "application/vnd.plotly.v1+json": {
       "config": {
        "plotlyServerURL": "https://plot.ly"
       },
       "data": [
        {
         "hovertemplate": "x=%{x}<br>y=%{y}<extra></extra>",
         "legendgroup": "",
         "marker": {
          "color": "#636efa",
          "symbol": "circle"
         },
         "mode": "markers",
         "name": "",
         "orientation": "v",
         "showlegend": false,
         "type": "scatter",
         "x": [
          18.4,
          20.2,
          21,
          19,
          20.2,
          19,
          20.2,
          20.2,
          18.4,
          17.6,
          19,
          21.2,
          17.8,
          21,
          19.2,
          18.7,
          17.8,
          20.2,
          18.5,
          21,
          20.2,
          14.9,
          18.6,
          19.2,
          16.1,
          20.2,
          20.2,
          15.2,
          15.2,
          20.2,
          20.2,
          21,
          18.6,
          21,
          18.9,
          14.9,
          15.2,
          21.2,
          18.5,
          17.4,
          18.4,
          20.2,
          18.7,
          18.6,
          20.2,
          17.8,
          18.4,
          20.2
         ],
         "xaxis": "x",
         "y": [
          18.4,
          20.2,
          21,
          19,
          20.2,
          19,
          20.2,
          20.2,
          18.4,
          17.600000000000005,
          19,
          21.199999999999996,
          17.8,
          20.999999999999996,
          19.2,
          18.7,
          17.8,
          20.2,
          18.5,
          21,
          20.199999999999996,
          14.900000000000004,
          18.6,
          19.2,
          16.100000000000005,
          20.2,
          20.2,
          15.200000000000003,
          15.200000000000003,
          20.2,
          20.2,
          21,
          18.6,
          21,
          18.9,
          14.900000000000004,
          15.200000000000003,
          21.199999999999996,
          18.5,
          17.4,
          18.4,
          20.2,
          18.7,
          18.6,
          20.2,
          17.8,
          18.4,
          20.2
         ],
         "yaxis": "y"
        },
        {
         "name": "real",
         "type": "scatter",
         "x": [
          18.4,
          20.2,
          21,
          19,
          20.2,
          19,
          20.2,
          20.2,
          18.4,
          17.6,
          19,
          21.2,
          17.8,
          21,
          19.2,
          18.7,
          17.8,
          20.2,
          18.5,
          21,
          20.2,
          14.9,
          18.6,
          19.2,
          16.1,
          20.2,
          20.2,
          15.2,
          15.2,
          20.2,
          20.2,
          21,
          18.6,
          21,
          18.9,
          14.9,
          15.2,
          21.2,
          18.5,
          17.4,
          18.4,
          20.2,
          18.7,
          18.6,
          20.2,
          17.8,
          18.4,
          20.2
         ],
         "y": [
          18.4,
          20.2,
          21,
          19,
          20.2,
          19,
          20.2,
          20.2,
          18.4,
          17.6,
          19,
          21.2,
          17.8,
          21,
          19.2,
          18.7,
          17.8,
          20.2,
          18.5,
          21,
          20.2,
          14.9,
          18.6,
          19.2,
          16.1,
          20.2,
          20.2,
          15.2,
          15.2,
          20.2,
          20.2,
          21,
          18.6,
          21,
          18.9,
          14.9,
          15.2,
          21.2,
          18.5,
          17.4,
          18.4,
          20.2,
          18.7,
          18.6,
          20.2,
          17.8,
          18.4,
          20.2
         ]
        },
        {
         "name": "predict",
         "type": "scatter",
         "x": [
          18.4,
          20.2,
          21,
          19,
          20.2,
          19,
          20.2,
          20.2,
          18.4,
          17.600000000000005,
          19,
          21.199999999999996,
          17.8,
          20.999999999999996,
          19.2,
          18.7,
          17.8,
          20.2,
          18.5,
          21,
          20.199999999999996,
          14.900000000000004,
          18.6,
          19.2,
          16.100000000000005,
          20.2,
          20.2,
          15.200000000000003,
          15.200000000000003,
          20.2,
          20.2,
          21,
          18.6,
          21,
          18.9,
          14.900000000000004,
          15.200000000000003,
          21.199999999999996,
          18.5,
          17.4,
          18.4,
          20.2,
          18.7,
          18.6,
          20.2,
          17.8,
          18.4,
          20.2
         ],
         "y": [
          18.4,
          20.2,
          21,
          19,
          20.2,
          19,
          20.2,
          20.2,
          18.4,
          17.600000000000005,
          19,
          21.199999999999996,
          17.8,
          20.999999999999996,
          19.2,
          18.7,
          17.8,
          20.2,
          18.5,
          21,
          20.199999999999996,
          14.900000000000004,
          18.6,
          19.2,
          16.100000000000005,
          20.2,
          20.2,
          15.200000000000003,
          15.200000000000003,
          20.2,
          20.2,
          21,
          18.6,
          21,
          18.9,
          14.900000000000004,
          15.200000000000003,
          21.199999999999996,
          18.5,
          17.4,
          18.4,
          20.2,
          18.7,
          18.6,
          20.2,
          17.8,
          18.4,
          20.2
         ]
        }
       ],
       "layout": {
        "legend": {
         "tracegroupgap": 0
        },
        "template": {
         "data": {
          "bar": [
           {
            "error_x": {
             "color": "#2a3f5f"
            },
            "error_y": {
             "color": "#2a3f5f"
            },
            "marker": {
             "line": {
              "color": "#E5ECF6",
              "width": 0.5
             },
             "pattern": {
              "fillmode": "overlay",
              "size": 10,
              "solidity": 0.2
             }
            },
            "type": "bar"
           }
          ],
          "barpolar": [
           {
            "marker": {
             "line": {
              "color": "#E5ECF6",
              "width": 0.5
             },
             "pattern": {
              "fillmode": "overlay",
              "size": 10,
              "solidity": 0.2
             }
            },
            "type": "barpolar"
           }
          ],
          "carpet": [
           {
            "aaxis": {
             "endlinecolor": "#2a3f5f",
             "gridcolor": "white",
             "linecolor": "white",
             "minorgridcolor": "white",
             "startlinecolor": "#2a3f5f"
            },
            "baxis": {
             "endlinecolor": "#2a3f5f",
             "gridcolor": "white",
             "linecolor": "white",
             "minorgridcolor": "white",
             "startlinecolor": "#2a3f5f"
            },
            "type": "carpet"
           }
          ],
          "choropleth": [
           {
            "colorbar": {
             "outlinewidth": 0,
             "ticks": ""
            },
            "type": "choropleth"
           }
          ],
          "contour": [
           {
            "colorbar": {
             "outlinewidth": 0,
             "ticks": ""
            },
            "colorscale": [
             [
              0,
              "#0d0887"
             ],
             [
              0.1111111111111111,
              "#46039f"
             ],
             [
              0.2222222222222222,
              "#7201a8"
             ],
             [
              0.3333333333333333,
              "#9c179e"
             ],
             [
              0.4444444444444444,
              "#bd3786"
             ],
             [
              0.5555555555555556,
              "#d8576b"
             ],
             [
              0.6666666666666666,
              "#ed7953"
             ],
             [
              0.7777777777777778,
              "#fb9f3a"
             ],
             [
              0.8888888888888888,
              "#fdca26"
             ],
             [
              1,
              "#f0f921"
             ]
            ],
            "type": "contour"
           }
          ],
          "contourcarpet": [
           {
            "colorbar": {
             "outlinewidth": 0,
             "ticks": ""
            },
            "type": "contourcarpet"
           }
          ],
          "heatmap": [
           {
            "colorbar": {
             "outlinewidth": 0,
             "ticks": ""
            },
            "colorscale": [
             [
              0,
              "#0d0887"
             ],
             [
              0.1111111111111111,
              "#46039f"
             ],
             [
              0.2222222222222222,
              "#7201a8"
             ],
             [
              0.3333333333333333,
              "#9c179e"
             ],
             [
              0.4444444444444444,
              "#bd3786"
             ],
             [
              0.5555555555555556,
              "#d8576b"
             ],
             [
              0.6666666666666666,
              "#ed7953"
             ],
             [
              0.7777777777777778,
              "#fb9f3a"
             ],
             [
              0.8888888888888888,
              "#fdca26"
             ],
             [
              1,
              "#f0f921"
             ]
            ],
            "type": "heatmap"
           }
          ],
          "heatmapgl": [
           {
            "colorbar": {
             "outlinewidth": 0,
             "ticks": ""
            },
            "colorscale": [
             [
              0,
              "#0d0887"
             ],
             [
              0.1111111111111111,
              "#46039f"
             ],
             [
              0.2222222222222222,
              "#7201a8"
             ],
             [
              0.3333333333333333,
              "#9c179e"
             ],
             [
              0.4444444444444444,
              "#bd3786"
             ],
             [
              0.5555555555555556,
              "#d8576b"
             ],
             [
              0.6666666666666666,
              "#ed7953"
             ],
             [
              0.7777777777777778,
              "#fb9f3a"
             ],
             [
              0.8888888888888888,
              "#fdca26"
             ],
             [
              1,
              "#f0f921"
             ]
            ],
            "type": "heatmapgl"
           }
          ],
          "histogram": [
           {
            "marker": {
             "pattern": {
              "fillmode": "overlay",
              "size": 10,
              "solidity": 0.2
             }
            },
            "type": "histogram"
           }
          ],
          "histogram2d": [
           {
            "colorbar": {
             "outlinewidth": 0,
             "ticks": ""
            },
            "colorscale": [
             [
              0,
              "#0d0887"
             ],
             [
              0.1111111111111111,
              "#46039f"
             ],
             [
              0.2222222222222222,
              "#7201a8"
             ],
             [
              0.3333333333333333,
              "#9c179e"
             ],
             [
              0.4444444444444444,
              "#bd3786"
             ],
             [
              0.5555555555555556,
              "#d8576b"
             ],
             [
              0.6666666666666666,
              "#ed7953"
             ],
             [
              0.7777777777777778,
              "#fb9f3a"
             ],
             [
              0.8888888888888888,
              "#fdca26"
             ],
             [
              1,
              "#f0f921"
             ]
            ],
            "type": "histogram2d"
           }
          ],
          "histogram2dcontour": [
           {
            "colorbar": {
             "outlinewidth": 0,
             "ticks": ""
            },
            "colorscale": [
             [
              0,
              "#0d0887"
             ],
             [
              0.1111111111111111,
              "#46039f"
             ],
             [
              0.2222222222222222,
              "#7201a8"
             ],
             [
              0.3333333333333333,
              "#9c179e"
             ],
             [
              0.4444444444444444,
              "#bd3786"
             ],
             [
              0.5555555555555556,
              "#d8576b"
             ],
             [
              0.6666666666666666,
              "#ed7953"
             ],
             [
              0.7777777777777778,
              "#fb9f3a"
             ],
             [
              0.8888888888888888,
              "#fdca26"
             ],
             [
              1,
              "#f0f921"
             ]
            ],
            "type": "histogram2dcontour"
           }
          ],
          "mesh3d": [
           {
            "colorbar": {
             "outlinewidth": 0,
             "ticks": ""
            },
            "type": "mesh3d"
           }
          ],
          "parcoords": [
           {
            "line": {
             "colorbar": {
              "outlinewidth": 0,
              "ticks": ""
             }
            },
            "type": "parcoords"
           }
          ],
          "pie": [
           {
            "automargin": true,
            "type": "pie"
           }
          ],
          "scatter": [
           {
            "fillpattern": {
             "fillmode": "overlay",
             "size": 10,
             "solidity": 0.2
            },
            "type": "scatter"
           }
          ],
          "scatter3d": [
           {
            "line": {
             "colorbar": {
              "outlinewidth": 0,
              "ticks": ""
             }
            },
            "marker": {
             "colorbar": {
              "outlinewidth": 0,
              "ticks": ""
             }
            },
            "type": "scatter3d"
           }
          ],
          "scattercarpet": [
           {
            "marker": {
             "colorbar": {
              "outlinewidth": 0,
              "ticks": ""
             }
            },
            "type": "scattercarpet"
           }
          ],
          "scattergeo": [
           {
            "marker": {
             "colorbar": {
              "outlinewidth": 0,
              "ticks": ""
             }
            },
            "type": "scattergeo"
           }
          ],
          "scattergl": [
           {
            "marker": {
             "colorbar": {
              "outlinewidth": 0,
              "ticks": ""
             }
            },
            "type": "scattergl"
           }
          ],
          "scattermapbox": [
           {
            "marker": {
             "colorbar": {
              "outlinewidth": 0,
              "ticks": ""
             }
            },
            "type": "scattermapbox"
           }
          ],
          "scatterpolar": [
           {
            "marker": {
             "colorbar": {
              "outlinewidth": 0,
              "ticks": ""
             }
            },
            "type": "scatterpolar"
           }
          ],
          "scatterpolargl": [
           {
            "marker": {
             "colorbar": {
              "outlinewidth": 0,
              "ticks": ""
             }
            },
            "type": "scatterpolargl"
           }
          ],
          "scatterternary": [
           {
            "marker": {
             "colorbar": {
              "outlinewidth": 0,
              "ticks": ""
             }
            },
            "type": "scatterternary"
           }
          ],
          "surface": [
           {
            "colorbar": {
             "outlinewidth": 0,
             "ticks": ""
            },
            "colorscale": [
             [
              0,
              "#0d0887"
             ],
             [
              0.1111111111111111,
              "#46039f"
             ],
             [
              0.2222222222222222,
              "#7201a8"
             ],
             [
              0.3333333333333333,
              "#9c179e"
             ],
             [
              0.4444444444444444,
              "#bd3786"
             ],
             [
              0.5555555555555556,
              "#d8576b"
             ],
             [
              0.6666666666666666,
              "#ed7953"
             ],
             [
              0.7777777777777778,
              "#fb9f3a"
             ],
             [
              0.8888888888888888,
              "#fdca26"
             ],
             [
              1,
              "#f0f921"
             ]
            ],
            "type": "surface"
           }
          ],
          "table": [
           {
            "cells": {
             "fill": {
              "color": "#EBF0F8"
             },
             "line": {
              "color": "white"
             }
            },
            "header": {
             "fill": {
              "color": "#C8D4E3"
             },
             "line": {
              "color": "white"
             }
            },
            "type": "table"
           }
          ]
         },
         "layout": {
          "annotationdefaults": {
           "arrowcolor": "#2a3f5f",
           "arrowhead": 0,
           "arrowwidth": 1
          },
          "autotypenumbers": "strict",
          "coloraxis": {
           "colorbar": {
            "outlinewidth": 0,
            "ticks": ""
           }
          },
          "colorscale": {
           "diverging": [
            [
             0,
             "#8e0152"
            ],
            [
             0.1,
             "#c51b7d"
            ],
            [
             0.2,
             "#de77ae"
            ],
            [
             0.3,
             "#f1b6da"
            ],
            [
             0.4,
             "#fde0ef"
            ],
            [
             0.5,
             "#f7f7f7"
            ],
            [
             0.6,
             "#e6f5d0"
            ],
            [
             0.7,
             "#b8e186"
            ],
            [
             0.8,
             "#7fbc41"
            ],
            [
             0.9,
             "#4d9221"
            ],
            [
             1,
             "#276419"
            ]
           ],
           "sequential": [
            [
             0,
             "#0d0887"
            ],
            [
             0.1111111111111111,
             "#46039f"
            ],
            [
             0.2222222222222222,
             "#7201a8"
            ],
            [
             0.3333333333333333,
             "#9c179e"
            ],
            [
             0.4444444444444444,
             "#bd3786"
            ],
            [
             0.5555555555555556,
             "#d8576b"
            ],
            [
             0.6666666666666666,
             "#ed7953"
            ],
            [
             0.7777777777777778,
             "#fb9f3a"
            ],
            [
             0.8888888888888888,
             "#fdca26"
            ],
            [
             1,
             "#f0f921"
            ]
           ],
           "sequentialminus": [
            [
             0,
             "#0d0887"
            ],
            [
             0.1111111111111111,
             "#46039f"
            ],
            [
             0.2222222222222222,
             "#7201a8"
            ],
            [
             0.3333333333333333,
             "#9c179e"
            ],
            [
             0.4444444444444444,
             "#bd3786"
            ],
            [
             0.5555555555555556,
             "#d8576b"
            ],
            [
             0.6666666666666666,
             "#ed7953"
            ],
            [
             0.7777777777777778,
             "#fb9f3a"
            ],
            [
             0.8888888888888888,
             "#fdca26"
            ],
            [
             1,
             "#f0f921"
            ]
           ]
          },
          "colorway": [
           "#636efa",
           "#EF553B",
           "#00cc96",
           "#ab63fa",
           "#FFA15A",
           "#19d3f3",
           "#FF6692",
           "#B6E880",
           "#FF97FF",
           "#FECB52"
          ],
          "font": {
           "color": "#2a3f5f"
          },
          "geo": {
           "bgcolor": "white",
           "lakecolor": "white",
           "landcolor": "#E5ECF6",
           "showlakes": true,
           "showland": true,
           "subunitcolor": "white"
          },
          "hoverlabel": {
           "align": "left"
          },
          "hovermode": "closest",
          "mapbox": {
           "style": "light"
          },
          "paper_bgcolor": "white",
          "plot_bgcolor": "#E5ECF6",
          "polar": {
           "angularaxis": {
            "gridcolor": "white",
            "linecolor": "white",
            "ticks": ""
           },
           "bgcolor": "#E5ECF6",
           "radialaxis": {
            "gridcolor": "white",
            "linecolor": "white",
            "ticks": ""
           }
          },
          "scene": {
           "xaxis": {
            "backgroundcolor": "#E5ECF6",
            "gridcolor": "white",
            "gridwidth": 2,
            "linecolor": "white",
            "showbackground": true,
            "ticks": "",
            "zerolinecolor": "white"
           },
           "yaxis": {
            "backgroundcolor": "#E5ECF6",
            "gridcolor": "white",
            "gridwidth": 2,
            "linecolor": "white",
            "showbackground": true,
            "ticks": "",
            "zerolinecolor": "white"
           },
           "zaxis": {
            "backgroundcolor": "#E5ECF6",
            "gridcolor": "white",
            "gridwidth": 2,
            "linecolor": "white",
            "showbackground": true,
            "ticks": "",
            "zerolinecolor": "white"
           }
          },
          "shapedefaults": {
           "line": {
            "color": "#2a3f5f"
           }
          },
          "ternary": {
           "aaxis": {
            "gridcolor": "white",
            "linecolor": "white",
            "ticks": ""
           },
           "baxis": {
            "gridcolor": "white",
            "linecolor": "white",
            "ticks": ""
           },
           "bgcolor": "#E5ECF6",
           "caxis": {
            "gridcolor": "white",
            "linecolor": "white",
            "ticks": ""
           }
          },
          "title": {
           "x": 0.05
          },
          "xaxis": {
           "automargin": true,
           "gridcolor": "white",
           "linecolor": "white",
           "ticks": "",
           "title": {
            "standoff": 15
           },
           "zerolinecolor": "white",
           "zerolinewidth": 2
          },
          "yaxis": {
           "automargin": true,
           "gridcolor": "white",
           "linecolor": "white",
           "ticks": "",
           "title": {
            "standoff": 15
           },
           "zerolinecolor": "white",
           "zerolinewidth": 2
          }
         }
        },
        "title": {
         "text": "test set"
        },
        "xaxis": {
         "anchor": "y",
         "domain": [
          0,
          1
         ],
         "title": {
          "text": "x"
         }
        },
        "yaxis": {
         "anchor": "x",
         "domain": [
          0,
          1
         ],
         "title": {
          "text": "y"
         }
        }
       }
      }
     },
     "metadata": {},
     "output_type": "display_data"
    }
   ],
   "source": [
    "# Cible Catégoriel\n",
    "if np.issubdtype(target_dtype, np.object_):\n",
    "    \n",
    "    conf_matrix_train = confusion_matrix(Y_train, Y_train_pred)\n",
    "    conf_matrix_test = confusion_matrix(Y_test, Y_test_pred)\n",
    "    class_names = Y_test.unique().tolist()\n",
    "\n",
    "    fig, (ax1, ax2) = plt.subplots(ncols=2, figsize=(10, 4))\n",
    "\n",
    "    sns.heatmap(conf_matrix_train, annot=True, cmap='Blues', ax=ax1, xticklabels=class_names, yticklabels=class_names)\n",
    "    ax1.set_xlabel('Predicted')\n",
    "    ax1.set_ylabel('True')\n",
    "    ax1.set_title('Train Confusion Matrix')\n",
    "\n",
    "    sns.heatmap(conf_matrix_test, annot=True, cmap='Blues', ax=ax2, xticklabels=class_names, yticklabels=class_names)\n",
    "    ax2.set_xlabel('Predicted')\n",
    "    ax2.set_ylabel('True')\n",
    "    ax2.set_title('Test Confusion Matrix')\n",
    "\n",
    "    plt.show()\n",
    "\n",
    "# Cible Continue\n",
    "else:\n",
    "    # Visualize the model\n",
    "    # Visualize predictions on training Set\n",
    "    fig = px.scatter(x = Y_train, y = Y_train_pred, title = \"training set\")\n",
    "    fig.add_trace(go.Scatter(x = Y_train, y = Y_train, name = \"real\"))\n",
    "    fig.add_trace(go.Scatter(x = Y_train_pred, y = Y_train_pred, name = \"predict\"))\n",
    "    fig.show()\n",
    "\n",
    "    # Visualize predictions on test Set\n",
    "    fig = px.scatter(x = Y_test, y = Y_test_pred, title = \"test set\")\n",
    "    fig.add_trace(go.Scatter(x = Y_test, y = Y_test, name = \"real\"))\n",
    "    fig.add_trace(go.Scatter(x = Y_test_pred, y = Y_test_pred, name = \"predict\"))\n",
    "    fig.show()"
   ]
  }
 ],
 "metadata": {
  "kernelspec": {
   "display_name": "Python 3",
   "language": "python",
   "name": "python3"
  },
  "language_info": {
   "codemirror_mode": {
    "name": "ipython",
    "version": 3
   },
   "file_extension": ".py",
   "mimetype": "text/x-python",
   "name": "python",
   "nbconvert_exporter": "python",
   "pygments_lexer": "ipython3",
   "version": "3.9.5"
  },
  "orig_nbformat": 4
 },
 "nbformat": 4,
 "nbformat_minor": 2
}
